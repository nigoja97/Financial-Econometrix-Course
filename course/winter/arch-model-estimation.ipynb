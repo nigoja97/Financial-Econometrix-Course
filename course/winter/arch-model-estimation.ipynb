{
 "cells": [
  {
   "cell_type": "markdown",
   "metadata": {},
   "source": [
    "## ARCH Model Estimation\n",
    "\n",
    "**Functions**\n",
    "\n",
    "`arch.arch_model`"
   ]
  },
  {
   "cell_type": "code",
   "execution_count": null,
   "metadata": {
    "execution": {
     "iopub.execute_input": "2021-09-22T10:10:14.276488Z",
     "iopub.status.busy": "2021-09-22T10:10:14.275487Z",
     "iopub.status.idle": "2021-09-22T10:10:14.567487Z",
     "shell.execute_reply": "2021-09-22T10:10:14.568485Z"
    },
    "jupyter": {
     "outputs_hidden": false
    }
   },
   "outputs": [],
   "source": []
  },
  {
   "cell_type": "markdown",
   "metadata": {},
   "source": [
    "### Exercise 74\n",
    "\n",
    "Estimate a GARCH(1,1) and a GJR-GARCH(1,1,1) to the returns of both series.\n",
    "\n",
    "**Note**: You need to install arch using\n",
    "\n",
    "```bash\n",
    "pip install arch\n",
    "```\n",
    "\n",
    "which contains ARCH and related models.\n",
    "\n",
    "Documentation and examples for the arch package [are available online](https://bashtage.github.io/arch)."
   ]
  },
  {
   "cell_type": "code",
   "execution_count": null,
   "metadata": {
    "execution": {
     "iopub.execute_input": "2021-09-22T10:10:15.409503Z",
     "iopub.status.busy": "2021-09-22T10:10:15.408497Z",
     "iopub.status.idle": "2021-09-22T10:10:16.379497Z",
     "shell.execute_reply": "2021-09-22T10:10:16.379497Z"
    },
    "jupyter": {
     "outputs_hidden": false
    }
   },
   "outputs": [],
   "source": []
  },
  {
   "cell_type": "markdown",
   "metadata": {},
   "source": [
    "### Exercise 75\n",
    "Comment on the asymmetry.\n",
    "\n",
    "  * Compare robust and non-robust standard errors.\n",
    "  * Plot the fit variance and fit volatility.\n",
    "  * Plot the standardized residuals.\n"
   ]
  },
  {
   "cell_type": "code",
   "execution_count": null,
   "metadata": {
    "execution": {
     "iopub.execute_input": "2021-09-22T10:10:16.605518Z",
     "iopub.status.busy": "2021-09-22T10:10:16.605518Z",
     "iopub.status.idle": "2021-09-22T10:10:16.648515Z",
     "shell.execute_reply": "2021-09-22T10:10:16.648515Z"
    },
    "jupyter": {
     "outputs_hidden": false
    }
   },
   "outputs": [],
   "source": []
  }
 ],
 "metadata": {
  "kernelspec": {
   "display_name": "Python 3 (ipykernel)",
   "language": "python",
   "name": "python3"
  },
  "language_info": {
   "codemirror_mode": {
    "name": "ipython",
    "version": 3
   },
   "file_extension": ".py",
   "mimetype": "text/x-python",
   "name": "python",
   "nbconvert_exporter": "python",
   "pygments_lexer": "ipython3",
   "version": "3.9.6"
  },
  "pycharm": {
   "stem_cell": {
    "cell_type": "raw",
    "metadata": {
     "collapsed": false
    },
    "source": []
   }
  }
 },
 "nbformat": 4,
 "nbformat_minor": 4
}
