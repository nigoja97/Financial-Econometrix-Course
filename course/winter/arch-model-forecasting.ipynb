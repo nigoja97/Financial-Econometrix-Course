{
 "cells": [
  {
   "cell_type": "markdown",
   "metadata": {},
   "source": [
    "## ARCH Model Forecasting\n",
    "\n",
    "**Functions**\n",
    "\n",
    "`sm.OLS`, `sm.WLS`\n",
    "\n",
    "\n",
    "### Exercise 77\n",
    "\n",
    "Use 50% of the sample to estimate your preferred GARCH model for returns to the S&P 500 and the\n",
    "EUR/USD rate, and construct forecasts for the remaining period."
   ]
  },
  {
   "cell_type": "code",
   "execution_count": null,
   "metadata": {
    "execution": {
     "iopub.execute_input": "2021-09-22T10:10:19.109079Z",
     "iopub.status.busy": "2021-09-22T10:10:19.108075Z",
     "iopub.status.idle": "2021-09-22T10:10:19.410130Z",
     "shell.execute_reply": "2021-09-22T10:10:19.411131Z"
    }
   },
   "outputs": [],
   "source": []
  },
  {
   "cell_type": "markdown",
   "metadata": {},
   "source": [
    "### Exercise 78\n",
    "\n",
    "Evaluate the accuracy of the forecasts."
   ]
  },
  {
   "cell_type": "code",
   "execution_count": null,
   "metadata": {
    "execution": {
     "iopub.execute_input": "2021-09-22T10:10:21.513192Z",
     "iopub.status.busy": "2021-09-22T10:10:21.513192Z",
     "iopub.status.idle": "2021-09-22T10:10:21.525195Z",
     "shell.execute_reply": "2021-09-22T10:10:21.525195Z"
    }
   },
   "outputs": [],
   "source": []
  },
  {
   "cell_type": "markdown",
   "metadata": {},
   "source": [
    "We can also use a weighted LS estimator where the variance is the inverse\n",
    "of the squared forecast.  The creates the MZ-GLS test.\n"
   ]
  },
  {
   "cell_type": "code",
   "execution_count": null,
   "metadata": {
    "execution": {
     "iopub.execute_input": "2021-09-22T10:10:22.131192Z",
     "iopub.status.busy": "2021-09-22T10:10:22.130192Z",
     "iopub.status.idle": "2021-09-22T10:10:22.144195Z",
     "shell.execute_reply": "2021-09-22T10:10:22.144195Z"
    }
   },
   "outputs": [],
   "source": []
  },
  {
   "cell_type": "markdown",
   "metadata": {},
   "source": [
    "### Exercise 79\n",
    "\n",
    "Evaluate the accuracy of forecasts from a 2-year backward moving average variance."
   ]
  },
  {
   "cell_type": "code",
   "execution_count": null,
   "metadata": {
    "execution": {
     "iopub.execute_input": "2021-09-22T10:10:22.150192Z",
     "iopub.status.busy": "2021-09-22T10:10:22.149194Z",
     "iopub.status.idle": "2021-09-22T10:10:22.458193Z",
     "shell.execute_reply": "2021-09-22T10:10:22.457194Z"
    }
   },
   "outputs": [],
   "source": []
  },
  {
   "cell_type": "markdown",
   "metadata": {},
   "source": [
    "### Exercise 80\n",
    "\n",
    "Compare the ARCH-model forecasts to a naive 2-year backward looking moving average using QLIKE."
   ]
  },
  {
   "cell_type": "code",
   "execution_count": null,
   "metadata": {
    "execution": {
     "iopub.execute_input": "2021-09-22T10:10:22.525192Z",
     "iopub.status.busy": "2021-09-22T10:10:22.525192Z",
     "iopub.status.idle": "2021-09-22T10:10:22.536193Z",
     "shell.execute_reply": "2021-09-22T10:10:22.536193Z"
    }
   },
   "outputs": [],
   "source": []
  }
 ],
 "metadata": {
  "kernelspec": {
   "display_name": "Python 3 (ipykernel)",
   "language": "python",
   "name": "python3"
  },
  "language_info": {
   "codemirror_mode": {
    "name": "ipython",
    "version": 3
   },
   "file_extension": ".py",
   "mimetype": "text/x-python",
   "name": "python",
   "nbconvert_exporter": "python",
   "pygments_lexer": "ipython3",
   "version": "3.9.6"
  },
  "pycharm": {
   "stem_cell": {
    "cell_type": "raw",
    "metadata": {
     "collapsed": false
    },
    "source": []
   }
  }
 },
 "nbformat": 4,
 "nbformat_minor": 4
}
