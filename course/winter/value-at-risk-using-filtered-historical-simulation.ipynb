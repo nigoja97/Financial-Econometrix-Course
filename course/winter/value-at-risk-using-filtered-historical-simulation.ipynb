{
 "cells": [
  {
   "cell_type": "markdown",
   "metadata": {},
   "source": [
    "## Value-at-Risk: Using Filtered Historical Simulation\n",
    "\n",
    "**Functions**\n",
    "\n",
    "`arch_model`, `ARCHModelResult.std_resid`, `np.percentile`\n",
    "\n",
    "### Exercise 82\n",
    "Use a GARCH(1,1) model to construct filtered historical VaR for the S&P 500 and\n",
    "the EUR/USD exchange rate, using 10 years of data.\n",
    "\n",
    "**Note**: For simplicity, estimate the model on the full sample, but start the\n",
    "historical simulation at 25% of the data, and then build the additional forecasts\n",
    "using a recursive scheme."
   ]
  },
  {
   "cell_type": "code",
   "execution_count": null,
   "metadata": {
    "execution": {
     "iopub.execute_input": "2021-09-22T10:10:36.236838Z",
     "iopub.status.busy": "2021-09-22T10:10:36.235837Z",
     "iopub.status.idle": "2021-09-22T10:10:38.041817Z",
     "shell.execute_reply": "2021-09-22T10:10:38.041817Z"
    }
   },
   "outputs": [],
   "source": []
  }
 ],
 "metadata": {
  "kernelspec": {
   "display_name": "Python 3 (ipykernel)",
   "language": "python",
   "name": "python3"
  },
  "language_info": {
   "codemirror_mode": {
    "name": "ipython",
    "version": 3
   },
   "file_extension": ".py",
   "mimetype": "text/x-python",
   "name": "python",
   "nbconvert_exporter": "python",
   "pygments_lexer": "ipython3",
   "version": "3.9.6"
  },
  "pycharm": {
   "stem_cell": {
    "cell_type": "raw",
    "metadata": {
     "collapsed": false
    },
    "source": []
   }
  }
 },
 "nbformat": 4,
 "nbformat_minor": 4
}
