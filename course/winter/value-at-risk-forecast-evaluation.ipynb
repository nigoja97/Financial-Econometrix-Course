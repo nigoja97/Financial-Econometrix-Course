{
 "cells": [
  {
   "cell_type": "markdown",
   "metadata": {},
   "source": [
    "## Value-at-Risk: Forecast Evaluation\n",
    "\n",
    "**Functions**\n",
    "\n",
    "`sm.OLS`, `stats.bernoulli`"
   ]
  },
  {
   "cell_type": "markdown",
   "metadata": {},
   "source": [
    "### Exercise 83\n",
    "    \n",
    "Compare this VaR to the HS VaR in the previous example.\n",
    "\n",
    "import pandas as pd"
   ]
  },
  {
   "cell_type": "code",
   "execution_count": null,
   "metadata": {
    "execution": {
     "iopub.execute_input": "2021-09-22T10:10:30.709746Z",
     "iopub.status.busy": "2021-09-22T10:10:30.709746Z",
     "iopub.status.idle": "2021-09-22T10:10:31.399746Z",
     "shell.execute_reply": "2021-09-22T10:10:31.399746Z"
    },
    "jupyter": {
     "outputs_hidden": false
    }
   },
   "outputs": [],
   "source": []
  },
  {
   "cell_type": "markdown",
   "metadata": {},
   "source": [
    "### Exercise 84\n",
    "Evaluate the FHS and HS VaR forecasts constructed in the previous exercises using:\n",
    "\n",
    "* HIT tests\n",
    "* The Bernoulli test for unconditionally correct VaR\n",
    "* Christoffersen’s test for conditionally correct VaR\n"
   ]
  },
  {
   "cell_type": "code",
   "execution_count": null,
   "metadata": {
    "execution": {
     "iopub.execute_input": "2021-09-22T10:10:33.470744Z",
     "iopub.status.busy": "2021-09-22T10:10:33.470744Z",
     "iopub.status.idle": "2021-09-22T10:10:33.654745Z",
     "shell.execute_reply": "2021-09-22T10:10:33.654745Z"
    },
    "jupyter": {
     "outputs_hidden": false
    }
   },
   "outputs": [],
   "source": []
  }
 ],
 "metadata": {
  "kernelspec": {
   "display_name": "Python 3 (ipykernel)",
   "language": "python",
   "name": "python3"
  },
  "language_info": {
   "codemirror_mode": {
    "name": "ipython",
    "version": 3
   },
   "file_extension": ".py",
   "mimetype": "text/x-python",
   "name": "python",
   "nbconvert_exporter": "python",
   "pygments_lexer": "ipython3",
   "version": "3.9.6"
  },
  "pycharm": {
   "stem_cell": {
    "cell_type": "raw",
    "metadata": {
     "collapsed": false
    },
    "source": []
   }
  }
 },
 "nbformat": 4,
 "nbformat_minor": 4
}
