{
 "cells": [
  {
   "cell_type": "markdown",
   "metadata": {},
   "source": [
    "Vector Autoregressions\n",
    "## Vector Autoregresion (VAR) Estimation\n",
    "\n",
    "**Functions**\n",
    "\n",
    "`tsa.VAR`\n",
    "\n",
    "### Exercise 85\n",
    "Download data on 10-year interest rates, 1-year interest rates and the\n",
    "GDP deflator from FRED."
   ]
  },
  {
   "cell_type": "code",
   "execution_count": null,
   "metadata": {
    "execution": {
     "iopub.execute_input": "2021-09-22T10:10:57.100401Z",
     "iopub.status.busy": "2021-09-22T10:10:57.100401Z",
     "iopub.status.idle": "2021-09-22T10:10:57.436401Z",
     "shell.execute_reply": "2021-09-22T10:10:57.436401Z"
    }
   },
   "outputs": [],
   "source": []
  },
  {
   "cell_type": "markdown",
   "metadata": {},
   "source": [
    "### Exercise 86\n",
    "Transform the GDP deflator to be percent returns (e.g. $\\Delta\\ln\\left(GDP_t\\right)$ )."
   ]
  },
  {
   "cell_type": "code",
   "execution_count": null,
   "metadata": {
    "execution": {
     "iopub.execute_input": "2021-09-22T10:10:57.476402Z",
     "iopub.status.busy": "2021-09-22T10:10:57.472403Z",
     "iopub.status.idle": "2021-09-22T10:10:57.482401Z",
     "shell.execute_reply": "2021-09-22T10:10:57.482401Z"
    }
   },
   "outputs": [],
   "source": []
  },
  {
   "cell_type": "markdown",
   "metadata": {},
   "source": [
    "### Exercise 87\n",
    "Estimate a first-order VAR on the spread between the 10-year and 1-year\n",
    "(spread), the one-year, and the growth rate of the GDP deflator."
   ]
  },
  {
   "cell_type": "code",
   "execution_count": null,
   "metadata": {
    "execution": {
     "iopub.execute_input": "2021-09-22T10:10:57.485401Z",
     "iopub.status.busy": "2021-09-22T10:10:57.485401Z",
     "iopub.status.idle": "2021-09-22T10:10:58.355402Z",
     "shell.execute_reply": "2021-09-22T10:10:58.355402Z"
    }
   },
   "outputs": [],
   "source": []
  },
  {
   "cell_type": "markdown",
   "metadata": {},
   "source": [
    "### Exercise 88\n",
    "What are the “own” effects?\n"
   ]
  },
  {
   "cell_type": "code",
   "execution_count": null,
   "metadata": {
    "execution": {
     "iopub.execute_input": "2021-09-22T10:10:58.392402Z",
     "iopub.status.busy": "2021-09-22T10:10:58.392402Z",
     "iopub.status.idle": "2021-09-22T10:10:58.401600Z",
     "shell.execute_reply": "2021-09-22T10:10:58.401600Z"
    }
   },
   "outputs": [],
   "source": []
  },
  {
   "cell_type": "markdown",
   "metadata": {},
   "source": [
    "### Exercise 89\n",
    "What are the cross effects between these?"
   ]
  },
  {
   "cell_type": "code",
   "execution_count": null,
   "metadata": {
    "execution": {
     "iopub.execute_input": "2021-09-22T10:10:58.458046Z",
     "iopub.status.busy": "2021-09-22T10:10:58.453047Z",
     "iopub.status.idle": "2021-09-22T10:10:58.464069Z",
     "shell.execute_reply": "2021-09-22T10:10:58.464069Z"
    }
   },
   "outputs": [],
   "source": []
  },
  {
   "cell_type": "markdown",
   "metadata": {},
   "source": [
    "### Exercise 90\n",
    "How could you get a sense of the persistence of this system?"
   ]
  },
  {
   "cell_type": "code",
   "execution_count": null,
   "metadata": {
    "execution": {
     "iopub.execute_input": "2021-09-22T10:10:58.467070Z",
     "iopub.status.busy": "2021-09-22T10:10:58.467070Z",
     "iopub.status.idle": "2021-09-22T10:10:58.479514Z",
     "shell.execute_reply": "2021-09-22T10:10:58.479514Z"
    }
   },
   "outputs": [],
   "source": []
  }
 ],
 "metadata": {
  "kernelspec": {
   "display_name": "Python 3 (ipykernel)",
   "language": "python",
   "name": "python3"
  },
  "language_info": {
   "codemirror_mode": {
    "name": "ipython",
    "version": 3
   },
   "file_extension": ".py",
   "mimetype": "text/x-python",
   "name": "python",
   "nbconvert_exporter": "python",
   "pygments_lexer": "ipython3",
   "version": "3.9.6"
  },
  "pycharm": {
   "stem_cell": {
    "cell_type": "raw",
    "metadata": {
     "collapsed": false
    },
    "source": []
   }
  }
 },
 "nbformat": 4,
 "nbformat_minor": 4
}
