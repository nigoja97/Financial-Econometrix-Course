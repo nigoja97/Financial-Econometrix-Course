{
 "cells": [
  {
   "cell_type": "markdown",
   "metadata": {},
   "source": [
    "## ARMA Modeling: Forecasting\n",
    "\n",
    "**Functions**\n",
    "\n",
    "`tsa.SARIMAX.forecast`\n",
    "\n",
    "### Exercise 70\n",
    "Produce 1-step forecasts from your preferred model in the previous exercise, as well\n",
    "as a random-walk model. \n",
    "\n",
    "1. Are the forecasts objectively accurate?\n",
    "2. Compare these forecasts to the random walk models using MSE and MAE.\n",
    "\n",
    "**Note**: Use 50% of the sample to estimate the model and 50% to evaluate it."
   ]
  },
  {
   "cell_type": "code",
   "execution_count": null,
   "metadata": {
    "execution": {
     "iopub.execute_input": "2021-09-22T10:06:12.805956Z",
     "iopub.status.busy": "2021-09-22T10:06:12.804952Z",
     "iopub.status.idle": "2021-09-22T10:06:13.483951Z",
     "shell.execute_reply": "2021-09-22T10:06:13.484951Z"
    }
   },
   "outputs": [],
   "source": []
  },
  {
   "cell_type": "markdown",
   "metadata": {},
   "source": [
    "### Exercise 71\n",
    "\n",
    "Produce 3-step forecasts from the models selected in the previous exercises as well as a random walk model.\n",
    "\n",
    "1. Compare these forecasts to the random walk models using MSE and MAE.\n"
   ]
  },
  {
   "cell_type": "code",
   "execution_count": null,
   "metadata": {
    "execution": {
     "iopub.execute_input": "2021-09-22T10:06:15.835951Z",
     "iopub.status.busy": "2021-09-22T10:06:15.834953Z",
     "iopub.status.idle": "2021-09-22T10:06:15.968954Z",
     "shell.execute_reply": "2021-09-22T10:06:15.967955Z"
    }
   },
   "outputs": [],
   "source": []
  }
 ],
 "metadata": {
  "kernelspec": {
   "display_name": "Python 3 (ipykernel)",
   "language": "python",
   "name": "python3"
  },
  "language_info": {
   "codemirror_mode": {
    "name": "ipython",
    "version": 3
   },
   "file_extension": ".py",
   "mimetype": "text/x-python",
   "name": "python",
   "nbconvert_exporter": "python",
   "pygments_lexer": "ipython3",
   "version": "3.9.6"
  },
  "pycharm": {
   "stem_cell": {
    "cell_type": "raw",
    "metadata": {
     "collapsed": false
    },
    "source": []
   }
  }
 },
 "nbformat": 4,
 "nbformat_minor": 4
}
