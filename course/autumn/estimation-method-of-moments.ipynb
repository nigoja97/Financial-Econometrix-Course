{
 "cells": [
  {
   "cell_type": "markdown",
   "metadata": {},
   "source": [
    "## Method of Moment Estimation\n",
    "\n",
    "**Functions**\n",
    "\n",
    "`DataFrame.mean`, `DatFrame.sum`, `plt.subplots`, `plt.plot`, `stats.kurtosis`, `stats.skewness`\n",
    "\n",
    "### Exercise 16\n",
    "Estimate the mean, variance, skewness and kurtosis of the S&P 500 and Hang Seng using\n",
    "the method of moments using monthly data."
   ]
  },
  {
   "cell_type": "code",
   "execution_count": null,
   "metadata": {
    "execution": {
     "iopub.execute_input": "2021-09-22T10:07:11.508265Z",
     "iopub.status.busy": "2021-09-22T10:07:11.508265Z",
     "iopub.status.idle": "2021-09-22T10:07:12.165264Z",
     "shell.execute_reply": "2021-09-22T10:07:12.166261Z"
    }
   },
   "outputs": [],
   "source": []
  },
  {
   "cell_type": "markdown",
   "metadata": {},
   "source": [
    "### Exercise 17\n",
    "Estimate the asymptotic covariance of the mean and variance of the two series (separately,\n",
    "but not the skewness and kurtosis). "
   ]
  },
  {
   "cell_type": "code",
   "execution_count": null,
   "metadata": {
    "execution": {
     "iopub.execute_input": "2021-09-22T10:07:12.200279Z",
     "iopub.status.busy": "2021-09-22T10:07:12.200279Z",
     "iopub.status.idle": "2021-09-22T10:07:12.212463Z",
     "shell.execute_reply": "2021-09-22T10:07:12.212463Z"
    }
   },
   "outputs": [],
   "source": []
  },
  {
   "cell_type": "markdown",
   "metadata": {},
   "source": [
    "### Exercise 18\n",
    "Estimate the Sharpe ratio of the two series and compute the asymptotic variance of\n",
    "the Sharpe ratio. See Chapter 2 of the notes for more on this problem.\n",
    "\n",
    "\n",
    "The asymptotic variance is computed as \n",
    "\n",
    "$$ D \\Sigma D^\\prime$$\n",
    "\n",
    "where\n",
    "\n",
    "$$ D = [\\sigma^{-1}, -1/2 \\mu \\sigma^{-3} ] $$\n",
    "\n",
    "and $\\Sigma$ is the asymptotic covariance of the mean and variance. Finally, we\n",
    "divide by $n$ the sample size when computing the statistic variance. "
   ]
  },
  {
   "cell_type": "code",
   "execution_count": null,
   "metadata": {
    "execution": {
     "iopub.execute_input": "2021-09-22T10:07:12.231486Z",
     "iopub.status.busy": "2021-09-22T10:07:12.231486Z",
     "iopub.status.idle": "2021-09-22T10:07:12.243490Z",
     "shell.execute_reply": "2021-09-22T10:07:12.244488Z"
    }
   },
   "outputs": [],
   "source": []
  },
  {
   "cell_type": "markdown",
   "metadata": {},
   "source": [
    "\n",
    "### Exercise 19\n",
    "Plot rolling estimates of the four moments using 120 months of consecutive data using a\n",
    "4 by 1 subplot against the dates.\n",
    "\n",
    "The simple approach to this problem uses a loop across 120, 121, ..., $n$ and computes\n",
    "the statistics using 120 observations. The figure is then created with a call to `plt.subplots`\n",
    "and the series can be directly plotted by calling `ax.plot`.\n",
    "\n",
    "The pandas-centric approach uses teh `rolling` method to compute rolling statistics and\n",
    "then uses `.plot.line` with `subplots=True` to produce the plot."
   ]
  },
  {
   "cell_type": "code",
   "execution_count": null,
   "metadata": {
    "execution": {
     "iopub.execute_input": "2021-09-22T10:07:12.264490Z",
     "iopub.status.busy": "2021-09-22T10:07:12.263489Z",
     "iopub.status.idle": "2021-09-22T10:07:12.764489Z",
     "shell.execute_reply": "2021-09-22T10:07:12.765490Z"
    }
   },
   "outputs": [],
   "source": []
  }
 ],
 "metadata": {
  "kernelspec": {
   "display_name": "Python 3 (ipykernel)",
   "language": "python",
   "name": "python3"
  },
  "language_info": {
   "codemirror_mode": {
    "name": "ipython",
    "version": 3
   },
   "file_extension": ".py",
   "mimetype": "text/x-python",
   "name": "python",
   "nbconvert_exporter": "python",
   "pygments_lexer": "ipython3",
   "version": "3.9.6"
  },
  "pycharm": {
   "stem_cell": {
    "cell_type": "raw",
    "metadata": {
     "collapsed": false
    },
    "source": []
   }
  }
 },
 "nbformat": 4,
 "nbformat_minor": 4
}
