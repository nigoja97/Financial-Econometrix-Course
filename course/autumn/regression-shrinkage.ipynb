{
 "cells": [
  {
   "cell_type": "markdown",
   "metadata": {},
   "source": [
    "## Linear Regression: Ridge Regression and LASSO\n",
    "\n",
    "**Functions**\n",
    "\n",
    "`sklearn.linear_model.RidgeCV`, `sklearn.linear_model.LassoCV`, `sklearn.preprocessing.StandardScaler`\n"
   ]
  },
  {
   "cell_type": "code",
   "execution_count": null,
   "metadata": {
    "execution": {
     "iopub.execute_input": "2021-09-22T10:10:00.941124Z",
     "iopub.status.busy": "2021-09-22T10:10:00.940125Z",
     "iopub.status.idle": "2021-09-22T10:10:02.035124Z",
     "shell.execute_reply": "2021-09-22T10:10:02.036125Z"
    }
   },
   "outputs": [],
   "source": []
  },
  {
   "cell_type": "markdown",
   "metadata": {},
   "source": [
    "### Exercise 49\n",
    "\n",
    "Standardize the value-weighted-market return data and the 12 industry portfolios by their standard deviation. You should _not_ remove the mean since we want to match the mean in the tracking portfolio."
   ]
  },
  {
   "cell_type": "code",
   "execution_count": null,
   "metadata": {
    "execution": {
     "iopub.execute_input": "2021-09-22T10:10:02.040123Z",
     "iopub.status.busy": "2021-09-22T10:10:02.039124Z",
     "iopub.status.idle": "2021-09-22T10:10:02.097124Z",
     "shell.execute_reply": "2021-09-22T10:10:02.097124Z"
    }
   },
   "outputs": [],
   "source": []
  },
  {
   "cell_type": "markdown",
   "metadata": {},
   "source": [
    "### Exercise 50\n",
    "\n",
    "Select the optimal tuning parameter in a LASSO and estimate model parameters for the tracking error minimizing portfolio using the standardized data."
   ]
  },
  {
   "cell_type": "code",
   "execution_count": null,
   "metadata": {
    "execution": {
     "iopub.execute_input": "2021-09-22T10:10:02.134123Z",
     "iopub.status.busy": "2021-09-22T10:10:02.133123Z",
     "iopub.status.idle": "2021-09-22T10:10:02.189124Z",
     "shell.execute_reply": "2021-09-22T10:10:02.189124Z"
    }
   },
   "outputs": [],
   "source": []
  },
  {
   "cell_type": "markdown",
   "metadata": {},
   "source": [
    "### Exercise 51\n",
    "\n",
    "Transform the estimated LASSO coefficients back to the scale of the original, non-standardized data."
   ]
  },
  {
   "cell_type": "code",
   "execution_count": null,
   "metadata": {
    "execution": {
     "iopub.execute_input": "2021-09-22T10:10:02.194122Z",
     "iopub.status.busy": "2021-09-22T10:10:02.194122Z",
     "iopub.status.idle": "2021-09-22T10:10:02.204123Z",
     "shell.execute_reply": "2021-09-22T10:10:02.205122Z"
    }
   },
   "outputs": [],
   "source": []
  },
  {
   "cell_type": "markdown",
   "metadata": {},
   "source": [
    "### Exercise 52\n",
    "\n",
    "Select the optimal tuning parameter in a Ridge regression and estimate model parameters for the tracking error minimizing portfolio using the standardized data."
   ]
  },
  {
   "cell_type": "code",
   "execution_count": null,
   "metadata": {
    "execution": {
     "iopub.execute_input": "2021-09-22T10:10:02.211123Z",
     "iopub.status.busy": "2021-09-22T10:10:02.211123Z",
     "iopub.status.idle": "2021-09-22T10:10:02.219122Z",
     "shell.execute_reply": "2021-09-22T10:10:02.219122Z"
    }
   },
   "outputs": [],
   "source": []
  },
  {
   "cell_type": "markdown",
   "metadata": {},
   "source": [
    "### Exercise 53\n",
    "\n",
    "Transform the estimated Ridge regression coefficients back to the scale of the original, non-standardized data."
   ]
  },
  {
   "cell_type": "code",
   "execution_count": null,
   "metadata": {
    "execution": {
     "iopub.execute_input": "2021-09-22T10:10:02.303122Z",
     "iopub.status.busy": "2021-09-22T10:10:02.303122Z",
     "iopub.status.idle": "2021-09-22T10:10:02.313122Z",
     "shell.execute_reply": "2021-09-22T10:10:02.313122Z"
    }
   },
   "outputs": [],
   "source": []
  },
  {
   "cell_type": "markdown",
   "metadata": {},
   "source": [
    "### Exercise 54\n",
    "\n",
    "Compare the parameter estimates from the LASSO and Ridge regression to those from OLS in a plot. Use the original, non-standardized data."
   ]
  },
  {
   "cell_type": "code",
   "execution_count": null,
   "metadata": {
    "execution": {
     "iopub.execute_input": "2021-09-22T10:10:02.317123Z",
     "iopub.status.busy": "2021-09-22T10:10:02.317123Z",
     "iopub.status.idle": "2021-09-22T10:10:03.432124Z",
     "shell.execute_reply": "2021-09-22T10:10:03.432124Z"
    }
   },
   "outputs": [],
   "source": []
  },
  {
   "cell_type": "markdown",
   "metadata": {},
   "source": [
    "### Exercise 55\n",
    "\n",
    "Use scikit-learn to scale the standardize the data by changing the scale but not the mean.\n"
   ]
  },
  {
   "cell_type": "code",
   "execution_count": null,
   "metadata": {
    "execution": {
     "iopub.execute_input": "2021-09-22T10:10:03.457124Z",
     "iopub.status.busy": "2021-09-22T10:10:03.456124Z",
     "iopub.status.idle": "2021-09-22T10:10:03.525638Z",
     "shell.execute_reply": "2021-09-22T10:10:03.525638Z"
    }
   },
   "outputs": [],
   "source": []
  },
  {
   "cell_type": "markdown",
   "metadata": {},
   "source": [
    "### Exercise 56\n",
    "\n",
    "Use the scikit-learn scaler to compute the predicted in-sample values using the Ridge ridge regression."
   ]
  },
  {
   "cell_type": "code",
   "execution_count": null,
   "metadata": {
    "execution": {
     "iopub.execute_input": "2021-09-22T10:10:03.530639Z",
     "iopub.status.busy": "2021-09-22T10:10:03.528641Z",
     "iopub.status.idle": "2021-09-22T10:10:03.540674Z",
     "shell.execute_reply": "2021-09-22T10:10:03.540674Z"
    }
   },
   "outputs": [],
   "source": []
  },
  {
   "cell_type": "markdown",
   "metadata": {},
   "source": [
    "### Exercise 57\n",
    "\n",
    "Use the scalar from scikit-learn to produce out-of-sample forecasts of the two shrinkage estimators and OLS and evaluate the out-of-sample SSE.\n"
   ]
  },
  {
   "cell_type": "code",
   "execution_count": null,
   "metadata": {
    "execution": {
     "iopub.execute_input": "2021-09-22T10:10:03.545678Z",
     "iopub.status.busy": "2021-09-22T10:10:03.545678Z",
     "iopub.status.idle": "2021-09-22T10:10:03.555835Z",
     "shell.execute_reply": "2021-09-22T10:10:03.555835Z"
    }
   },
   "outputs": [],
   "source": []
  },
  {
   "cell_type": "markdown",
   "metadata": {},
   "source": [
    "### Exercise 58\n",
    "\n",
    "Directly produce out-of-sample forecasts of the two shrinkage estimators and OLS and evaluate the out-of-sample SSE without using scikit-learn.\n"
   ]
  },
  {
   "cell_type": "code",
   "execution_count": null,
   "metadata": {
    "execution": {
     "iopub.execute_input": "2021-09-22T10:10:03.607287Z",
     "iopub.status.busy": "2021-09-22T10:10:03.607287Z",
     "iopub.status.idle": "2021-09-22T10:10:03.617670Z",
     "shell.execute_reply": "2021-09-22T10:10:03.617670Z"
    }
   },
   "outputs": [],
   "source": []
  }
 ],
 "metadata": {
  "kernelspec": {
   "display_name": "Python 3 (ipykernel)",
   "language": "python",
   "name": "python3"
  },
  "language_info": {
   "codemirror_mode": {
    "name": "ipython",
    "version": 3
   },
   "file_extension": ".py",
   "mimetype": "text/x-python",
   "name": "python",
   "nbconvert_exporter": "python",
   "pygments_lexer": "ipython3",
   "version": "3.9.6"
  }
 },
 "nbformat": 4,
 "nbformat_minor": 4
}
