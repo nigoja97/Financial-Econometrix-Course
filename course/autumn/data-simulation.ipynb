{
 "cells": [
  {
   "cell_type": "markdown",
   "metadata": {},
   "source": [
    "## Simulation\n",
    "\n",
    "Functions\n",
    "\n",
    "`np.random.standard_normal`, `np.random.standard_t`, `np.random.RandomState`\n",
    "\n",
    "### Exercise 5\n",
    "\n",
    "Simulate 100 standard Normal random variables\n"
   ]
  },
  {
   "cell_type": "code",
   "execution_count": null,
   "metadata": {
    "execution": {
     "iopub.execute_input": "2021-09-22T10:06:59.648245Z",
     "iopub.status.busy": "2021-09-22T10:06:59.648245Z",
     "iopub.status.idle": "2021-09-22T10:06:59.737245Z",
     "shell.execute_reply": "2021-09-22T10:06:59.737245Z"
    }
   },
   "outputs": [],
   "source": []
  },
  {
   "cell_type": "markdown",
   "metadata": {},
   "source": [
    "### Exercise 6\n",
    "\n",
    "Simulate 100 random variables from a $N\\left(.08,.2^{2}\\right)$"
   ]
  },
  {
   "cell_type": "code",
   "execution_count": null,
   "metadata": {
    "execution": {
     "iopub.execute_input": "2021-09-22T10:06:59.740244Z",
     "iopub.status.busy": "2021-09-22T10:06:59.739245Z",
     "iopub.status.idle": "2021-09-22T10:06:59.753245Z",
     "shell.execute_reply": "2021-09-22T10:06:59.753245Z"
    }
   },
   "outputs": [],
   "source": []
  },
  {
   "cell_type": "markdown",
   "metadata": {},
   "source": [
    "### Exercise 7\n",
    "\n",
    "Simulate 100 random variables from a Students t with 8 degrees of freedom\n"
   ]
  },
  {
   "cell_type": "code",
   "execution_count": null,
   "metadata": {
    "execution": {
     "iopub.execute_input": "2021-09-22T10:06:59.756245Z",
     "iopub.status.busy": "2021-09-22T10:06:59.755244Z",
     "iopub.status.idle": "2021-09-22T10:06:59.769246Z",
     "shell.execute_reply": "2021-09-22T10:06:59.769246Z"
    }
   },
   "outputs": [],
   "source": []
  },
  {
   "cell_type": "markdown",
   "metadata": {},
   "source": [
    "### Exercise 8\n",
    "\n",
    "Simulate 100 random variables from a Students t with 8 degrees of freedom with a mean of 8% and a volatility of 20%. Note: $V\\left[X\\right]=\\frac{\\nu}{\\nu-2}$ when $X\\sim t_{\\nu}$."
   ]
  },
  {
   "cell_type": "code",
   "execution_count": null,
   "metadata": {
    "execution": {
     "iopub.execute_input": "2021-09-22T10:06:59.772245Z",
     "iopub.status.busy": "2021-09-22T10:06:59.772245Z",
     "iopub.status.idle": "2021-09-22T10:06:59.785244Z",
     "shell.execute_reply": "2021-09-22T10:06:59.785244Z"
    }
   },
   "outputs": [],
   "source": []
  },
  {
   "cell_type": "markdown",
   "metadata": {},
   "source": [
    "\n",
    "### Exercise 9\n",
    "\n",
    "Simulate two identical sets of 100 standard normal random variables by resetting the random number generator."
   ]
  },
  {
   "cell_type": "code",
   "execution_count": null,
   "metadata": {
    "execution": {
     "iopub.execute_input": "2021-09-22T10:06:59.789244Z",
     "iopub.status.busy": "2021-09-22T10:06:59.789244Z",
     "iopub.status.idle": "2021-09-22T10:06:59.801264Z",
     "shell.execute_reply": "2021-09-22T10:06:59.801264Z"
    }
   },
   "outputs": [],
   "source": []
  },
  {
   "cell_type": "markdown",
   "metadata": {},
   "source": [
    "\n",
    "### Exercise 10\n",
    "\n",
    "Repeat exercise 7 using only `standard_normal`."
   ]
  },
  {
   "cell_type": "code",
   "execution_count": null,
   "metadata": {
    "execution": {
     "iopub.execute_input": "2021-09-22T10:06:59.836278Z",
     "iopub.status.busy": "2021-09-22T10:06:59.836278Z",
     "iopub.status.idle": "2021-09-22T10:06:59.847685Z",
     "shell.execute_reply": "2021-09-22T10:06:59.847685Z"
    }
   },
   "outputs": [],
   "source": []
  }
 ],
 "metadata": {
  "kernelspec": {
   "display_name": "Python 3 (ipykernel)",
   "language": "python",
   "name": "python3"
  },
  "language_info": {
   "codemirror_mode": {
    "name": "ipython",
    "version": 3
   },
   "file_extension": ".py",
   "mimetype": "text/x-python",
   "name": "python",
   "nbconvert_exporter": "python",
   "pygments_lexer": "ipython3",
   "version": "3.9.6"
  },
  "pycharm": {
   "stem_cell": {
    "cell_type": "raw",
    "metadata": {
     "collapsed": false
    },
    "source": []
   }
  }
 },
 "nbformat": 4,
 "nbformat_minor": 4
}
