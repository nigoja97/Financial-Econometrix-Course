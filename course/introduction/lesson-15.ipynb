{
 "cells": [
  {
   "cell_type": "markdown",
   "metadata": {},
   "source": [
    "# Boolean Arrays \n",
    "\n",
    "This lesson covers:\n",
    "\n",
    "* Creating Boolean arrays\n",
    "* Combining Boolean arrays\n",
    "* `all` and `any`\n",
    "\n",
    "Begin by loading the data in momentum.csv.\n"
   ]
  },
  {
   "cell_type": "code",
   "execution_count": null,
   "metadata": {
    "execution": {
     "iopub.execute_input": "2021-09-27T15:40:51.596135Z",
     "iopub.status.busy": "2021-09-27T15:40:51.596135Z",
     "iopub.status.idle": "2021-09-27T15:40:52.021133Z",
     "shell.execute_reply": "2021-09-27T15:40:52.021133Z"
    },
    "pycharm": {
     "name": "#%%\n"
    }
   },
   "outputs": [],
   "source": [
    "# Setup: Load the momentum data\n",
    "\n",
    "import numpy as np\n",
    "import pandas as pd\n",
    "\n",
    "momentum = pd.read_csv(\"data/momentum.csv\", index_col=\"date\", parse_dates=True)\n",
    "\n",
    "print(momentum.head())\n",
    "\n",
    "mom_01 = momentum[\"mom_01\"]\n",
    "mom_10 = momentum[\"mom_10\"]\n",
    "mom_05 = momentum[\"mom_05\"]"
   ]
  },
  {
   "cell_type": "markdown",
   "metadata": {},
   "source": [
    "## Problem: Boolean arrays\n",
    "For portfolios 1 and 10, determine whether each return is $<0$ (separately)."
   ]
  },
  {
   "cell_type": "code",
   "execution_count": null,
   "metadata": {
    "execution": {
     "iopub.execute_input": "2021-09-27T15:40:52.025133Z",
     "iopub.status.busy": "2021-09-27T15:40:52.024133Z",
     "iopub.status.idle": "2021-09-27T15:40:52.037137Z",
     "shell.execute_reply": "2021-09-27T15:40:52.037137Z"
    }
   },
   "outputs": [],
   "source": []
  },
  {
   "cell_type": "markdown",
   "metadata": {},
   "source": [
    "## Problem: Combining boolean arrays\n",
    "Count the number of times that the returns in both portfolio 1 and portfolio\n",
    "10 are negative. Next count the number of times that the returns in portfolios\n",
    "1 and 10 are both greater, in absolute value, that 2 times their respective\n",
    "standard deviations. "
   ]
  },
  {
   "cell_type": "code",
   "execution_count": null,
   "metadata": {
    "execution": {
     "iopub.execute_input": "2021-09-27T15:40:52.041133Z",
     "iopub.status.busy": "2021-09-27T15:40:52.040133Z",
     "iopub.status.idle": "2021-09-27T15:40:52.053086Z",
     "shell.execute_reply": "2021-09-27T15:40:52.053086Z"
    }
   },
   "outputs": [],
   "source": []
  },
  {
   "cell_type": "code",
   "execution_count": null,
   "metadata": {
    "execution": {
     "iopub.execute_input": "2021-09-27T15:40:52.056086Z",
     "iopub.status.busy": "2021-09-27T15:40:52.056086Z",
     "iopub.status.idle": "2021-09-27T15:40:52.068221Z",
     "shell.execute_reply": "2021-09-27T15:40:52.068221Z"
    }
   },
   "outputs": [],
   "source": []
  },
  {
   "cell_type": "markdown",
   "metadata": {},
   "source": [
    "## Problem: Combining boolean arrays\n",
    "For portfolios 1 and 10, count the number of times either of the returns is $<0$.\n"
   ]
  },
  {
   "cell_type": "code",
   "execution_count": null,
   "metadata": {
    "execution": {
     "iopub.execute_input": "2021-09-27T15:40:52.071221Z",
     "iopub.status.busy": "2021-09-27T15:40:52.071221Z",
     "iopub.status.idle": "2021-09-27T15:40:52.083220Z",
     "shell.execute_reply": "2021-09-27T15:40:52.083220Z"
    }
   },
   "outputs": [],
   "source": []
  },
  {
   "cell_type": "markdown",
   "metadata": {},
   "source": [
    "## Problem: Count the frequency of negative returns\n",
    "\n",
    "What percent of returns are negative for each of the 10 momentum portfolios?"
   ]
  },
  {
   "cell_type": "code",
   "execution_count": null,
   "metadata": {
    "execution": {
     "iopub.execute_input": "2021-09-27T15:40:52.091220Z",
     "iopub.status.busy": "2021-09-27T15:40:52.091220Z",
     "iopub.status.idle": "2021-09-27T15:40:52.099239Z",
     "shell.execute_reply": "2021-09-27T15:40:52.099239Z"
    }
   },
   "outputs": [],
   "source": []
  },
  {
   "cell_type": "markdown",
   "metadata": {},
   "source": [
    "## Problem: Use `any` to find large losses\n",
    "\n",
    "Use any to determine if any of the 10 portfolios experienced a loss\n",
    "greater than -5%."
   ]
  },
  {
   "cell_type": "code",
   "execution_count": null,
   "metadata": {
    "execution": {
     "iopub.execute_input": "2021-09-27T15:40:52.103242Z",
     "iopub.status.busy": "2021-09-27T15:40:52.102240Z",
     "iopub.status.idle": "2021-09-27T15:40:52.115261Z",
     "shell.execute_reply": "2021-09-27T15:40:52.115261Z"
    }
   },
   "outputs": [],
   "source": []
  },
  {
   "cell_type": "code",
   "execution_count": null,
   "metadata": {
    "execution": {
     "iopub.execute_input": "2021-09-27T15:40:52.119260Z",
     "iopub.status.busy": "2021-09-27T15:40:52.119260Z",
     "iopub.status.idle": "2021-09-27T15:40:52.131279Z",
     "shell.execute_reply": "2021-09-27T15:40:52.131279Z"
    }
   },
   "outputs": [],
   "source": []
  },
  {
   "cell_type": "code",
   "execution_count": null,
   "metadata": {
    "execution": {
     "iopub.execute_input": "2021-09-27T15:40:52.136281Z",
     "iopub.status.busy": "2021-09-27T15:40:52.135279Z",
     "iopub.status.idle": "2021-09-27T15:40:52.147282Z",
     "shell.execute_reply": "2021-09-27T15:40:52.147282Z"
    }
   },
   "outputs": [],
   "source": []
  },
  {
   "cell_type": "markdown",
   "metadata": {},
   "source": [
    "Use `all` and negation to do the same check as `any`."
   ]
  },
  {
   "cell_type": "code",
   "execution_count": null,
   "metadata": {
    "execution": {
     "iopub.execute_input": "2021-09-27T15:40:52.152283Z",
     "iopub.status.busy": "2021-09-27T15:40:52.151284Z",
     "iopub.status.idle": "2021-09-27T15:40:52.164279Z",
     "shell.execute_reply": "2021-09-27T15:40:52.163622Z"
    }
   },
   "outputs": [],
   "source": []
  },
  {
   "cell_type": "markdown",
   "metadata": {},
   "source": [
    "## Exercises\n",
    "\n",
    "### Exercise: all and any\n",
    "Use `all` and `sum` to count the number of days where all of the portfolio returns\n",
    "were negative. Use `any` to compute the number of days with at least 1 negative\n",
    "return and with no negative returns (Hint: use negation (~ or `logical_not`)). "
   ]
  },
  {
   "cell_type": "code",
   "execution_count": null,
   "metadata": {
    "execution": {
     "iopub.execute_input": "2021-09-27T15:40:52.167282Z",
     "iopub.status.busy": "2021-09-27T15:40:52.166280Z",
     "iopub.status.idle": "2021-09-27T15:40:52.179091Z",
     "shell.execute_reply": "2021-09-27T15:40:52.179091Z"
    }
   },
   "outputs": [],
   "source": []
  },
  {
   "cell_type": "code",
   "execution_count": null,
   "metadata": {
    "execution": {
     "iopub.execute_input": "2021-09-27T15:40:52.182088Z",
     "iopub.status.busy": "2021-09-27T15:40:52.182088Z",
     "iopub.status.idle": "2021-09-27T15:40:52.195020Z",
     "shell.execute_reply": "2021-09-27T15:40:52.195020Z"
    }
   },
   "outputs": [],
   "source": []
  },
  {
   "cell_type": "code",
   "execution_count": null,
   "metadata": {
    "execution": {
     "iopub.execute_input": "2021-09-27T15:40:52.199017Z",
     "iopub.status.busy": "2021-09-27T15:40:52.198019Z",
     "iopub.status.idle": "2021-09-27T15:40:52.211037Z",
     "shell.execute_reply": "2021-09-27T15:40:52.211037Z"
    }
   },
   "outputs": [],
   "source": []
  },
  {
   "cell_type": "markdown",
   "metadata": {
    "pycharm": {
     "name": "#%% md\n"
    }
   },
   "source": [
    "### Exercise: Count Extreme Days\n",
    "\n",
    "Count the number of days where each of the portfolio returns is less than the \n",
    "5% quantile for the portfolio. Also report the fraction of days where all are in their\n",
    "lower 5% tail."
   ]
  },
  {
   "cell_type": "code",
   "execution_count": null,
   "metadata": {
    "execution": {
     "iopub.execute_input": "2021-09-27T15:40:52.217037Z",
     "iopub.status.busy": "2021-09-27T15:40:52.214036Z",
     "iopub.status.idle": "2021-09-27T15:40:52.227036Z",
     "shell.execute_reply": "2021-09-27T15:40:52.227036Z"
    }
   },
   "outputs": [],
   "source": []
  },
  {
   "cell_type": "code",
   "execution_count": null,
   "metadata": {
    "execution": {
     "iopub.execute_input": "2021-09-27T15:40:52.230040Z",
     "iopub.status.busy": "2021-09-27T15:40:52.230040Z",
     "iopub.status.idle": "2021-09-27T15:40:52.242057Z",
     "shell.execute_reply": "2021-09-27T15:40:52.242057Z"
    },
    "tags": []
   },
   "outputs": [],
   "source": []
  }
 ],
 "metadata": {
  "kernelspec": {
   "display_name": "Python 3 (ipykernel)",
   "language": "python",
   "name": "python3"
  },
  "language_info": {
   "codemirror_mode": {
    "name": "ipython",
    "version": 3
   },
   "file_extension": ".py",
   "mimetype": "text/x-python",
   "name": "python",
   "nbconvert_exporter": "python",
   "pygments_lexer": "ipython3",
   "version": "3.9.7"
  },
  "pycharm": {
   "stem_cell": {
    "cell_type": "raw",
    "metadata": {
     "collapsed": false
    },
    "source": []
   }
  }
 },
 "nbformat": 4,
 "nbformat_minor": 4
}
