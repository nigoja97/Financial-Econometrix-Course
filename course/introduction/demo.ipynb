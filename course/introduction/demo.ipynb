{
 "cells": [
  {
   "cell_type": "markdown",
   "metadata": {
    "collapsed": true,
    "pycharm": {
     "name": "#%% md\n"
    }
   },
   "source": [
    "# Demonstration\n",
    "\n",
    "This file is used to demonstrate interacting with Jupyter notebooks\n",
    "in\n",
    "\n",
    "* VS Code\n",
    "* PyCharm Professional\n",
    "* Jupyter notebook server\n",
    "\n",
    "This code is used to illustrate the behavior of each of the platforms\n",
    "and. It is not necessary to understand the code itself at the beginning\n",
    "of the course.  The introduction will provide explanation of code used\n",
    "here. "
   ]
  },
  {
   "cell_type": "code",
   "execution_count": 8,
   "outputs": [],
   "source": [
    "import numpy as np\n",
    "\n",
    "x = 2 * np.pi\n",
    "print(f\"The value of 2π is {2 * np.pi}\")  "
   ],
   "metadata": {
    "collapsed": false,
    "pycharm": {
     "name": "#%%\n",
     "is_executing": false
    }
   }
  },
  {
   "cell_type": "code",
   "execution_count": 2,
   "outputs": [],
   "source": [
    "import pandas as pd\n",
    "df = pd.read_csv(\"data/momentum.csv\", parse_dates=True, index_col=\"date\")\n",
    "df.head()"
   ],
   "metadata": {
    "collapsed": false,
    "pycharm": {
     "name": "#%%\n",
     "is_executing": false
    }
   }
  },
  {
   "cell_type": "code",
   "execution_count": 11,
   "outputs": [],
   "source": [
    "%matplotlib inline\n",
    "\n",
    "import matplotlib.pyplot as plt\n",
    "import seaborn\n",
    "plt.rc(\"figure\", figsize=(16,6))\n",
    "seaborn.set_style(\"darkgrid\")\n",
    "\n",
    "e = np.random.standard_normal(100)\n",
    "y = np.cumsum(e)\n",
    "ax = plt.plot(y)"
   ],
   "metadata": {
    "collapsed": false,
    "pycharm": {
     "name": "#%%\n",
     "is_executing": false
    }
   }
  },
  {
   "cell_type": "markdown",
   "source": [
    "# Title\n",
    "## Chapter\n",
    "### Section\n",
    "\n",
    "This is an example of a markdown cell.  You can use **bold**, _italics_, and\n",
    "`monospace` formatting.  You can also have code blocks.\n",
    "\n",
    "```python\n",
    "for i in range(10):\n",
    "    print(i)\n",
    "```\n",
    "\n",
    "Markdown cells also support both inline math, $\\alpha+\\beta=\\gamma$ or entire\n",
    "lines,\n",
    "\n",
    "$$ f(x) = \\frac{1}{2\\pi}\\exp\\left(-\\frac{x^2}{2}\\right),$$\n",
    "\n",
    "using $\\LaTeX$ code. \n",
    "\n",
    "You can also include tables,\n",
    "\n",
    "| Parameter | Value |\n",
    "|-----------|-------|\n",
    "| $\\alpha$  | 0.05  |\n",
    "| $\\beta$   | 0.90  |"
   ],
   "metadata": {
    "collapsed": false,
    "pycharm": {
     "name": "#%% md\n"
    }
   }
  },
  {
   "cell_type": "code",
   "execution_count": null,
   "outputs": [],
   "source": [],
   "metadata": {
    "collapsed": false,
    "pycharm": {
     "name": "#%%\n"
    }
   }
  }
 ],
 "metadata": {
  "kernelspec": {
   "display_name": "Python 3",
   "language": "python",
   "name": "python3"
  },
  "language_info": {
   "codemirror_mode": {
    "name": "ipython",
    "version": 2
   },
   "file_extension": ".py",
   "mimetype": "text/x-python",
   "name": "python",
   "nbconvert_exporter": "python",
   "pygments_lexer": "ipython2",
   "version": "2.7.6"
  },
  "pycharm": {
   "stem_cell": {
    "cell_type": "raw",
    "source": [],
    "metadata": {
     "collapsed": false
    }
   }
  }
 },
 "nbformat": 4,
 "nbformat_minor": 0
}