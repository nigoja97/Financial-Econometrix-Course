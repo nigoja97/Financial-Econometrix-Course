{
 "cells": [
  {
   "cell_type": "markdown",
   "metadata": {},
   "source": [
    "# Accessing Elements in DataFrames\n",
    "\n",
    "This lesson covers:\n",
    "\n",
    "* Assessing specific elements in Pandas Series and DataFrames \n",
    "\n",
    "Accessing elements in an array or a DataFrame is a common task. To begin this\n",
    "lesson, clear the workspace set up some vectors and a $5\\times5$ array. These\n",
    "vectors and matrix will make it easy to determine which elements are selected\n",
    "by a command.\n",
    "\n",
    "Start by creating 2 DataFrame and 2 Series. Define `x=np.arange(24).reshape(5,5)` \n",
    "which is a 5 by 5 array and `y=np.arange(5)` which is a 5-element 1-d array.\n",
    "We need:\n",
    "\n",
    "* `x_df`: A default `DataFrame` containing `x`\n",
    "* `x_named`: A `DataFrame` containing `x` with index `\"r0\"`, `\"r1\"`, ..., `\"r4\"` and\n",
    "  columns `\"c0\"`, `\"c1\"`, ... `\"c4\"`.\n",
    "* `y_s`: A default `Series` containing `y`\n",
    "* `y_named`: A `Series` containing `y` that has the index `\"r0\"`, `\"r1\"`, ..., `\"r4\"`"
   ]
  },
  {
   "cell_type": "code",
   "execution_count": null,
   "metadata": {
    "execution": {
     "iopub.execute_input": "2021-09-27T15:40:38.379004Z",
     "iopub.status.busy": "2021-09-27T15:40:38.378002Z",
     "iopub.status.idle": "2021-09-27T15:40:38.794004Z",
     "shell.execute_reply": "2021-09-27T15:40:38.794004Z"
    }
   },
   "outputs": [],
   "source": []
  },
  {
   "cell_type": "markdown",
   "metadata": {},
   "source": [
    "## Problem: Selecting a row by name\n",
    "\n",
    "Select the 2nd row of `x_name` using `.loc`.\n"
   ]
  },
  {
   "cell_type": "code",
   "execution_count": null,
   "metadata": {
    "execution": {
     "iopub.execute_input": "2021-09-27T15:40:38.801001Z",
     "iopub.status.busy": "2021-09-27T15:40:38.801001Z",
     "iopub.status.idle": "2021-09-27T15:40:38.810004Z",
     "shell.execute_reply": "2021-09-27T15:40:38.810004Z"
    }
   },
   "outputs": [],
   "source": []
  },
  {
   "cell_type": "markdown",
   "metadata": {},
   "source": [
    "## Problem: Selecting a column by name\n",
    "\n",
    "Select the 2nd columns of `x_name` using  both `[]` and `.loc`."
   ]
  },
  {
   "cell_type": "code",
   "execution_count": null,
   "metadata": {
    "execution": {
     "iopub.execute_input": "2021-09-27T15:40:38.814002Z",
     "iopub.status.busy": "2021-09-27T15:40:38.814002Z",
     "iopub.status.idle": "2021-09-27T15:40:38.826004Z",
     "shell.execute_reply": "2021-09-27T15:40:38.826004Z"
    }
   },
   "outputs": [],
   "source": []
  },
  {
   "cell_type": "code",
   "execution_count": null,
   "metadata": {
    "execution": {
     "iopub.execute_input": "2021-09-27T15:40:38.829002Z",
     "iopub.status.busy": "2021-09-27T15:40:38.829002Z",
     "iopub.status.idle": "2021-09-27T15:40:38.842003Z",
     "shell.execute_reply": "2021-09-27T15:40:38.842003Z"
    }
   },
   "outputs": [],
   "source": []
  },
  {
   "cell_type": "code",
   "execution_count": null,
   "metadata": {
    "execution": {
     "iopub.execute_input": "2021-09-27T15:40:38.845002Z",
     "iopub.status.busy": "2021-09-27T15:40:38.845002Z",
     "iopub.status.idle": "2021-09-27T15:40:38.858004Z",
     "shell.execute_reply": "2021-09-27T15:40:38.858004Z"
    }
   },
   "outputs": [],
   "source": []
  },
  {
   "cell_type": "markdown",
   "metadata": {},
   "source": [
    "## Problem: Selecting a elements of a Series by name\n",
    "\n",
    "Select the 2nd element of `y_name` using both `[]` and `loc`.\n"
   ]
  },
  {
   "cell_type": "code",
   "execution_count": null,
   "metadata": {
    "execution": {
     "iopub.execute_input": "2021-09-27T15:40:38.860002Z",
     "iopub.status.busy": "2021-09-27T15:40:38.860002Z",
     "iopub.status.idle": "2021-09-27T15:40:38.873992Z",
     "shell.execute_reply": "2021-09-27T15:40:38.873992Z"
    }
   },
   "outputs": [],
   "source": []
  },
  {
   "cell_type": "code",
   "execution_count": null,
   "metadata": {
    "execution": {
     "iopub.execute_input": "2021-09-27T15:40:38.876992Z",
     "iopub.status.busy": "2021-09-27T15:40:38.876992Z",
     "iopub.status.idle": "2021-09-27T15:40:38.888681Z",
     "shell.execute_reply": "2021-09-27T15:40:38.888681Z"
    }
   },
   "outputs": [],
   "source": []
  },
  {
   "cell_type": "code",
   "execution_count": null,
   "metadata": {
    "execution": {
     "iopub.execute_input": "2021-09-27T15:40:38.891675Z",
     "iopub.status.busy": "2021-09-27T15:40:38.890675Z",
     "iopub.status.idle": "2021-09-27T15:40:38.903342Z",
     "shell.execute_reply": "2021-09-27T15:40:38.903342Z"
    }
   },
   "outputs": [],
   "source": []
  },
  {
   "cell_type": "markdown",
   "metadata": {},
   "source": [
    "## Problem: Selecting rows and columns by name\n",
    "\n",
    "Select the 2nd and 4th rows and 1st and 3rd columns of `x_name`."
   ]
  },
  {
   "cell_type": "code",
   "execution_count": null,
   "metadata": {
    "execution": {
     "iopub.execute_input": "2021-09-27T15:40:38.908341Z",
     "iopub.status.busy": "2021-09-27T15:40:38.907341Z",
     "iopub.status.idle": "2021-09-27T15:40:38.918629Z",
     "shell.execute_reply": "2021-09-27T15:40:38.918629Z"
    }
   },
   "outputs": [],
   "source": []
  },
  {
   "cell_type": "code",
   "execution_count": null,
   "metadata": {
    "execution": {
     "iopub.execute_input": "2021-09-27T15:40:38.923627Z",
     "iopub.status.busy": "2021-09-27T15:40:38.923627Z",
     "iopub.status.idle": "2021-09-27T15:40:38.934646Z",
     "shell.execute_reply": "2021-09-27T15:40:38.934646Z"
    }
   },
   "outputs": [],
   "source": []
  },
  {
   "cell_type": "code",
   "execution_count": null,
   "metadata": {
    "execution": {
     "iopub.execute_input": "2021-09-27T15:40:38.939644Z",
     "iopub.status.busy": "2021-09-27T15:40:38.939644Z",
     "iopub.status.idle": "2021-09-27T15:40:38.950023Z",
     "shell.execute_reply": "2021-09-27T15:40:38.950023Z"
    }
   },
   "outputs": [],
   "source": []
  },
  {
   "cell_type": "markdown",
   "metadata": {},
   "source": [
    "## Problem: DataFrame selection with default index and column names\n",
    "\n",
    "Select the 2nd and 4th rows and 1st and 3rd columns of `x_df`.\n"
   ]
  },
  {
   "cell_type": "code",
   "execution_count": null,
   "metadata": {
    "execution": {
     "iopub.execute_input": "2021-09-27T15:40:38.955021Z",
     "iopub.status.busy": "2021-09-27T15:40:38.954021Z",
     "iopub.status.idle": "2021-09-27T15:40:38.965832Z",
     "shell.execute_reply": "2021-09-27T15:40:38.965832Z"
    }
   },
   "outputs": [],
   "source": []
  },
  {
   "cell_type": "markdown",
   "metadata": {},
   "source": [
    "## Problem: Series selection with the default index\n",
    "\n",
    "Select the final element in `y_s`"
   ]
  },
  {
   "cell_type": "code",
   "execution_count": null,
   "metadata": {
    "execution": {
     "iopub.execute_input": "2021-09-27T15:40:38.968832Z",
     "iopub.status.busy": "2021-09-27T15:40:38.967830Z",
     "iopub.status.idle": "2021-09-27T15:40:38.980819Z",
     "shell.execute_reply": "2021-09-27T15:40:38.980819Z"
    }
   },
   "outputs": [],
   "source": []
  },
  {
   "cell_type": "code",
   "execution_count": null,
   "metadata": {
    "execution": {
     "iopub.execute_input": "2021-09-27T15:40:38.983819Z",
     "iopub.status.busy": "2021-09-27T15:40:38.982818Z",
     "iopub.status.idle": "2021-09-27T15:40:38.996761Z",
     "shell.execute_reply": "2021-09-27T15:40:38.996761Z"
    }
   },
   "outputs": [],
   "source": []
  },
  {
   "cell_type": "markdown",
   "metadata": {},
   "source": [
    "## Problem: Subseries selection\n",
    "Select the subseries of `y_named` and `y_s` containing the first, fourth and fifth element."
   ]
  },
  {
   "cell_type": "code",
   "execution_count": null,
   "metadata": {
    "execution": {
     "iopub.execute_input": "2021-09-27T15:40:39.000760Z",
     "iopub.status.busy": "2021-09-27T15:40:39.000760Z",
     "iopub.status.idle": "2021-09-27T15:40:39.012614Z",
     "shell.execute_reply": "2021-09-27T15:40:39.012614Z"
    }
   },
   "outputs": [],
   "source": []
  },
  {
   "cell_type": "code",
   "execution_count": null,
   "metadata": {
    "execution": {
     "iopub.execute_input": "2021-09-27T15:40:39.015611Z",
     "iopub.status.busy": "2021-09-27T15:40:39.015611Z",
     "iopub.status.idle": "2021-09-27T15:40:39.027107Z",
     "shell.execute_reply": "2021-09-27T15:40:39.027107Z"
    }
   },
   "outputs": [],
   "source": []
  },
  {
   "cell_type": "markdown",
   "metadata": {},
   "source": [
    "Load the data in momentum.csv."
   ]
  },
  {
   "cell_type": "code",
   "execution_count": null,
   "metadata": {
    "execution": {
     "iopub.execute_input": "2021-09-27T15:40:39.030107Z",
     "iopub.status.busy": "2021-09-27T15:40:39.030107Z",
     "iopub.status.idle": "2021-09-27T15:40:39.043111Z",
     "shell.execute_reply": "2021-09-27T15:40:39.043111Z"
    },
    "pycharm": {
     "is_executing": false
    }
   },
   "outputs": [],
   "source": [
    "# Setup: Load the momentum data\n",
    "\n",
    "import pandas as pd\n",
    "\n",
    "momentum = pd.read_csv(\"data/momentum.csv\", index_col=\"date\", parse_dates=True)\n",
    "momentum.head()"
   ]
  },
  {
   "cell_type": "markdown",
   "metadata": {
    "pycharm": {
     "name": "#%% md\n"
    }
   },
   "source": [
    "## Problem: Selecting data on a single day\n",
    "\n",
    "Select returns on February 16, 2016.\n"
   ]
  },
  {
   "cell_type": "code",
   "execution_count": null,
   "metadata": {
    "execution": {
     "iopub.execute_input": "2021-09-27T15:40:39.048106Z",
     "iopub.status.busy": "2021-09-27T15:40:39.048106Z",
     "iopub.status.idle": "2021-09-27T15:40:39.058475Z",
     "shell.execute_reply": "2021-09-27T15:40:39.058475Z"
    }
   },
   "outputs": [],
   "source": []
  },
  {
   "cell_type": "markdown",
   "metadata": {},
   "source": [
    "## Problem: Selecting data in a single month\n",
    "\n",
    "Select return in March 2016."
   ]
  },
  {
   "cell_type": "code",
   "execution_count": null,
   "metadata": {
    "execution": {
     "iopub.execute_input": "2021-09-27T15:40:39.069661Z",
     "iopub.status.busy": "2021-09-27T15:40:39.069661Z",
     "iopub.status.idle": "2021-09-27T15:40:39.073632Z",
     "shell.execute_reply": "2021-09-27T15:40:39.073632Z"
    }
   },
   "outputs": [],
   "source": []
  },
  {
   "cell_type": "markdown",
   "metadata": {},
   "source": [
    "## Problem: Selecting data in a single year\n",
    "\n",
    "Select return in 2016.\n"
   ]
  },
  {
   "cell_type": "code",
   "execution_count": null,
   "metadata": {
    "execution": {
     "iopub.execute_input": "2021-09-27T15:40:39.083633Z",
     "iopub.status.busy": "2021-09-27T15:40:39.082634Z",
     "iopub.status.idle": "2021-09-27T15:40:39.088838Z",
     "shell.execute_reply": "2021-09-27T15:40:39.088838Z"
    }
   },
   "outputs": [],
   "source": []
  },
  {
   "cell_type": "markdown",
   "metadata": {},
   "source": [
    "## Problem: Selecting data in a date range\n",
    "\n",
    "Select returns between May 1, 2016, and June 15, 2016."
   ]
  },
  {
   "cell_type": "code",
   "execution_count": null,
   "metadata": {
    "execution": {
     "iopub.execute_input": "2021-09-27T15:40:39.098836Z",
     "iopub.status.busy": "2021-09-27T15:40:39.098836Z",
     "iopub.status.idle": "2021-09-27T15:40:39.104511Z",
     "shell.execute_reply": "2021-09-27T15:40:39.104511Z"
    }
   },
   "outputs": [],
   "source": []
  },
  {
   "cell_type": "markdown",
   "metadata": {
    "pycharm": {
     "name": "#%% md\n"
    }
   },
   "source": [
    "## Exercises\n",
    "\n",
    "### Exercise: Subset time-series\n",
    "\n",
    "Select the data for May 2017 for momentum portfolios 1 and 10."
   ]
  },
  {
   "cell_type": "code",
   "execution_count": null,
   "metadata": {
    "execution": {
     "iopub.execute_input": "2021-09-27T15:40:39.112510Z",
     "iopub.status.busy": "2021-09-27T15:40:39.111510Z",
     "iopub.status.idle": "2021-09-27T15:40:39.120191Z",
     "shell.execute_reply": "2021-09-27T15:40:39.120191Z"
    },
    "jupyter": {
     "outputs_hidden": false
    }
   },
   "outputs": [],
   "source": []
  },
  {
   "cell_type": "markdown",
   "metadata": {
    "pycharm": {
     "name": "#%% md\n"
    }
   },
   "source": [
    "### Exercise: Select using Months\n",
    "\n",
    "Using a slice of YYYY-MM, select the returns for momentum portfolio\n",
    "5 in the final 6 months of 2016 as `Series`"
   ]
  },
  {
   "cell_type": "code",
   "execution_count": null,
   "metadata": {
    "execution": {
     "iopub.execute_input": "2021-09-27T15:40:39.126191Z",
     "iopub.status.busy": "2021-09-27T15:40:39.125191Z",
     "iopub.status.idle": "2021-09-27T15:40:39.135207Z",
     "shell.execute_reply": "2021-09-27T15:40:39.135207Z"
    },
    "jupyter": {
     "outputs_hidden": false
    }
   },
   "outputs": [],
   "source": []
  },
  {
   "cell_type": "markdown",
   "metadata": {},
   "source": [
    "### Exercise: Ensure DataFrame\n",
    "\n",
    "Repeat the previous problem but ensure the selection is a DataFrame."
   ]
  },
  {
   "cell_type": "code",
   "execution_count": null,
   "metadata": {
    "execution": {
     "iopub.execute_input": "2021-09-27T15:40:39.142207Z",
     "iopub.status.busy": "2021-09-27T15:40:39.141207Z",
     "iopub.status.idle": "2021-09-27T15:40:39.151141Z",
     "shell.execute_reply": "2021-09-27T15:40:39.151141Z"
    },
    "jupyter": {
     "outputs_hidden": false
    },
    "tags": []
   },
   "outputs": [],
   "source": []
  }
 ],
 "metadata": {
  "file_extension": ".py",
  "kernelspec": {
   "display_name": "Python 3 (ipykernel)",
   "language": "python",
   "name": "python3"
  },
  "language_info": {
   "codemirror_mode": {
    "name": "ipython",
    "version": 3
   },
   "file_extension": ".py",
   "mimetype": "text/x-python",
   "name": "python",
   "nbconvert_exporter": "python",
   "pygments_lexer": "ipython3",
   "version": "3.9.7"
  },
  "mimetype": "text/x-python",
  "name": "python",
  "npconvert_exporter": "python",
  "pycharm": {
   "stem_cell": {
    "cell_type": "raw",
    "metadata": {
     "collapsed": false
    },
    "source": []
   }
  },
  "pygments_lexer": "ipython3",
  "version": 3
 },
 "nbformat": 4,
 "nbformat_minor": 4
}
