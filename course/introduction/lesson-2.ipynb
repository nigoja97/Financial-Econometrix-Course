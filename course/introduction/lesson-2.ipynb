{
 "cells": [
  {
   "cell_type": "markdown",
   "metadata": {
    "collapsed": false
   },
   "source": [
    "# Basic Python Types\n",
    "\n",
    "This lesson covers:\n",
    "\n",
    "* Inputting scalars and strings\n",
    "* Lists\n",
    "* Tuples\n",
    "* Dictionaries\n"
   ]
  },
  {
   "cell_type": "markdown",
   "metadata": {
    "collapsed": false
   },
   "source": [
    "## Problem: Input scalar floating point and integers\n",
    "\n",
    "1. Create a variable called `scalar_float` containing $\\pi$ to 4 digits.\n",
    "2. Create a variable called `scalar_int` containing 31415. \n",
    "3. Print each value using the `print` function.   "
   ]
  },
  {
   "cell_type": "code",
   "execution_count": null,
   "metadata": {
    "execution": {
     "iopub.execute_input": "2021-09-22T08:37:49.938902Z",
     "iopub.status.busy": "2021-09-22T08:37:49.937901Z",
     "iopub.status.idle": "2021-09-22T08:37:49.946918Z",
     "shell.execute_reply": "2021-09-22T08:37:49.946918Z"
    }
   },
   "outputs": [],
   "source": []
  },
  {
   "cell_type": "markdown",
   "metadata": {
    "collapsed": false
   },
   "source": [
    "## Problem: Create a string and an f-string\n",
    "\n",
    "1. Create a variable called `a_string` containing `This is a string`\n",
    "2. Create a f-string the prints `The value of scalar_float is 3.1415` using\n",
    "   the variable created in the previous step\n",
    "3. Create two string, `first` containing `String concatenation` and the\n",
    "   second containing ` is like addition`, and join the two using `+` to produce\n",
    "   `String concatenation is like addition`. "
   ]
  },
  {
   "cell_type": "code",
   "execution_count": null,
   "metadata": {
    "execution": {
     "iopub.execute_input": "2021-09-22T08:37:49.949917Z",
     "iopub.status.busy": "2021-09-22T08:37:49.949917Z",
     "iopub.status.idle": "2021-09-22T08:37:49.962479Z",
     "shell.execute_reply": "2021-09-22T08:37:49.962479Z"
    }
   },
   "outputs": [],
   "source": []
  },
  {
   "cell_type": "markdown",
   "metadata": {
    "collapsed": false
   },
   "source": [
    "## Problem: Create a list\n",
    "\n",
    "1. Create a list containing `scalar_float` and `scalar_int`\n",
    "2. Add `a_string` to the list.\n",
    "3. Select the second element from the list \n",
    "4. Select the the lst two elements of the list"
   ]
  },
  {
   "cell_type": "code",
   "execution_count": null,
   "metadata": {
    "execution": {
     "iopub.execute_input": "2021-09-22T08:37:49.965478Z",
     "iopub.status.busy": "2021-09-22T08:37:49.965478Z",
     "iopub.status.idle": "2021-09-22T08:37:49.977905Z",
     "shell.execute_reply": "2021-09-22T08:37:49.977905Z"
    }
   },
   "outputs": [],
   "source": []
  },
  {
   "cell_type": "markdown",
   "metadata": {
    "collapsed": false
   },
   "source": [
    "## Problem: Create a list of lists\n",
    "\n",
    "1. Create a list containing the two lists `[1, 2, 3]` and `[4, 5, 6]`\n",
    "2. Select the element 5 from the nested list"
   ]
  },
  {
   "cell_type": "code",
   "execution_count": null,
   "metadata": {
    "execution": {
     "iopub.execute_input": "2021-09-22T08:37:49.980906Z",
     "iopub.status.busy": "2021-09-22T08:37:49.980906Z",
     "iopub.status.idle": "2021-09-22T08:37:49.993584Z",
     "shell.execute_reply": "2021-09-22T08:37:49.993584Z"
    }
   },
   "outputs": [],
   "source": []
  },
  {
   "cell_type": "markdown",
   "metadata": {
    "collapsed": false,
    "pycharm": {
     "name": "#%% md\n"
    }
   },
   "source": [
    "## Problem: Create a tuple\n",
    "\n",
    "1. Create a tuple containing the values (1, 2.0, \"c\")\n",
    "2. Select the element \"c\" from the tuple"
   ]
  },
  {
   "cell_type": "code",
   "execution_count": null,
   "metadata": {
    "execution": {
     "iopub.execute_input": "2021-09-22T08:37:49.995583Z",
     "iopub.status.busy": "2021-09-22T08:37:49.995583Z",
     "iopub.status.idle": "2021-09-22T08:37:50.009404Z",
     "shell.execute_reply": "2021-09-22T08:37:50.009404Z"
    }
   },
   "outputs": [],
   "source": []
  },
  {
   "cell_type": "markdown",
   "metadata": {
    "collapsed": false
   },
   "source": [
    "## Problem: Convert a list to a tuple and back\n",
    "\n",
    "1. Convert the list-of-lists created to a tuple-of-tuples\n",
    "2. Convert the tuple-of-tuples back to a list of lists"
   ]
  },
  {
   "cell_type": "code",
   "execution_count": null,
   "metadata": {
    "execution": {
     "iopub.execute_input": "2021-09-22T08:37:50.012402Z",
     "iopub.status.busy": "2021-09-22T08:37:50.012402Z",
     "iopub.status.idle": "2021-09-22T08:37:50.025407Z",
     "shell.execute_reply": "2021-09-22T08:37:50.025407Z"
    }
   },
   "outputs": [],
   "source": []
  },
  {
   "cell_type": "markdown",
   "metadata": {
    "collapsed": false
   },
   "source": [
    "## Problem: Create a dictionary\n",
    "\n",
    "1. Create a dictionary containing the key-value pairs `\"float\"` and 3.1415,\n",
    "   `\"int\"` and 31415, and `\"string\"` and `\"three-point-one-four-one-five\"`."
   ]
  },
  {
   "cell_type": "code",
   "execution_count": null,
   "metadata": {
    "execution": {
     "iopub.execute_input": "2021-09-22T08:37:50.028407Z",
     "iopub.status.busy": "2021-09-22T08:37:50.027406Z",
     "iopub.status.idle": "2021-09-22T08:37:50.040612Z",
     "shell.execute_reply": "2021-09-22T08:37:50.040612Z"
    }
   },
   "outputs": [],
   "source": []
  },
  {
   "cell_type": "markdown",
   "metadata": {
    "collapsed": false
   },
   "source": [
    "## Problem: Lookup and Change a value\n",
    "\n",
    "1. Look up the value of `\"float\"`.\n",
    "2. Change the value of `\"float\"` to `22 / 7`."
   ]
  },
  {
   "cell_type": "code",
   "execution_count": null,
   "metadata": {
    "execution": {
     "iopub.execute_input": "2021-09-22T08:37:50.043611Z",
     "iopub.status.busy": "2021-09-22T08:37:50.043611Z",
     "iopub.status.idle": "2021-09-22T08:37:50.056093Z",
     "shell.execute_reply": "2021-09-22T08:37:50.056093Z"
    }
   },
   "outputs": [],
   "source": []
  },
  {
   "cell_type": "markdown",
   "metadata": {
    "collapsed": false
   },
   "source": [
    "## Problem: Add and remove a key \n",
    "\n",
    "1. Add the new key \"better_float\" with the value 3.141592.\n",
    "2. Remove the key \"float\" and its value."
   ]
  },
  {
   "cell_type": "code",
   "execution_count": null,
   "metadata": {
    "execution": {
     "iopub.execute_input": "2021-09-22T08:37:50.059092Z",
     "iopub.status.busy": "2021-09-22T08:37:50.059092Z",
     "iopub.status.idle": "2021-09-22T08:37:50.071414Z",
     "shell.execute_reply": "2021-09-22T08:37:50.071414Z"
    }
   },
   "outputs": [],
   "source": []
  },
  {
   "cell_type": "markdown",
   "metadata": {
    "collapsed": false,
    "pycharm": {
     "name": "#%% md\n"
    }
   },
   "source": [
    "## Exercises\n",
    "\n",
    "### Exercise: Manipulating lists\n",
    "\n",
    "1. Create an empty list called `lst`\n",
    "2. Add the elements `9`, `\"Eight\"` and `7.0` (in order) to the list.\n",
    "3. Extend the list with the list `[\"Six\", 5, 4.0]` using `extend`\n",
    "4. Select first 4 elements of `lst`\n",
    "5. Select last 3 elements of `lst`\n"
   ]
  },
  {
   "cell_type": "code",
   "execution_count": null,
   "metadata": {
    "execution": {
     "iopub.execute_input": "2021-09-22T08:37:50.078412Z",
     "iopub.status.busy": "2021-09-22T08:37:50.078412Z",
     "iopub.status.idle": "2021-09-22T08:37:50.086757Z",
     "shell.execute_reply": "2021-09-22T08:37:50.086757Z"
    }
   },
   "outputs": [],
   "source": []
  },
  {
   "cell_type": "code",
   "execution_count": null,
   "metadata": {
    "execution": {
     "iopub.execute_input": "2021-09-22T08:37:50.089757Z",
     "iopub.status.busy": "2021-09-22T08:37:50.088759Z",
     "iopub.status.idle": "2021-09-22T08:37:50.102779Z",
     "shell.execute_reply": "2021-09-22T08:37:50.102779Z"
    }
   },
   "outputs": [],
   "source": []
  },
  {
   "cell_type": "code",
   "execution_count": null,
   "metadata": {
    "execution": {
     "iopub.execute_input": "2021-09-22T08:37:50.105778Z",
     "iopub.status.busy": "2021-09-22T08:37:50.105778Z",
     "iopub.status.idle": "2021-09-22T08:37:50.118288Z",
     "shell.execute_reply": "2021-09-22T08:37:50.118288Z"
    }
   },
   "outputs": [],
   "source": []
  },
  {
   "cell_type": "code",
   "execution_count": null,
   "metadata": {
    "execution": {
     "iopub.execute_input": "2021-09-22T08:37:50.121286Z",
     "iopub.status.busy": "2021-09-22T08:37:50.120285Z",
     "iopub.status.idle": "2021-09-22T08:37:50.133417Z",
     "shell.execute_reply": "2021-09-22T08:37:50.133417Z"
    }
   },
   "outputs": [],
   "source": []
  },
  {
   "cell_type": "code",
   "execution_count": null,
   "metadata": {
    "execution": {
     "iopub.execute_input": "2021-09-22T08:37:50.136415Z",
     "iopub.status.busy": "2021-09-22T08:37:50.136415Z",
     "iopub.status.idle": "2021-09-22T08:37:50.149416Z",
     "shell.execute_reply": "2021-09-22T08:37:50.149416Z"
    }
   },
   "outputs": [],
   "source": []
  },
  {
   "cell_type": "code",
   "execution_count": null,
   "metadata": {
    "execution": {
     "iopub.execute_input": "2021-09-22T08:37:50.152415Z",
     "iopub.status.busy": "2021-09-22T08:37:50.152415Z",
     "iopub.status.idle": "2021-09-22T08:37:50.164418Z",
     "shell.execute_reply": "2021-09-22T08:37:50.164418Z"
    }
   },
   "outputs": [],
   "source": []
  },
  {
   "cell_type": "code",
   "execution_count": null,
   "metadata": {
    "execution": {
     "iopub.execute_input": "2021-09-22T08:37:50.166416Z",
     "iopub.status.busy": "2021-09-22T08:37:50.166416Z",
     "iopub.status.idle": "2021-09-22T08:37:50.180416Z",
     "shell.execute_reply": "2021-09-22T08:37:50.180416Z"
    }
   },
   "outputs": [],
   "source": []
  },
  {
   "cell_type": "markdown",
   "metadata": {
    "collapsed": false,
    "pycharm": {
     "name": "#%% md\n"
    }
   },
   "source": [
    "### Exercise: Dictionary Manipulation\n",
    "\n",
    "1. Create a empty dictionary called `dct`\n",
    "2. Add the pairs \"apple\" and 1, \"banana\" and 2.0, and \"cherry\" and \"iii\"\n",
    "3. Replace the value of \"apple\" with \"I\"\n",
    "4. Remove the entry for \"banana\"\n",
    "5. Add an entry \"date\" with the value 4"
   ]
  },
  {
   "cell_type": "code",
   "execution_count": null,
   "metadata": {
    "execution": {
     "iopub.execute_input": "2021-09-22T08:37:50.182416Z",
     "iopub.status.busy": "2021-09-22T08:37:50.182416Z",
     "iopub.status.idle": "2021-09-22T08:37:50.196419Z",
     "shell.execute_reply": "2021-09-22T08:37:50.196419Z"
    }
   },
   "outputs": [],
   "source": []
  },
  {
   "cell_type": "code",
   "execution_count": null,
   "metadata": {
    "execution": {
     "iopub.execute_input": "2021-09-22T08:37:50.199416Z",
     "iopub.status.busy": "2021-09-22T08:37:50.198415Z",
     "iopub.status.idle": "2021-09-22T08:37:50.212420Z",
     "shell.execute_reply": "2021-09-22T08:37:50.212420Z"
    }
   },
   "outputs": [],
   "source": []
  },
  {
   "cell_type": "code",
   "execution_count": null,
   "metadata": {
    "execution": {
     "iopub.execute_input": "2021-09-22T08:37:50.215418Z",
     "iopub.status.busy": "2021-09-22T08:37:50.214417Z",
     "iopub.status.idle": "2021-09-22T08:37:50.228419Z",
     "shell.execute_reply": "2021-09-22T08:37:50.228419Z"
    }
   },
   "outputs": [],
   "source": []
  },
  {
   "cell_type": "code",
   "execution_count": null,
   "metadata": {
    "execution": {
     "iopub.execute_input": "2021-09-22T08:37:50.231416Z",
     "iopub.status.busy": "2021-09-22T08:37:50.230416Z",
     "iopub.status.idle": "2021-09-22T08:37:50.243418Z",
     "shell.execute_reply": "2021-09-22T08:37:50.243418Z"
    }
   },
   "outputs": [],
   "source": []
  },
  {
   "cell_type": "code",
   "execution_count": null,
   "metadata": {
    "execution": {
     "iopub.execute_input": "2021-09-22T08:37:50.246416Z",
     "iopub.status.busy": "2021-09-22T08:37:50.245416Z",
     "iopub.status.idle": "2021-09-22T08:37:50.259417Z",
     "shell.execute_reply": "2021-09-22T08:37:50.259417Z"
    }
   },
   "outputs": [],
   "source": []
  },
  {
   "cell_type": "markdown",
   "metadata": {
    "collapsed": false,
    "pycharm": {
     "name": "#%% md\n"
    }
   },
   "source": [
    "### Exercise: Directly create a Dictionary\n",
    "\n",
    "Using the final version of `dct` from the previous exercise:\n",
    "\n",
    "1. Directly initialize a new dictionary called `other_dct`.\n",
    "2. Use an f-string to print the values associated with each key.\n",
    "\n",
    "**Hint** You must use both types of quotes. For example, to access a value in\n",
    "an f-string.\n",
    "\n",
    "```python\n",
    "f\"{other_dct['apple']}\"\n",
    "```"
   ]
  },
  {
   "cell_type": "code",
   "execution_count": null,
   "metadata": {
    "execution": {
     "iopub.execute_input": "2021-09-22T08:37:50.262416Z",
     "iopub.status.busy": "2021-09-22T08:37:50.261416Z",
     "iopub.status.idle": "2021-09-22T08:37:50.276421Z",
     "shell.execute_reply": "2021-09-22T08:37:50.275418Z"
    }
   },
   "outputs": [],
   "source": []
  },
  {
   "cell_type": "code",
   "execution_count": null,
   "metadata": {
    "execution": {
     "iopub.execute_input": "2021-09-22T08:37:50.278415Z",
     "iopub.status.busy": "2021-09-22T08:37:50.277419Z",
     "iopub.status.idle": "2021-09-22T08:37:50.290416Z",
     "shell.execute_reply": "2021-09-22T08:37:50.290416Z"
    }
   },
   "outputs": [],
   "source": []
  },
  {
   "cell_type": "markdown",
   "metadata": {
    "collapsed": false
   },
   "source": [
    "### Exercise: Tuple Manipulation\n",
    "\n",
    "1. Create a tuple `tpl` containing 100 and 4\n",
    "2. Convert to a list, add the elements 101 and 5\n",
    "3. Convert back toa tuple"
   ]
  },
  {
   "cell_type": "code",
   "execution_count": null,
   "metadata": {
    "execution": {
     "iopub.execute_input": "2021-09-22T08:37:50.292416Z",
     "iopub.status.busy": "2021-09-22T08:37:50.292416Z",
     "iopub.status.idle": "2021-09-22T08:37:50.306416Z",
     "shell.execute_reply": "2021-09-22T08:37:50.307420Z"
    }
   },
   "outputs": [],
   "source": []
  },
  {
   "cell_type": "code",
   "execution_count": null,
   "metadata": {
    "execution": {
     "iopub.execute_input": "2021-09-22T08:37:50.309416Z",
     "iopub.status.busy": "2021-09-22T08:37:50.309416Z",
     "iopub.status.idle": "2021-09-22T08:37:50.322417Z",
     "shell.execute_reply": "2021-09-22T08:37:50.322417Z"
    }
   },
   "outputs": [],
   "source": []
  },
  {
   "cell_type": "code",
   "execution_count": null,
   "metadata": {
    "execution": {
     "iopub.execute_input": "2021-09-22T08:37:50.325415Z",
     "iopub.status.busy": "2021-09-22T08:37:50.325415Z",
     "iopub.status.idle": "2021-09-22T08:37:50.337417Z",
     "shell.execute_reply": "2021-09-22T08:37:50.337417Z"
    }
   },
   "outputs": [],
   "source": []
  }
 ],
 "metadata": {
  "kernelspec": {
   "display_name": "Python 3",
   "language": "python",
   "name": "python3"
  },
  "language_info": {
   "codemirror_mode": {
    "name": "ipython",
    "version": 3
   },
   "file_extension": ".py",
   "mimetype": "text/x-python",
   "name": "python",
   "nbconvert_exporter": "python",
   "pygments_lexer": "ipython3",
   "version": "3.9.6"
  },
  "pycharm": {
   "stem_cell": {
    "cell_type": "raw",
    "metadata": {
     "collapsed": false
    },
    "source": [
     "\n"
    ]
   }
  }
 },
 "nbformat": 4,
 "nbformat_minor": 1
}
