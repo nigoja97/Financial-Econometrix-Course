{
 "cells": [
  {
   "cell_type": "markdown",
   "metadata": {},
   "source": [
    "# Custom Functions\n",
    "\n",
    "This lesson covers:\n",
    "\n",
    "* Writing a custom function "
   ]
  },
  {
   "cell_type": "markdown",
   "metadata": {},
   "source": [
    "## Problem: Writing a Custom Function\n",
    "Custom functions will play an important role later in the course when\n",
    "estimating parameters. Construct a custom function that takes two arguments,\n",
    "mu and sigma2 and computes the likelihood function of a normal random variable. \n",
    "\n",
    "$$f(x;\\mu,\\sigma^{2})=\\frac{1}{\\sqrt{2\\pi\\sigma^{2}}}\\exp\\left(-\\frac{(x-\\mu)^{2}}{2\\sigma^{2}}\\right)$$\n",
    "\n",
    "Use `def` to start the function and compute the likelihood of:\n",
    "\n",
    "$$x=0,\\mu=0,\\sigma^{2}=1.$$\n",
    "\n",
    "The text in the triple quotes is the docstring which is optional."
   ]
  },
  {
   "cell_type": "code",
   "execution_count": null,
   "metadata": {
    "execution": {
     "iopub.execute_input": "2021-09-22T08:38:04.273033Z",
     "iopub.status.busy": "2021-09-22T08:38:04.273033Z",
     "iopub.status.idle": "2021-09-22T08:38:04.376033Z",
     "shell.execute_reply": "2021-09-22T08:38:04.376033Z"
    }
   },
   "outputs": [],
   "source": []
  },
  {
   "cell_type": "code",
   "execution_count": null,
   "metadata": {
    "execution": {
     "iopub.execute_input": "2021-09-22T08:38:04.379032Z",
     "iopub.status.busy": "2021-09-22T08:38:04.379032Z",
     "iopub.status.idle": "2021-09-22T08:38:04.392033Z",
     "shell.execute_reply": "2021-09-22T08:38:04.391033Z"
    }
   },
   "outputs": [],
   "source": []
  },
  {
   "cell_type": "code",
   "execution_count": null,
   "metadata": {
    "execution": {
     "iopub.execute_input": "2021-09-22T08:38:04.394034Z",
     "iopub.status.busy": "2021-09-22T08:38:04.394034Z",
     "iopub.status.idle": "2021-09-22T08:38:04.660034Z",
     "shell.execute_reply": "2021-09-22T08:38:04.660034Z"
    }
   },
   "outputs": [],
   "source": []
  },
  {
   "cell_type": "markdown",
   "metadata": {},
   "source": [
    "## Exercises\n",
    "\n",
    "### Exercise: Custom Function\n",
    "\n",
    "Write a function named summary_stats that will take a single input, x,\n",
    "a DataFrame and return a DataFrame with 4 columns and as many rows as\n",
    "there were columns in the original data where the columns contain the mean,\n",
    "standard deviation, skewness and kurtosis of x.\n",
    "\n",
    "Check your function by running\n",
    "```python\n",
    "summary_stats(momentum)\n",
    "```"
   ]
  },
  {
   "cell_type": "code",
   "execution_count": null,
   "metadata": {
    "execution": {
     "iopub.execute_input": "2021-09-22T08:38:04.663034Z",
     "iopub.status.busy": "2021-09-22T08:38:04.663034Z",
     "iopub.status.idle": "2021-09-22T08:38:04.927032Z",
     "shell.execute_reply": "2021-09-22T08:38:04.928034Z"
    }
   },
   "outputs": [],
   "source": [
    "# Setup: Load the momentum data\n",
    "import pandas as pd\n",
    "momentum = pd.read_csv(\"data\\momentum.csv\",index_col=\"date\", parse_dates=True)"
   ]
  },
  {
   "cell_type": "code",
   "execution_count": null,
   "metadata": {
    "execution": {
     "iopub.execute_input": "2021-09-22T08:38:04.931036Z",
     "iopub.status.busy": "2021-09-22T08:38:04.931036Z",
     "iopub.status.idle": "2021-09-22T08:38:04.943033Z",
     "shell.execute_reply": "2021-09-22T08:38:04.943033Z"
    }
   },
   "outputs": [],
   "source": []
  },
  {
   "cell_type": "markdown",
   "metadata": {},
   "source": [
    "Test your function using the momentum data in the next cell."
   ]
  },
  {
   "cell_type": "code",
   "execution_count": null,
   "metadata": {
    "execution": {
     "iopub.execute_input": "2021-09-22T08:38:04.947034Z",
     "iopub.status.busy": "2021-09-22T08:38:04.946035Z",
     "iopub.status.idle": "2021-09-22T08:38:04.975034Z",
     "shell.execute_reply": "2021-09-22T08:38:04.975034Z"
    }
   },
   "outputs": [],
   "source": []
  },
  {
   "cell_type": "markdown",
   "metadata": {},
   "source": [
    "### Exercise: Custom Function\n",
    "\n",
    "Change your previous function to return 4 outputs, each a pandas Series for the mean,\n",
    "standard deviation, skewness, and the kurtosis.\n",
    "\n",
    "Returning multiple outputs uses the syntax\n",
    "```python\n",
    "return w, x, y, z\n",
    "```\n",
    "\n",
    "Test your function using the momentum data."
   ]
  },
  {
   "cell_type": "code",
   "execution_count": null,
   "metadata": {
    "execution": {
     "iopub.execute_input": "2021-09-22T08:38:04.979035Z",
     "iopub.status.busy": "2021-09-22T08:38:04.978032Z",
     "iopub.status.idle": "2021-09-22T08:38:04.990032Z",
     "shell.execute_reply": "2021-09-22T08:38:04.990032Z"
    }
   },
   "outputs": [],
   "source": []
  },
  {
   "cell_type": "markdown",
   "metadata": {},
   "source": [
    "Test your function using the momentum data in the next cell."
   ]
  },
  {
   "cell_type": "code",
   "execution_count": null,
   "metadata": {
    "execution": {
     "iopub.execute_input": "2021-09-22T08:38:04.993033Z",
     "iopub.status.busy": "2021-09-22T08:38:04.993033Z",
     "iopub.status.idle": "2021-09-22T08:38:05.006033Z",
     "shell.execute_reply": "2021-09-22T08:38:05.006033Z"
    }
   },
   "outputs": [],
   "source": []
  }
 ],
 "metadata": {
  "file_extension": ".py",
  "kernelspec": {
   "display_name": "Python 3",
   "language": "python",
   "name": "python3"
  },
  "language_info": {
   "codemirror_mode": {
    "name": "ipython",
    "version": 3
   },
   "file_extension": ".py",
   "mimetype": "text/x-python",
   "name": "python",
   "nbconvert_exporter": "python",
   "pygments_lexer": "ipython3",
   "version": "3.9.6"
  },
  "mimetype": "text/x-python",
  "name": "python",
  "npconvert_exporter": "python",
  "pycharm": {
   "stem_cell": {
    "cell_type": "raw",
    "metadata": {
     "collapsed": false
    },
    "source": []
   }
  },
  "pygments_lexer": "ipython3",
  "version": 3
 },
 "nbformat": 4,
 "nbformat_minor": 2
}
