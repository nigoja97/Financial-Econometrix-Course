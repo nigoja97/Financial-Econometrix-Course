{
 "cells": [
  {
   "cell_type": "markdown",
   "metadata": {
    "collapsed": true,
    "pycharm": {
     "name": "#%% md\n"
    }
   },
   "source": [
    "# Methods and Functions\n",
    "\n",
    "This lesson covers:\n",
    "\n",
    "* Calling functions with more than one input and output \n",
    "* Calling functions when some inputs are not used"
   ]
  },
  {
   "cell_type": "markdown",
   "metadata": {},
   "source": [
    "Read the data in momentum.csv and creating some variable. This cell uses\n",
    "some magic to automate repeated typing."
   ]
  },
  {
   "cell_type": "code",
   "execution_count": null,
   "metadata": {
    "execution": {
     "iopub.execute_input": "2021-09-22T08:38:01.798439Z",
     "iopub.status.busy": "2021-09-22T08:38:01.798439Z",
     "iopub.status.idle": "2021-09-22T08:38:02.110440Z",
     "shell.execute_reply": "2021-09-22T08:38:02.110440Z"
    },
    "pycharm": {
     "is_executing": false
    }
   },
   "outputs": [],
   "source": [
    "# Setup: Load the momentum data\n",
    "import pandas as pd\n",
    "\n",
    "momentum = pd.read_csv(\"data/momentum.csv\", index_col=\"date\", parse_dates=True)\n",
    "\n",
    "print(momentum.head())\n",
    "\n",
    "mom_01 = momentum[\"mom_01\"]\n",
    "mom_10 = momentum[\"mom_10\"]"
   ]
  },
  {
   "cell_type": "markdown",
   "metadata": {},
   "source": [
    "This data set contains 2 years of data on the 10 momentum portfolios from\n",
    "2016–2018. The variables are named mom_XX where XX ranges from 01 (work\n",
    "return over the past 12 months) to 10 (best return over the past 12 months). "
   ]
  },
  {
   "cell_type": "markdown",
   "metadata": {
    "pycharm": {
     "name": "#%% md\n"
    }
   },
   "source": [
    "## Problem: Calling Methods\n",
    "Get used to calling methods by computing the mean, standard deviation, skewness, kurtosis, max, and min. \n",
    "\n",
    "Use the DataFrame functions `mean`, `std`, `skew` and `kurt`, `min` and `max` to print the\n",
    "values for `mom_01`.\n",
    "\n",
    "In the second cell, call `describe`, a method that summarizes `Series` and `DataFrames` on `mom_01`."
   ]
  },
  {
   "cell_type": "code",
   "execution_count": null,
   "metadata": {
    "execution": {
     "iopub.execute_input": "2021-09-22T08:38:02.114439Z",
     "iopub.status.busy": "2021-09-22T08:38:02.113439Z",
     "iopub.status.idle": "2021-09-22T08:38:02.125440Z",
     "shell.execute_reply": "2021-09-22T08:38:02.125440Z"
    }
   },
   "outputs": [],
   "source": []
  },
  {
   "cell_type": "code",
   "execution_count": null,
   "metadata": {
    "execution": {
     "iopub.execute_input": "2021-09-22T08:38:02.133440Z",
     "iopub.status.busy": "2021-09-22T08:38:02.128439Z",
     "iopub.status.idle": "2021-09-22T08:38:02.141439Z",
     "shell.execute_reply": "2021-09-22T08:38:02.141439Z"
    }
   },
   "outputs": [],
   "source": []
  },
  {
   "cell_type": "markdown",
   "metadata": {
    "pycharm": {
     "name": "#%% md\n"
    }
   },
   "source": [
    "## Problem: Use NumPy and SciPy functions\n",
    "\n",
    "Use the NumPy functions `mean`, `std`, `min`, `max` and the SciPy `stats` functions\n",
    "`skew` and `kurtosis` to produce the same output."
   ]
  },
  {
   "cell_type": "code",
   "execution_count": null,
   "metadata": {
    "execution": {
     "iopub.execute_input": "2021-09-22T08:38:02.144438Z",
     "iopub.status.busy": "2021-09-22T08:38:02.144438Z",
     "iopub.status.idle": "2021-09-22T08:38:02.409441Z",
     "shell.execute_reply": "2021-09-22T08:38:02.409441Z"
    }
   },
   "outputs": [],
   "source": []
  },
  {
   "cell_type": "markdown",
   "metadata": {
    "pycharm": {
     "name": "#%% md\n"
    }
   },
   "source": [
    "## Problem: Calling Functions with 2 Outputs\n",
    "\n",
    "Some useful functions return 2 or more outputs. One example is ``np.linalg.slogdet`` \n",
    "computes the signed log determinant of a square array. It returns two output,\n",
    "the sign and the log of the absolute determinant.\n",
    "\n",
    "Use this function to compute the sign and log determinant of the 2 by 2 array:\n",
    "\n",
    "```\n",
    "1  2\n",
    "2  9\n",
    "```  "
   ]
  },
  {
   "cell_type": "code",
   "execution_count": null,
   "metadata": {
    "execution": {
     "iopub.execute_input": "2021-09-22T08:38:02.412439Z",
     "iopub.status.busy": "2021-09-22T08:38:02.412439Z",
     "iopub.status.idle": "2021-09-22T08:38:02.424729Z",
     "shell.execute_reply": "2021-09-22T08:38:02.424729Z"
    }
   },
   "outputs": [],
   "source": []
  },
  {
   "cell_type": "code",
   "execution_count": null,
   "metadata": {
    "execution": {
     "iopub.execute_input": "2021-09-22T08:38:02.427729Z",
     "iopub.status.busy": "2021-09-22T08:38:02.426728Z",
     "iopub.status.idle": "2021-09-22T08:38:02.440402Z",
     "shell.execute_reply": "2021-09-22T08:38:02.440402Z"
    }
   },
   "outputs": [],
   "source": []
  },
  {
   "cell_type": "markdown",
   "metadata": {},
   "source": [
    "## Problem: Calling Functions with 2 Inputs\n",
    "\n",
    "Many functions take two or more inputs. Like outputs, the inputs are simply\n",
    "listed in order separated by commas. Use `np.linspace` to produce a series\n",
    "of 11 points evenly spaced between 0 and 1.\n",
    "\n",
    "```\n",
    "np.linspace(start, stop, num=50, endpoint=True, retstep=False, dtype=None, axis=0)\n",
    "```  "
   ]
  },
  {
   "cell_type": "code",
   "execution_count": null,
   "metadata": {
    "execution": {
     "iopub.execute_input": "2021-09-22T08:38:02.443401Z",
     "iopub.status.busy": "2021-09-22T08:38:02.443401Z",
     "iopub.status.idle": "2021-09-22T08:38:02.455704Z",
     "shell.execute_reply": "2021-09-22T08:38:02.455704Z"
    }
   },
   "outputs": [],
   "source": []
  },
  {
   "cell_type": "markdown",
   "metadata": {},
   "source": [
    "## Problem: Calling Functions using Keyword Arguments\n",
    "\n",
    "Many functions have optional arguments. You can see these in a docstring since\n",
    "optional arguments take the form `variable=default`. For example, see\n",
    "the help for `scipy.special.comb`, which has the function signature\n",
    "\n",
    "```\n",
    "comb(N, k, exact=False, repetition=False)\n",
    "```\n",
    "\n",
    "This tells us that `N` and `k` are required and\n",
    "that the other 2 inputs can be omitted if you are happy with the defaults.\n",
    "However, if we want to change some of the optional inputs, then we can\n",
    "directly use the inputs name in the function call.\n",
    "\n",
    "Compute the number of distinct combinations of 5 objects from a set of 10."
   ]
  },
  {
   "cell_type": "code",
   "execution_count": null,
   "metadata": {
    "execution": {
     "iopub.execute_input": "2021-09-22T08:38:02.458704Z",
     "iopub.status.busy": "2021-09-22T08:38:02.457704Z",
     "iopub.status.idle": "2021-09-22T08:38:02.470764Z",
     "shell.execute_reply": "2021-09-22T08:38:02.470764Z"
    }
   },
   "outputs": [],
   "source": []
  },
  {
   "cell_type": "markdown",
   "metadata": {
    "pycharm": {
     "name": "#%% md\n"
    }
   },
   "source": [
    "Compute the total number of combinations allowing for repetition \n",
    "using the `repetition=True` keyword argument."
   ]
  },
  {
   "cell_type": "code",
   "execution_count": null,
   "metadata": {
    "execution": {
     "iopub.execute_input": "2021-09-22T08:38:02.473763Z",
     "iopub.status.busy": "2021-09-22T08:38:02.472763Z",
     "iopub.status.idle": "2021-09-22T08:38:02.486707Z",
     "shell.execute_reply": "2021-09-22T08:38:02.486707Z"
    }
   },
   "outputs": [],
   "source": []
  },
  {
   "cell_type": "markdown",
   "metadata": {
    "pycharm": {
     "name": "#%% md\n"
    }
   },
   "source": [
    "Compute the number of combinations using the exact representation using \n",
    "only positional arguments for all 3 inputs.  Repeat using the keyword\n",
    "argument for `exact`."
   ]
  },
  {
   "cell_type": "code",
   "execution_count": null,
   "metadata": {
    "execution": {
     "iopub.execute_input": "2021-09-22T08:38:02.488708Z",
     "iopub.status.busy": "2021-09-22T08:38:02.488708Z",
     "iopub.status.idle": "2021-09-22T08:38:02.502123Z",
     "shell.execute_reply": "2021-09-22T08:38:02.502123Z"
    }
   },
   "outputs": [],
   "source": []
  },
  {
   "cell_type": "code",
   "execution_count": null,
   "metadata": {
    "execution": {
     "iopub.execute_input": "2021-09-22T08:38:02.504123Z",
     "iopub.status.busy": "2021-09-22T08:38:02.504123Z",
     "iopub.status.idle": "2021-09-22T08:38:02.517141Z",
     "shell.execute_reply": "2021-09-22T08:38:02.517141Z"
    }
   },
   "outputs": [],
   "source": []
  },
  {
   "cell_type": "markdown",
   "metadata": {
    "pycharm": {
     "name": "#%% md\n"
    }
   },
   "source": [
    "## Problem: Function Help\n",
    "\n",
    "Explore the help available for calling functions `?` operator. For example,\n",
    "\n",
    "```python\n",
    "import scipy.stats as stats\n",
    "\n",
    "stats.kurtosis?\n",
    "```  \n",
    "\n",
    "opens a help window that shows the inputs and output, while\n",
    "\n",
    "```python\n",
    "help(stats.kurtosis)\n",
    "```\n",
    "\n",
    "shows the help in the console.\n",
    "\n",
    "**Note**: VS Code does **not** support the `?` form of help"
   ]
  },
  {
   "cell_type": "code",
   "execution_count": null,
   "metadata": {
    "execution": {
     "iopub.execute_input": "2021-09-22T08:38:02.552160Z",
     "iopub.status.busy": "2021-09-22T08:38:02.552160Z",
     "iopub.status.idle": "2021-09-22T08:38:02.564532Z",
     "shell.execute_reply": "2021-09-22T08:38:02.564532Z"
    }
   },
   "outputs": [],
   "source": []
  },
  {
   "cell_type": "code",
   "execution_count": null,
   "metadata": {
    "execution": {
     "iopub.execute_input": "2021-09-22T08:38:02.567530Z",
     "iopub.status.busy": "2021-09-22T08:38:02.566530Z",
     "iopub.status.idle": "2021-09-22T08:38:02.580270Z",
     "shell.execute_reply": "2021-09-22T08:38:02.580270Z"
    }
   },
   "outputs": [],
   "source": []
  },
  {
   "cell_type": "markdown",
   "metadata": {
    "pycharm": {
     "name": "#%% md\n"
    }
   },
   "source": [
    "## Problem: Use `help` with a method\n",
    "\n",
    "Use `help` to get the help for the `kurt` method attached to `momentum`."
   ]
  },
  {
   "cell_type": "code",
   "execution_count": null,
   "metadata": {
    "execution": {
     "iopub.execute_input": "2021-09-22T08:38:02.582270Z",
     "iopub.status.busy": "2021-09-22T08:38:02.582270Z",
     "iopub.status.idle": "2021-09-22T08:38:02.596306Z",
     "shell.execute_reply": "2021-09-22T08:38:02.596306Z"
    }
   },
   "outputs": [],
   "source": []
  },
  {
   "cell_type": "markdown",
   "metadata": {
    "collapsed": false,
    "pycharm": {
     "name": "#%% md\n"
    }
   },
   "source": [
    "## Exercises\n",
    "\n",
    "### Exercise: Use `info`\n",
    "\n",
    "Use the `info` method on `momentum` to get information about this `DataFrame`."
   ]
  },
  {
   "cell_type": "code",
   "execution_count": null,
   "metadata": {
    "execution": {
     "iopub.execute_input": "2021-09-22T08:38:02.602305Z",
     "iopub.status.busy": "2021-09-22T08:38:02.602305Z",
     "iopub.status.idle": "2021-09-22T08:38:02.612320Z",
     "shell.execute_reply": "2021-09-22T08:38:02.612320Z"
    }
   },
   "outputs": [],
   "source": []
  },
  {
   "cell_type": "markdown",
   "metadata": {
    "collapsed": false,
    "pycharm": {
     "name": "#%% md\n"
    }
   },
   "source": [
    "### Exercise: Compute the day-by-day mean\n",
    "\n",
    "Compute the day-by-day mean return of the portfolios in the momentum `DataFrame` using\n",
    "the `axis` keyword argument. Use `head` and `tail` to show\n",
    "the first 5 rows and last 5 rows "
   ]
  },
  {
   "cell_type": "code",
   "execution_count": null,
   "metadata": {
    "execution": {
     "iopub.execute_input": "2021-09-22T08:38:02.616320Z",
     "iopub.status.busy": "2021-09-22T08:38:02.616320Z",
     "iopub.status.idle": "2021-09-22T08:38:02.628338Z",
     "shell.execute_reply": "2021-09-22T08:38:02.628338Z"
    }
   },
   "outputs": [],
   "source": []
  },
  {
   "cell_type": "code",
   "execution_count": null,
   "metadata": {
    "execution": {
     "iopub.execute_input": "2021-09-22T08:38:02.632338Z",
     "iopub.status.busy": "2021-09-22T08:38:02.632338Z",
     "iopub.status.idle": "2021-09-22T08:38:02.644357Z",
     "shell.execute_reply": "2021-09-22T08:38:02.644357Z"
    }
   },
   "outputs": [],
   "source": []
  },
  {
   "cell_type": "markdown",
   "metadata": {
    "collapsed": false,
    "pycharm": {
     "name": "#%% md\n"
    }
   },
   "source": [
    "### Exercise: Compute the standard deviation of mean returns\n",
    "\n",
    "Compute the standard deviation of the mean returns by chaining methods."
   ]
  },
  {
   "cell_type": "code",
   "execution_count": null,
   "metadata": {
    "execution": {
     "iopub.execute_input": "2021-09-22T08:38:02.647354Z",
     "iopub.status.busy": "2021-09-22T08:38:02.647354Z",
     "iopub.status.idle": "2021-09-22T08:38:02.659580Z",
     "shell.execute_reply": "2021-09-22T08:38:02.659580Z"
    }
   },
   "outputs": [],
   "source": []
  },
  {
   "cell_type": "markdown",
   "metadata": {
    "collapsed": false,
    "pycharm": {
     "name": "#%% md\n"
    }
   },
   "source": [
    "### Exercise: Compute the average standard deviation\n",
    "\n",
    "Compute the mean standard deviation as:\n",
    "\n",
    "$$ \\sqrt{N^{-1} \\sum_{i=1}^N V[r_i]} $$\n",
    "\n",
    "where $V[r_i]$ is the variance of portfolio $i$."
   ]
  },
  {
   "cell_type": "code",
   "execution_count": null,
   "metadata": {
    "execution": {
     "iopub.execute_input": "2021-09-22T08:38:02.662575Z",
     "iopub.status.busy": "2021-09-22T08:38:02.661576Z",
     "iopub.status.idle": "2021-09-22T08:38:02.674705Z",
     "shell.execute_reply": "2021-09-22T08:38:02.674705Z"
    }
   },
   "outputs": [],
   "source": []
  }
 ],
 "metadata": {
  "file_extension": ".py",
  "kernelspec": {
   "display_name": "Python 3",
   "language": "python",
   "name": "python3"
  },
  "language_info": {
   "codemirror_mode": {
    "name": "ipython",
    "version": 3
   },
   "file_extension": ".py",
   "mimetype": "text/x-python",
   "name": "python",
   "nbconvert_exporter": "python",
   "pygments_lexer": "ipython3",
   "version": "3.9.6"
  },
  "mimetype": "text/x-python",
  "name": "python",
  "npconvert_exporter": "python",
  "pycharm": {
   "stem_cell": {
    "cell_type": "raw",
    "metadata": {
     "collapsed": false
    },
    "source": []
   }
  },
  "pygments_lexer": "ipython3",
  "version": 3
 },
 "nbformat": 4,
 "nbformat_minor": 2
}
