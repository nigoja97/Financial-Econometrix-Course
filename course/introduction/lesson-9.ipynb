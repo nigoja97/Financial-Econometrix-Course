{
 "cells": [
  {
   "cell_type": "markdown",
   "metadata": {},
   "source": [
    "# Common DataFrame methods\n",
    "\n",
    "This lesson introduces the common `DataFrame` methods that\n",
    "we will repeatedly use in the course. \n",
    "\n",
    "This first cell load data for use in this lesson."
   ]
  },
  {
   "cell_type": "code",
   "execution_count": null,
   "metadata": {
    "execution": {
     "iopub.execute_input": "2021-09-22T08:38:11.045908Z",
     "iopub.status.busy": "2021-09-22T08:38:11.045908Z",
     "iopub.status.idle": "2021-09-22T08:38:11.736909Z",
     "shell.execute_reply": "2021-09-22T08:38:11.735908Z"
    },
    "pycharm": {
     "is_executing": false,
     "name": "#%%\n"
    }
   },
   "outputs": [],
   "source": [
    "# Setup: Load prices\n",
    "import pandas as pd\n",
    "prices = pd.read_hdf(\"data/dataframes.h5\", \"prices\")\n",
    "sep_04 = pd.read_hdf(\"data/dataframes.h5\", \"sep_04\")\n",
    "goog = pd.read_hdf(\"data/dataframes.h5\", \"goog\")\n",
    "returns = prices.pct_change().dropna()\n",
    "spy_returns = returns.SPY\n",
    "aapl_returns = returns.AAPL\n",
    "goog_returns = returns.GOOG"
   ]
  },
  {
   "cell_type": "markdown",
   "metadata": {},
   "source": [
    "## Problem: Constructing portfolio returns\n",
    "\n",
    "Compute the return of a portfolio with weight $\\frac{1}{3}$ in each security using\n",
    "multiplication (`*`) and `.sum()`.\n",
    "\n",
    "**Note**: You need to use the `axis` keyword for the sum."
   ]
  },
  {
   "cell_type": "code",
   "execution_count": null,
   "metadata": {
    "execution": {
     "iopub.execute_input": "2021-09-22T08:38:11.744908Z",
     "iopub.status.busy": "2021-09-22T08:38:11.744908Z",
     "iopub.status.idle": "2021-09-22T08:38:11.751907Z",
     "shell.execute_reply": "2021-09-22T08:38:11.751907Z"
    }
   },
   "outputs": [],
   "source": []
  },
  {
   "cell_type": "markdown",
   "metadata": {},
   "source": [
    "## Problem: Compute the Mean and Standard Deviation\n",
    "\n",
    "Using the function mean, compute the mean of the three returns series one at a time. For example  \n",
    "```python\n",
    "goog_mean = goog_returns.mean()\n",
    "```\n",
    "Next, compute the mean of the matrix of returns using  \n",
    "\n",
    "```python\n",
    "retmean = returns.mean()\n",
    "```\n",
    "\n",
    "What is the relationship between these two? Repeat this exercise for the standard deviation (`std()`).\n"
   ]
  },
  {
   "cell_type": "code",
   "execution_count": null,
   "metadata": {
    "execution": {
     "iopub.execute_input": "2021-09-22T08:38:11.754907Z",
     "iopub.status.busy": "2021-09-22T08:38:11.753906Z",
     "iopub.status.idle": "2021-09-22T08:38:11.767736Z",
     "shell.execute_reply": "2021-09-22T08:38:11.767736Z"
    }
   },
   "outputs": [],
   "source": []
  },
  {
   "cell_type": "code",
   "execution_count": null,
   "metadata": {
    "execution": {
     "iopub.execute_input": "2021-09-22T08:38:11.771735Z",
     "iopub.status.busy": "2021-09-22T08:38:11.771735Z",
     "iopub.status.idle": "2021-09-22T08:38:11.782872Z",
     "shell.execute_reply": "2021-09-22T08:38:11.782872Z"
    }
   },
   "outputs": [],
   "source": []
  },
  {
   "cell_type": "code",
   "execution_count": null,
   "metadata": {
    "execution": {
     "iopub.execute_input": "2021-09-22T08:38:11.785872Z",
     "iopub.status.busy": "2021-09-22T08:38:11.785872Z",
     "iopub.status.idle": "2021-09-22T08:38:11.798884Z",
     "shell.execute_reply": "2021-09-22T08:38:11.798884Z"
    }
   },
   "outputs": [],
   "source": []
  },
  {
   "cell_type": "markdown",
   "metadata": {
    "pycharm": {
     "name": "#%% md\n"
    }
   },
   "source": [
    "## Problem: Compute Correlation\n",
    "Compute the correlation of the matrix of returns (`corr()`). "
   ]
  },
  {
   "cell_type": "code",
   "execution_count": null,
   "metadata": {
    "execution": {
     "iopub.execute_input": "2021-09-22T08:38:11.801883Z",
     "iopub.status.busy": "2021-09-22T08:38:11.801883Z",
     "iopub.status.idle": "2021-09-22T08:38:11.813901Z",
     "shell.execute_reply": "2021-09-22T08:38:11.813901Z"
    }
   },
   "outputs": [],
   "source": []
  },
  {
   "cell_type": "markdown",
   "metadata": {},
   "source": [
    "## Problem: Summing all elements\n",
    "\n",
    "Compute the sum of the columns of returns using `.sum()`. How is this related to the mean computed \n",
    "in the previous step? "
   ]
  },
  {
   "cell_type": "code",
   "execution_count": null,
   "metadata": {
    "execution": {
     "iopub.execute_input": "2021-09-22T08:38:11.817901Z",
     "iopub.status.busy": "2021-09-22T08:38:11.816902Z",
     "iopub.status.idle": "2021-09-22T08:38:11.828918Z",
     "shell.execute_reply": "2021-09-22T08:38:11.828918Z"
    }
   },
   "outputs": [],
   "source": []
  },
  {
   "cell_type": "code",
   "execution_count": null,
   "metadata": {
    "execution": {
     "iopub.execute_input": "2021-09-22T08:38:11.832917Z",
     "iopub.status.busy": "2021-09-22T08:38:11.831919Z",
     "iopub.status.idle": "2021-09-22T08:38:11.844766Z",
     "shell.execute_reply": "2021-09-22T08:38:11.844766Z"
    }
   },
   "outputs": [],
   "source": []
  },
  {
   "cell_type": "markdown",
   "metadata": {},
   "source": [
    "## Problem: Maximum and Minimum Values\n",
    "Compute the minimum and maximum values of the columns of returns using the `min()` and `max()` commands. "
   ]
  },
  {
   "cell_type": "code",
   "execution_count": null,
   "metadata": {
    "execution": {
     "iopub.execute_input": "2021-09-22T08:38:11.848765Z",
     "iopub.status.busy": "2021-09-22T08:38:11.847765Z",
     "iopub.status.idle": "2021-09-22T08:38:11.860778Z",
     "shell.execute_reply": "2021-09-22T08:38:11.860778Z"
    }
   },
   "outputs": [],
   "source": []
  },
  {
   "cell_type": "code",
   "execution_count": null,
   "metadata": {
    "execution": {
     "iopub.execute_input": "2021-09-22T08:38:11.864775Z",
     "iopub.status.busy": "2021-09-22T08:38:11.863777Z",
     "iopub.status.idle": "2021-09-22T08:38:11.876797Z",
     "shell.execute_reply": "2021-09-22T08:38:11.876797Z"
    }
   },
   "outputs": [],
   "source": []
  },
  {
   "cell_type": "markdown",
   "metadata": {},
   "source": [
    "## Problem: Rounding Up, Down and to the Closest Integer\n",
    "\n",
    "Rounding up is handled by ceil, rounding down is handled by floor and rounding to the closest \n",
    "integer is handled by round. Try all of these commands on 100 times returns. For example,  \n",
    "```python\n",
    "rounded = (100*returns).round()\n",
    "``` \n",
    "\n",
    "Use `ceil` and `floor` to round up and down, respectively."
   ]
  },
  {
   "cell_type": "code",
   "execution_count": null,
   "metadata": {
    "execution": {
     "iopub.execute_input": "2021-09-22T08:38:11.883796Z",
     "iopub.status.busy": "2021-09-22T08:38:11.879796Z",
     "iopub.status.idle": "2021-09-22T08:38:11.892805Z",
     "shell.execute_reply": "2021-09-22T08:38:11.892805Z"
    }
   },
   "outputs": [],
   "source": []
  },
  {
   "cell_type": "code",
   "execution_count": null,
   "metadata": {
    "execution": {
     "iopub.execute_input": "2021-09-22T08:38:11.899804Z",
     "iopub.status.busy": "2021-09-22T08:38:11.899804Z",
     "iopub.status.idle": "2021-09-22T08:38:11.908379Z",
     "shell.execute_reply": "2021-09-22T08:38:11.908379Z"
    }
   },
   "outputs": [],
   "source": []
  },
  {
   "cell_type": "code",
   "execution_count": null,
   "metadata": {
    "execution": {
     "iopub.execute_input": "2021-09-22T08:38:11.914378Z",
     "iopub.status.busy": "2021-09-22T08:38:11.914378Z",
     "iopub.status.idle": "2021-09-22T08:38:11.923969Z",
     "shell.execute_reply": "2021-09-22T08:38:11.923969Z"
    }
   },
   "outputs": [],
   "source": []
  },
  {
   "cell_type": "markdown",
   "metadata": {
    "pycharm": {
     "name": "#%% md\n"
    }
   },
   "source": [
    "## Exercises\n",
    "\n",
    "### Exercise: Compute Quantiles\n",
    "\n",
    "Compute the 5%, 25%, 50%, 75% and 95% quantiles of momentum using the `quantile`\n",
    "method.\n"
   ]
  },
  {
   "cell_type": "code",
   "execution_count": null,
   "metadata": {
    "execution": {
     "iopub.execute_input": "2021-09-22T08:38:11.926968Z",
     "iopub.status.busy": "2021-09-22T08:38:11.925969Z",
     "iopub.status.idle": "2021-09-22T08:38:11.938996Z",
     "shell.execute_reply": "2021-09-22T08:38:11.938996Z"
    },
    "pycharm": {
     "name": "#%%\n"
    }
   },
   "outputs": [],
   "source": [
    "# Setup: Load data\n",
    "import pandas as pd\n",
    "momentum = pd.read_csv(\"data/momentum.csv\", index_col=\"date\", parse_dates=True)\n",
    "mom_10 = momentum.mom_10"
   ]
  },
  {
   "cell_type": "code",
   "execution_count": null,
   "metadata": {
    "execution": {
     "iopub.execute_input": "2021-09-22T08:38:11.941999Z",
     "iopub.status.busy": "2021-09-22T08:38:11.941001Z",
     "iopub.status.idle": "2021-09-22T08:38:11.953941Z",
     "shell.execute_reply": "2021-09-22T08:38:11.953941Z"
    }
   },
   "outputs": [],
   "source": []
  },
  {
   "cell_type": "markdown",
   "metadata": {
    "pycharm": {
     "name": "#%% md\n"
    }
   },
   "source": [
    "### Exercise: Sorting\n",
    "\n",
    "Use `sort_values` to sort momentum by the column `mom_10`. Verify that the\n",
    "sort was successful by looking at the minimum of a diff."
   ]
  },
  {
   "cell_type": "code",
   "execution_count": null,
   "metadata": {
    "execution": {
     "iopub.execute_input": "2021-09-22T08:38:11.960268Z",
     "iopub.status.busy": "2021-09-22T08:38:11.955942Z",
     "iopub.status.idle": "2021-09-22T08:38:11.968961Z",
     "shell.execute_reply": "2021-09-22T08:38:11.968961Z"
    }
   },
   "outputs": [],
   "source": []
  },
  {
   "cell_type": "code",
   "execution_count": null,
   "metadata": {
    "execution": {
     "iopub.execute_input": "2021-09-22T08:38:11.972964Z",
     "iopub.status.busy": "2021-09-22T08:38:11.971963Z",
     "iopub.status.idle": "2021-09-22T08:38:11.983981Z",
     "shell.execute_reply": "2021-09-22T08:38:11.983981Z"
    }
   },
   "outputs": [],
   "source": []
  },
  {
   "cell_type": "markdown",
   "metadata": {},
   "source": [
    "### Exercise: Sort Descending\n",
    "\n",
    "Use `sort_values` to sort momentum by by the column `mom_10` using a descending\n",
    "sort (see the help for `sort_values`). Verify the sort worked by looking at the maximum of\n",
    "a diff."
   ]
  },
  {
   "cell_type": "code",
   "execution_count": null,
   "metadata": {
    "execution": {
     "iopub.execute_input": "2021-09-22T08:38:12.024980Z",
     "iopub.status.busy": "2021-09-22T08:38:12.024980Z",
     "iopub.status.idle": "2021-09-22T08:38:12.031997Z",
     "shell.execute_reply": "2021-09-22T08:38:12.031997Z"
    }
   },
   "outputs": [],
   "source": []
  },
  {
   "cell_type": "code",
   "execution_count": null,
   "metadata": {
    "execution": {
     "iopub.execute_input": "2021-09-22T08:38:12.034997Z",
     "iopub.status.busy": "2021-09-22T08:38:12.034997Z",
     "iopub.status.idle": "2021-09-22T08:38:12.047922Z",
     "shell.execute_reply": "2021-09-22T08:38:12.047922Z"
    }
   },
   "outputs": [],
   "source": []
  },
  {
   "cell_type": "code",
   "execution_count": null,
   "metadata": {
    "execution": {
     "iopub.execute_input": "2021-09-22T08:38:12.057921Z",
     "iopub.status.busy": "2021-09-22T08:38:12.049923Z",
     "iopub.status.idle": "2021-09-22T08:38:12.063938Z",
     "shell.execute_reply": "2021-09-22T08:38:12.063938Z"
    }
   },
   "outputs": [],
   "source": []
  },
  {
   "cell_type": "code",
   "execution_count": null,
   "metadata": {
    "execution": {
     "iopub.execute_input": "2021-09-22T08:38:12.067938Z",
     "iopub.status.busy": "2021-09-22T08:38:12.065939Z",
     "iopub.status.idle": "2021-09-22T08:38:12.079964Z",
     "shell.execute_reply": "2021-09-22T08:38:12.079964Z"
    }
   },
   "outputs": [],
   "source": []
  },
  {
   "cell_type": "markdown",
   "metadata": {
    "pycharm": {
     "name": "#%% md\n"
    }
   },
   "source": [
    "### Exercise: Get Number of Elements\n",
    "\n",
    "Use the `shape` property to get the number of observations in momentum. Use it\n",
    "again to get the number of columns."
   ]
  },
  {
   "cell_type": "code",
   "execution_count": null,
   "metadata": {
    "execution": {
     "iopub.execute_input": "2021-09-22T08:38:12.082964Z",
     "iopub.status.busy": "2021-09-22T08:38:12.082964Z",
     "iopub.status.idle": "2021-09-22T08:38:12.095902Z",
     "shell.execute_reply": "2021-09-22T08:38:12.095902Z"
    }
   },
   "outputs": [],
   "source": []
  },
  {
   "cell_type": "code",
   "execution_count": null,
   "metadata": {
    "execution": {
     "iopub.execute_input": "2021-09-22T08:38:12.098900Z",
     "iopub.status.busy": "2021-09-22T08:38:12.097900Z",
     "iopub.status.idle": "2021-09-22T08:38:12.111927Z",
     "shell.execute_reply": "2021-09-22T08:38:12.111927Z"
    }
   },
   "outputs": [],
   "source": []
  },
  {
   "cell_type": "markdown",
   "metadata": {},
   "source": [
    "### Exercise: Use `shift` to Compute Returns\n",
    "\n",
    "Compute the percentage change using only `shift`, division (`/`) and\n",
    "subtraction (`-`) on the `Series` `mom_10`. Verify that your result matches what `pct_change` produces."
   ]
  },
  {
   "cell_type": "code",
   "execution_count": null,
   "metadata": {
    "execution": {
     "iopub.execute_input": "2021-09-22T08:38:12.116927Z",
     "iopub.status.busy": "2021-09-22T08:38:12.116927Z",
     "iopub.status.idle": "2021-09-22T08:38:12.127938Z",
     "shell.execute_reply": "2021-09-22T08:38:12.127938Z"
    }
   },
   "outputs": [],
   "source": []
  }
 ],
 "metadata": {
  "kernelspec": {
   "display_name": "Python 3",
   "language": "python",
   "name": "python3"
  },
  "language_info": {
   "codemirror_mode": {
    "name": "ipython",
    "version": 3
   },
   "file_extension": ".py",
   "mimetype": "text/x-python",
   "name": "python",
   "nbconvert_exporter": "python",
   "pygments_lexer": "ipython3",
   "version": "3.9.6"
  },
  "pycharm": {
   "stem_cell": {
    "cell_type": "raw",
    "metadata": {
     "collapsed": false
    },
    "source": []
   }
  }
 },
 "nbformat": 4,
 "nbformat_minor": 1
}
