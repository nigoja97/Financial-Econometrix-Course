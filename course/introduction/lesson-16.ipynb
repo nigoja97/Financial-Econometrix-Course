{
 "cells": [
  {
   "cell_type": "markdown",
   "metadata": {},
   "source": [
    "# Boolean Selection \n",
    "\n",
    "This lesson covers:\n",
    "\n",
    "* Boolean selection\n",
    "* `where`\n",
    "\n",
    "Begin by loading the data in momentum.csv.\n"
   ]
  },
  {
   "cell_type": "code",
   "execution_count": null,
   "metadata": {
    "execution": {
     "iopub.execute_input": "2021-09-27T15:40:53.842602Z",
     "iopub.status.busy": "2021-09-27T15:40:53.842602Z",
     "iopub.status.idle": "2021-09-27T15:40:54.262601Z",
     "shell.execute_reply": "2021-09-27T15:40:54.262601Z"
    },
    "pycharm": {
     "is_executing": false,
     "name": "#%%\n"
    }
   },
   "outputs": [],
   "source": [
    "# Setup: Load the momentum data\n",
    "\n",
    "import numpy as np\n",
    "import pandas as pd\n",
    "\n",
    "momentum = pd.read_csv(\"data/momentum.csv\", index_col=\"date\", parse_dates=True)\n",
    "\n",
    "print(momentum.head())"
   ]
  },
  {
   "cell_type": "markdown",
   "metadata": {},
   "source": [
    "## Problem: Selecting rows with boolean conditions\n",
    "\n",
    "Select the rows in `momentum` where all returns on a day are negative."
   ]
  },
  {
   "cell_type": "code",
   "execution_count": null,
   "metadata": {
    "execution": {
     "iopub.execute_input": "2021-09-27T15:40:54.276599Z",
     "iopub.status.busy": "2021-09-27T15:40:54.275599Z",
     "iopub.status.idle": "2021-09-27T15:40:54.292599Z",
     "shell.execute_reply": "2021-09-27T15:40:54.292599Z"
    }
   },
   "outputs": [],
   "source": []
  },
  {
   "cell_type": "markdown",
   "metadata": {},
   "source": [
    "## Problem: Selecting rows\n",
    "\n",
    "Select the rows in `momentum` where 50% or more of the returns on a day are negative."
   ]
  },
  {
   "cell_type": "code",
   "execution_count": null,
   "metadata": {
    "execution": {
     "iopub.execute_input": "2021-09-27T15:40:54.295600Z",
     "iopub.status.busy": "2021-09-27T15:40:54.295600Z",
     "iopub.status.idle": "2021-09-27T15:40:54.324938Z",
     "shell.execute_reply": "2021-09-27T15:40:54.325940Z"
    }
   },
   "outputs": [],
   "source": []
  },
  {
   "cell_type": "markdown",
   "metadata": {},
   "source": [
    "## Problem: Selecting columns\n",
    "\n",
    "Select the columns in `momentum` what have the smallest and second smallest average returns."
   ]
  },
  {
   "cell_type": "code",
   "execution_count": null,
   "metadata": {
    "execution": {
     "iopub.execute_input": "2021-09-27T15:40:54.329936Z",
     "iopub.status.busy": "2021-09-27T15:40:54.327938Z",
     "iopub.status.idle": "2021-09-27T15:40:54.339840Z",
     "shell.execute_reply": "2021-09-27T15:40:54.340837Z"
    }
   },
   "outputs": [],
   "source": []
  },
  {
   "cell_type": "code",
   "execution_count": null,
   "metadata": {
    "execution": {
     "iopub.execute_input": "2021-09-27T15:40:54.348839Z",
     "iopub.status.busy": "2021-09-27T15:40:54.347841Z",
     "iopub.status.idle": "2021-09-27T15:40:54.354836Z",
     "shell.execute_reply": "2021-09-27T15:40:54.354836Z"
    }
   },
   "outputs": [],
   "source": []
  },
  {
   "cell_type": "code",
   "execution_count": null,
   "metadata": {
    "execution": {
     "iopub.execute_input": "2021-09-27T15:40:54.362836Z",
     "iopub.status.busy": "2021-09-27T15:40:54.362836Z",
     "iopub.status.idle": "2021-09-27T15:40:54.369836Z",
     "shell.execute_reply": "2021-09-27T15:40:54.370839Z"
    }
   },
   "outputs": [],
   "source": []
  },
  {
   "cell_type": "markdown",
   "metadata": {},
   "source": [
    "## Problem: Selecting rows and columns\n",
    "\n",
    "Select the returns for the column with the single most negative return\n",
    "on days where all of the returns are negative. "
   ]
  },
  {
   "cell_type": "code",
   "execution_count": null,
   "metadata": {
    "execution": {
     "iopub.execute_input": "2021-09-27T15:40:54.373838Z",
     "iopub.status.busy": "2021-09-27T15:40:54.372836Z",
     "iopub.status.idle": "2021-09-27T15:40:54.385071Z",
     "shell.execute_reply": "2021-09-27T15:40:54.385071Z"
    }
   },
   "outputs": [],
   "source": []
  },
  {
   "cell_type": "code",
   "execution_count": null,
   "metadata": {
    "execution": {
     "iopub.execute_input": "2021-09-27T15:40:54.392068Z",
     "iopub.status.busy": "2021-09-27T15:40:54.388066Z",
     "iopub.status.idle": "2021-09-27T15:40:54.399745Z",
     "shell.execute_reply": "2021-09-27T15:40:54.399745Z"
    }
   },
   "outputs": [],
   "source": []
  },
  {
   "cell_type": "markdown",
   "metadata": {},
   "source": [
    "## Problem: Selecting Elements using Logical Statements\n",
    "For portfolio 1 and portfolio 10 compute the correlation when both \n",
    "returns are negative and when both are positive.\n"
   ]
  },
  {
   "cell_type": "code",
   "execution_count": null,
   "metadata": {
    "execution": {
     "iopub.execute_input": "2021-09-27T15:40:54.406742Z",
     "iopub.status.busy": "2021-09-27T15:40:54.406742Z",
     "iopub.status.idle": "2021-09-27T15:40:54.415616Z",
     "shell.execute_reply": "2021-09-27T15:40:54.415616Z"
    }
   },
   "outputs": [],
   "source": []
  },
  {
   "cell_type": "code",
   "execution_count": null,
   "metadata": {
    "execution": {
     "iopub.execute_input": "2021-09-27T15:40:54.421615Z",
     "iopub.status.busy": "2021-09-27T15:40:54.418615Z",
     "iopub.status.idle": "2021-09-27T15:40:54.430868Z",
     "shell.execute_reply": "2021-09-27T15:40:54.430868Z"
    }
   },
   "outputs": [],
   "source": []
  },
  {
   "cell_type": "code",
   "execution_count": null,
   "metadata": {
    "execution": {
     "iopub.execute_input": "2021-09-27T15:40:54.434866Z",
     "iopub.status.busy": "2021-09-27T15:40:54.434866Z",
     "iopub.status.idle": "2021-09-27T15:40:54.447301Z",
     "shell.execute_reply": "2021-09-27T15:40:54.446300Z"
    },
    "pycharm": {
     "is_executing": false,
     "name": "#%%\n"
    }
   },
   "outputs": [],
   "source": [
    "# Setup: Reproducible random numbers\n",
    "\n",
    "rs = np.random.RandomState(19991231)\n",
    "x = rs.randint(1, 11, size=(10, 3))\n",
    "x"
   ]
  },
  {
   "cell_type": "markdown",
   "metadata": {
    "pycharm": {
     "name": "#%% md\n"
    }
   },
   "source": [
    "## Problem: Select the columns of x that means >= $E[x]$"
   ]
  },
  {
   "cell_type": "code",
   "execution_count": null,
   "metadata": {
    "execution": {
     "iopub.execute_input": "2021-09-27T15:40:54.450302Z",
     "iopub.status.busy": "2021-09-27T15:40:54.450302Z",
     "iopub.status.idle": "2021-09-27T15:40:54.461317Z",
     "shell.execute_reply": "2021-09-27T15:40:54.461317Z"
    }
   },
   "outputs": [],
   "source": []
  },
  {
   "cell_type": "markdown",
   "metadata": {},
   "source": [
    "## Problem: Select the rows of x that means >= $E[x]$"
   ]
  },
  {
   "cell_type": "code",
   "execution_count": null,
   "metadata": {
    "execution": {
     "iopub.execute_input": "2021-09-27T15:40:54.464320Z",
     "iopub.status.busy": "2021-09-27T15:40:54.464320Z",
     "iopub.status.idle": "2021-09-27T15:40:54.476687Z",
     "shell.execute_reply": "2021-09-27T15:40:54.476687Z"
    }
   },
   "outputs": [],
   "source": []
  },
  {
   "cell_type": "markdown",
   "metadata": {},
   "source": [
    "## Problem: Select the rows and column of x where both have means < $E[x]$"
   ]
  },
  {
   "cell_type": "code",
   "execution_count": null,
   "metadata": {
    "execution": {
     "iopub.execute_input": "2021-09-27T15:40:54.480691Z",
     "iopub.status.busy": "2021-09-27T15:40:54.479691Z",
     "iopub.status.idle": "2021-09-27T15:40:54.492087Z",
     "shell.execute_reply": "2021-09-27T15:40:54.492087Z"
    }
   },
   "outputs": [],
   "source": []
  },
  {
   "cell_type": "markdown",
   "metadata": {},
   "source": [
    "## Problem: Using `where`\n",
    "Use `where` to select the index of the elements in portfolio 5 that are\n",
    "negative. Next, use the `where` command in its two output form to determine\n",
    "which elements of the portfolio return matrix are less than -2%."
   ]
  },
  {
   "cell_type": "code",
   "execution_count": null,
   "metadata": {
    "execution": {
     "iopub.execute_input": "2021-09-27T15:40:54.496085Z",
     "iopub.status.busy": "2021-09-27T15:40:54.496085Z",
     "iopub.status.idle": "2021-09-27T15:40:54.507082Z",
     "shell.execute_reply": "2021-09-27T15:40:54.507082Z"
    }
   },
   "outputs": [],
   "source": []
  },
  {
   "cell_type": "code",
   "execution_count": null,
   "metadata": {
    "execution": {
     "iopub.execute_input": "2021-09-27T15:40:54.512080Z",
     "iopub.status.busy": "2021-09-27T15:40:54.511077Z",
     "iopub.status.idle": "2021-09-27T15:40:54.522208Z",
     "shell.execute_reply": "2021-09-27T15:40:54.522208Z"
    }
   },
   "outputs": [],
   "source": []
  },
  {
   "cell_type": "code",
   "execution_count": null,
   "metadata": {
    "execution": {
     "iopub.execute_input": "2021-09-27T15:40:54.525208Z",
     "iopub.status.busy": "2021-09-27T15:40:54.525208Z",
     "iopub.status.idle": "2021-09-27T15:40:54.537762Z",
     "shell.execute_reply": "2021-09-27T15:40:54.537762Z"
    }
   },
   "outputs": [],
   "source": []
  },
  {
   "cell_type": "markdown",
   "metadata": {
    "pycharm": {
     "name": "#%% md\n"
    }
   },
   "source": [
    "## Exercises\n",
    "\n",
    "### Exercise: Select the Most Volatile Portfolio\n",
    "\n",
    "Select the column in momentum that has the highest standard deviation."
   ]
  },
  {
   "cell_type": "code",
   "execution_count": null,
   "metadata": {
    "execution": {
     "iopub.execute_input": "2021-09-27T15:40:54.543761Z",
     "iopub.status.busy": "2021-09-27T15:40:54.540761Z",
     "iopub.status.idle": "2021-09-27T15:40:54.553335Z",
     "shell.execute_reply": "2021-09-27T15:40:54.553335Z"
    }
   },
   "outputs": [],
   "source": []
  },
  {
   "cell_type": "markdown",
   "metadata": {
    "pycharm": {
     "name": "#%% md\n"
    }
   },
   "source": [
    "### Exercise: Select the High Kurtosis Portfolios\n",
    "\n",
    "Select the columns that have kurtoses above the median kurtosis."
   ]
  },
  {
   "cell_type": "code",
   "execution_count": null,
   "metadata": {
    "execution": {
     "iopub.execute_input": "2021-09-27T15:40:54.556337Z",
     "iopub.status.busy": "2021-09-27T15:40:54.555334Z",
     "iopub.status.idle": "2021-09-27T15:40:54.569346Z",
     "shell.execute_reply": "2021-09-27T15:40:54.569346Z"
    }
   },
   "outputs": [],
   "source": []
  },
  {
   "cell_type": "markdown",
   "metadata": {
    "pycharm": {
     "name": "#%% md\n"
    }
   },
   "source": [
    "### Exercise: Select \n",
    "\n",
    "Select the rows where all of the returns in the row are less than the 25%\n",
    "quantile for their portfolio.\n",
    "\n",
    "**Note**: Comparisons between `DataFrame`s and `Series` works like mathematical\n",
    "operations (`+`, `-`, etc.)."
   ]
  },
  {
   "cell_type": "code",
   "execution_count": null,
   "metadata": {
    "execution": {
     "iopub.execute_input": "2021-09-27T15:40:54.572346Z",
     "iopub.status.busy": "2021-09-27T15:40:54.571346Z",
     "iopub.status.idle": "2021-09-27T15:40:54.585234Z",
     "shell.execute_reply": "2021-09-27T15:40:54.585234Z"
    }
   },
   "outputs": [],
   "source": []
  },
  {
   "cell_type": "code",
   "execution_count": null,
   "metadata": {
    "execution": {
     "iopub.execute_input": "2021-09-27T15:40:54.604233Z",
     "iopub.status.busy": "2021-09-27T15:40:54.587236Z",
     "iopub.status.idle": "2021-09-27T15:40:54.615099Z",
     "shell.execute_reply": "2021-09-27T15:40:54.615099Z"
    },
    "tags": []
   },
   "outputs": [],
   "source": []
  }
 ],
 "metadata": {
  "kernelspec": {
   "display_name": "Python 3 (ipykernel)",
   "language": "python",
   "name": "python3"
  },
  "language_info": {
   "codemirror_mode": {
    "name": "ipython",
    "version": 3
   },
   "file_extension": ".py",
   "mimetype": "text/x-python",
   "name": "python",
   "nbconvert_exporter": "python",
   "pygments_lexer": "ipython3",
   "version": "3.9.7"
  },
  "pycharm": {
   "stem_cell": {
    "cell_type": "raw",
    "metadata": {
     "collapsed": false
    },
    "source": []
   }
  }
 },
 "nbformat": 4,
 "nbformat_minor": 4
}
