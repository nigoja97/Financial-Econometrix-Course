{
 "cells": [
  {
   "cell_type": "markdown",
   "metadata": {
    "pycharm": {
     "name": "#%% md\n"
    }
   },
   "source": [
    "# Numeric Indexing of DataFrames\n",
    "\n",
    "This lesson covers:\n",
    "\n",
    "* Accessing specific elements in DataFrames using numeric indices\n",
    "\n",
    "Accessing elements in a DataFrame is a common task. To begin this lesson,\n",
    "clear the workspace set up some vectors and a $5\\times5$ array. These vectors\n",
    "and matrix will make it easy to determine which elements are selected by a\n",
    "command.\n",
    "\n",
    "Begin by creating:\n",
    "\n",
    "* A 5-by-5 DataFrame `x_df` containing `np.arange(25).reshape((5,5))`.\n",
    "* A 5-element Series `y_s` containing `np.arange(5)`.\n",
    "* A 5-by-5 DataFrame `x_named` that is `x_df` with columns \"c0\", \"c1\", ...,\n",
    "  \"c4\" and rows \"r0\", \"r1\", ..., \"r4\".\n",
    "* A 5-element Series `y_named` with index \"r0\", \"r1\", ..., \"r4\". "
   ]
  },
  {
   "cell_type": "code",
   "execution_count": null,
   "metadata": {
    "execution": {
     "iopub.execute_input": "2021-09-27T15:40:43.423139Z",
     "iopub.status.busy": "2021-09-27T15:40:43.422140Z",
     "iopub.status.idle": "2021-09-27T15:40:43.841157Z",
     "shell.execute_reply": "2021-09-27T15:40:43.841157Z"
    }
   },
   "outputs": [],
   "source": []
  },
  {
   "cell_type": "markdown",
   "metadata": {
    "pycharm": {
     "name": "#%% md\n"
    }
   },
   "source": [
    "## Problem: Picking an Element out of a DataFrame\n",
    "\n",
    "Using double index notation, select the (0,2) and the (2,0) element of\n",
    "`x_named`."
   ]
  },
  {
   "cell_type": "code",
   "execution_count": null,
   "metadata": {
    "execution": {
     "iopub.execute_input": "2021-09-27T15:40:43.848157Z",
     "iopub.status.busy": "2021-09-27T15:40:43.848157Z",
     "iopub.status.idle": "2021-09-27T15:40:43.855158Z",
     "shell.execute_reply": "2021-09-27T15:40:43.855158Z"
    }
   },
   "outputs": [],
   "source": []
  },
  {
   "cell_type": "code",
   "execution_count": null,
   "metadata": {
    "execution": {
     "iopub.execute_input": "2021-09-27T15:40:43.858157Z",
     "iopub.status.busy": "2021-09-27T15:40:43.858157Z",
     "iopub.status.idle": "2021-09-27T15:40:43.870158Z",
     "shell.execute_reply": "2021-09-27T15:40:43.870158Z"
    },
    "jupyter": {
     "outputs_hidden": false
    }
   },
   "outputs": [],
   "source": []
  },
  {
   "cell_type": "markdown",
   "metadata": {
    "pycharm": {
     "name": "#%% md\n"
    }
   },
   "source": [
    "## Problem: Select Elements from Series\n",
    "\n",
    "Select the 2nd element of `y_named`."
   ]
  },
  {
   "cell_type": "code",
   "execution_count": null,
   "metadata": {
    "execution": {
     "iopub.execute_input": "2021-09-27T15:40:43.873157Z",
     "iopub.status.busy": "2021-09-27T15:40:43.873157Z",
     "iopub.status.idle": "2021-09-27T15:40:43.886158Z",
     "shell.execute_reply": "2021-09-27T15:40:43.886158Z"
    }
   },
   "outputs": [],
   "source": []
  },
  {
   "cell_type": "markdown",
   "metadata": {},
   "source": [
    "## Problem: Selecting Rows as Series\n",
    "\n",
    "Select the 2nd row of `x_named` using the colon (:) operator.\n"
   ]
  },
  {
   "cell_type": "code",
   "execution_count": null,
   "metadata": {
    "execution": {
     "iopub.execute_input": "2021-09-27T15:40:43.890157Z",
     "iopub.status.busy": "2021-09-27T15:40:43.890157Z",
     "iopub.status.idle": "2021-09-27T15:40:43.901158Z",
     "shell.execute_reply": "2021-09-27T15:40:43.902159Z"
    }
   },
   "outputs": [],
   "source": []
  },
  {
   "cell_type": "markdown",
   "metadata": {
    "pycharm": {
     "name": "#%% md\n"
    }
   },
   "source": [
    "## Problem: Selecting Rows as DataFrames\n",
    "\n",
    "1. Select the 2nd row of `x_named` using a slice so that the selection\n",
    "   remains a DataFrame.\n",
    "2. Repeat using a list of indices to retain the DataFrame. \n"
   ]
  },
  {
   "cell_type": "code",
   "execution_count": null,
   "metadata": {
    "execution": {
     "iopub.execute_input": "2021-09-27T15:40:43.905157Z",
     "iopub.status.busy": "2021-09-27T15:40:43.905157Z",
     "iopub.status.idle": "2021-09-27T15:40:43.916159Z",
     "shell.execute_reply": "2021-09-27T15:40:43.916159Z"
    }
   },
   "outputs": [],
   "source": []
  },
  {
   "cell_type": "code",
   "execution_count": null,
   "metadata": {
    "execution": {
     "iopub.execute_input": "2021-09-27T15:40:43.921157Z",
     "iopub.status.busy": "2021-09-27T15:40:43.921157Z",
     "iopub.status.idle": "2021-09-27T15:40:43.932160Z",
     "shell.execute_reply": "2021-09-27T15:40:43.932160Z"
    }
   },
   "outputs": [],
   "source": []
  },
  {
   "cell_type": "markdown",
   "metadata": {},
   "source": [
    "## Problem: Selecting Entire Columns as Series\n",
    "Select the 2nd column of `x_named` using the colon (:) operator. "
   ]
  },
  {
   "cell_type": "code",
   "execution_count": null,
   "metadata": {
    "execution": {
     "iopub.execute_input": "2021-09-27T15:40:43.935157Z",
     "iopub.status.busy": "2021-09-27T15:40:43.935157Z",
     "iopub.status.idle": "2021-09-27T15:40:43.948158Z",
     "shell.execute_reply": "2021-09-27T15:40:43.948158Z"
    }
   },
   "outputs": [],
   "source": []
  },
  {
   "cell_type": "markdown",
   "metadata": {
    "pycharm": {
     "name": "#%% md\n"
    }
   },
   "source": [
    "## Problem: Selecting Single Columns as DataFrames\n",
    "Select the 2nd column of `x_named`  so that the selection remains a DataFrame. \n"
   ]
  },
  {
   "cell_type": "code",
   "execution_count": null,
   "metadata": {
    "execution": {
     "iopub.execute_input": "2021-09-27T15:40:43.952157Z",
     "iopub.status.busy": "2021-09-27T15:40:43.952157Z",
     "iopub.status.idle": "2021-09-27T15:40:43.964158Z",
     "shell.execute_reply": "2021-09-27T15:40:43.964158Z"
    }
   },
   "outputs": [],
   "source": []
  },
  {
   "cell_type": "code",
   "execution_count": null,
   "metadata": {
    "execution": {
     "iopub.execute_input": "2021-09-27T15:40:43.969157Z",
     "iopub.status.busy": "2021-09-27T15:40:43.968157Z",
     "iopub.status.idle": "2021-09-27T15:40:43.980158Z",
     "shell.execute_reply": "2021-09-27T15:40:43.980158Z"
    }
   },
   "outputs": [],
   "source": []
  },
  {
   "cell_type": "markdown",
   "metadata": {},
   "source": [
    "## Problem: Selecting Specific Columns\n",
    "Select the 2nd and 3rd columns of `x_named` using a slice."
   ]
  },
  {
   "cell_type": "code",
   "execution_count": null,
   "metadata": {
    "execution": {
     "iopub.execute_input": "2021-09-27T15:40:43.984157Z",
     "iopub.status.busy": "2021-09-27T15:40:43.982157Z",
     "iopub.status.idle": "2021-09-27T15:40:43.995158Z",
     "shell.execute_reply": "2021-09-27T15:40:43.995158Z"
    }
   },
   "outputs": [],
   "source": []
  },
  {
   "cell_type": "markdown",
   "metadata": {
    "pycharm": {
     "name": "#%% md\n"
    }
   },
   "source": [
    "## Problem: Select Specific Rows\n",
    "\n",
    "Select the 2nd and 4th rows of `x_named` using a slice.  Repeat the \n",
    "selection using a list of integers."
   ]
  },
  {
   "cell_type": "code",
   "execution_count": null,
   "metadata": {
    "execution": {
     "iopub.execute_input": "2021-09-27T15:40:44.000157Z",
     "iopub.status.busy": "2021-09-27T15:40:44.000157Z",
     "iopub.status.idle": "2021-09-27T15:40:44.011159Z",
     "shell.execute_reply": "2021-09-27T15:40:44.011159Z"
    }
   },
   "outputs": [],
   "source": []
  },
  {
   "cell_type": "code",
   "execution_count": null,
   "metadata": {
    "execution": {
     "iopub.execute_input": "2021-09-27T15:40:44.016157Z",
     "iopub.status.busy": "2021-09-27T15:40:44.016157Z",
     "iopub.status.idle": "2021-09-27T15:40:44.026158Z",
     "shell.execute_reply": "2021-09-27T15:40:44.026158Z"
    }
   },
   "outputs": [],
   "source": []
  },
  {
   "cell_type": "markdown",
   "metadata": {},
   "source": [
    "## Problem: Select arbitrary rows and columns\n",
    "\n",
    "Combine the previous selections to the 2nd and 3rd columns and the 2nd and 4th rows\n",
    "of `x_named`. \n",
    "\n",
    "**Note**: This is the only important difference with NumPy.  Arbitrary\n",
    "row/column selection using `DataFrame.iloc` is simpler but less flexible."
   ]
  },
  {
   "cell_type": "code",
   "execution_count": null,
   "metadata": {
    "execution": {
     "iopub.execute_input": "2021-09-27T15:40:44.031157Z",
     "iopub.status.busy": "2021-09-27T15:40:44.031157Z",
     "iopub.status.idle": "2021-09-27T15:40:44.042157Z",
     "shell.execute_reply": "2021-09-27T15:40:44.042157Z"
    },
    "jupyter": {
     "outputs_hidden": false
    }
   },
   "outputs": [],
   "source": []
  },
  {
   "cell_type": "code",
   "execution_count": null,
   "metadata": {
    "execution": {
     "iopub.execute_input": "2021-09-27T15:40:44.047157Z",
     "iopub.status.busy": "2021-09-27T15:40:44.046157Z",
     "iopub.status.idle": "2021-09-27T15:40:44.058159Z",
     "shell.execute_reply": "2021-09-27T15:40:44.058159Z"
    },
    "jupyter": {
     "outputs_hidden": false
    }
   },
   "outputs": [],
   "source": []
  },
  {
   "cell_type": "code",
   "execution_count": null,
   "metadata": {
    "execution": {
     "iopub.execute_input": "2021-09-27T15:40:44.062157Z",
     "iopub.status.busy": "2021-09-27T15:40:44.062157Z",
     "iopub.status.idle": "2021-09-27T15:40:44.074158Z",
     "shell.execute_reply": "2021-09-27T15:40:44.074158Z"
    },
    "jupyter": {
     "outputs_hidden": false
    }
   },
   "outputs": [],
   "source": []
  },
  {
   "cell_type": "markdown",
   "metadata": {
    "pycharm": {
     "name": "#%% md\n"
    }
   },
   "source": [
    "## Problem: Mixed selection\n",
    "\n",
    "Select the columns c1 and c2 and the 1st, 3rd and 5th row."
   ]
  },
  {
   "cell_type": "code",
   "execution_count": null,
   "metadata": {
    "execution": {
     "iopub.execute_input": "2021-09-27T15:40:44.079157Z",
     "iopub.status.busy": "2021-09-27T15:40:44.076158Z",
     "iopub.status.idle": "2021-09-27T15:40:44.090157Z",
     "shell.execute_reply": "2021-09-27T15:40:44.090157Z"
    }
   },
   "outputs": [],
   "source": []
  },
  {
   "cell_type": "markdown",
   "metadata": {},
   "source": [
    "## Problem: Mixed selection 2\n",
    "\n",
    "Select the rows r1 and r2 and the 1st, 3rd and final column."
   ]
  },
  {
   "cell_type": "code",
   "execution_count": null,
   "metadata": {
    "execution": {
     "iopub.execute_input": "2021-09-27T15:40:44.096158Z",
     "iopub.status.busy": "2021-09-27T15:40:44.096158Z",
     "iopub.status.idle": "2021-09-27T15:40:44.106159Z",
     "shell.execute_reply": "2021-09-27T15:40:44.106159Z"
    }
   },
   "outputs": [],
   "source": []
  },
  {
   "cell_type": "markdown",
   "metadata": {
    "pycharm": {
     "name": "#%% md\n"
    }
   },
   "source": [
    "## Exercises\n",
    "\n",
    "### Exercise: Select fixed length block\n",
    "\n",
    "Compute the mean return of the momentum data in the first 66\n",
    "observations and the last 66 observations."
   ]
  },
  {
   "cell_type": "code",
   "execution_count": null,
   "metadata": {
    "execution": {
     "iopub.execute_input": "2021-09-27T15:40:44.109157Z",
     "iopub.status.busy": "2021-09-27T15:40:44.109157Z",
     "iopub.status.idle": "2021-09-27T15:40:44.121158Z",
     "shell.execute_reply": "2021-09-27T15:40:44.121158Z"
    },
    "jupyter": {
     "outputs_hidden": false
    },
    "pycharm": {
     "is_executing": false,
     "name": "#%%\n"
    }
   },
   "outputs": [],
   "source": [
    "# Setup: Load the momentum data\n",
    "\n",
    "import pandas as pd\n",
    "\n",
    "momentum = pd.read_csv(\"data/momentum.csv\", index_col=\"date\", parse_dates=True)\n",
    "momentum.head()"
   ]
  },
  {
   "cell_type": "code",
   "execution_count": null,
   "metadata": {
    "execution": {
     "iopub.execute_input": "2021-09-27T15:40:44.125159Z",
     "iopub.status.busy": "2021-09-27T15:40:44.125159Z",
     "iopub.status.idle": "2021-09-27T15:40:44.137159Z",
     "shell.execute_reply": "2021-09-27T15:40:44.137159Z"
    },
    "jupyter": {
     "outputs_hidden": false
    }
   },
   "outputs": [],
   "source": []
  },
  {
   "cell_type": "code",
   "execution_count": null,
   "metadata": {
    "execution": {
     "iopub.execute_input": "2021-09-27T15:40:44.141158Z",
     "iopub.status.busy": "2021-09-27T15:40:44.141158Z",
     "iopub.status.idle": "2021-09-27T15:40:44.154160Z",
     "shell.execute_reply": "2021-09-27T15:40:44.153158Z"
    },
    "jupyter": {
     "outputs_hidden": false
    }
   },
   "outputs": [],
   "source": []
  },
  {
   "cell_type": "code",
   "execution_count": null,
   "metadata": {
    "execution": {
     "iopub.execute_input": "2021-09-27T15:40:44.158160Z",
     "iopub.status.busy": "2021-09-27T15:40:44.157159Z",
     "iopub.status.idle": "2021-09-27T15:40:44.168159Z",
     "shell.execute_reply": "2021-09-27T15:40:44.168159Z"
    },
    "jupyter": {
     "outputs_hidden": false
    }
   },
   "outputs": [],
   "source": []
  },
  {
   "cell_type": "markdown",
   "metadata": {
    "pycharm": {
     "name": "#%% md\n"
    }
   },
   "source": [
    "### Exercise: Compute values using fraction of sample\n",
    "\n",
    "Compute the correlation of momentum portfolio 1, 5, and 10 in the first half of\n",
    "the sample and in the second half. "
   ]
  },
  {
   "cell_type": "code",
   "execution_count": null,
   "metadata": {
    "execution": {
     "iopub.execute_input": "2021-09-27T15:40:44.175158Z",
     "iopub.status.busy": "2021-09-27T15:40:44.175158Z",
     "iopub.status.idle": "2021-09-27T15:40:44.183158Z",
     "shell.execute_reply": "2021-09-27T15:40:44.183158Z"
    },
    "jupyter": {
     "outputs_hidden": false
    }
   },
   "outputs": [],
   "source": []
  },
  {
   "cell_type": "code",
   "execution_count": null,
   "metadata": {
    "execution": {
     "iopub.execute_input": "2021-09-27T15:40:44.188158Z",
     "iopub.status.busy": "2021-09-27T15:40:44.188158Z",
     "iopub.status.idle": "2021-09-27T15:40:44.199158Z",
     "shell.execute_reply": "2021-09-27T15:40:44.199158Z"
    },
    "jupyter": {
     "outputs_hidden": false
    },
    "tags": []
   },
   "outputs": [],
   "source": []
  }
 ],
 "metadata": {
  "kernelspec": {
   "display_name": "Python 3 (ipykernel)",
   "language": "python",
   "name": "python3"
  },
  "language_info": {
   "codemirror_mode": {
    "name": "ipython",
    "version": 3
   },
   "file_extension": ".py",
   "mimetype": "text/x-python",
   "name": "python",
   "nbconvert_exporter": "python",
   "pygments_lexer": "ipython3",
   "version": "3.9.7"
  },
  "pycharm": {
   "stem_cell": {
    "cell_type": "raw",
    "metadata": {
     "collapsed": false
    },
    "source": []
   }
  }
 },
 "nbformat": 4,
 "nbformat_minor": 4
}
