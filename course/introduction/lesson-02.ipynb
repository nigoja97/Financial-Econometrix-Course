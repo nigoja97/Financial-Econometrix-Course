{
 "cells": [
  {
   "cell_type": "markdown",
   "metadata": {},
   "source": [
    "# Basic Python Types\n",
    "\n",
    "This lesson covers:\n",
    "\n",
    "* Inputting scalars and strings\n",
    "* Lists\n",
    "* Tuples\n",
    "* Dictionaries\n"
   ]
  },
  {
   "cell_type": "markdown",
   "metadata": {},
   "source": [
    "## Problem: Input scalar floating point and integers\n",
    "\n",
    "1. Create a variable called `scalar_float` containing $\\pi$ to 4 digits.\n",
    "2. Create a variable called `scalar_int` containing 31415. \n",
    "3. Print each value using the `print` function.   "
   ]
  },
  {
   "cell_type": "code",
   "execution_count": null,
   "metadata": {
    "execution": {
     "iopub.execute_input": "2021-09-27T15:40:17.024603Z",
     "iopub.status.busy": "2021-09-27T15:40:17.024603Z",
     "iopub.status.idle": "2021-09-27T15:40:17.033603Z",
     "shell.execute_reply": "2021-09-27T15:40:17.034602Z"
    },
    "jupyter": {
     "outputs_hidden": false
    }
   },
   "outputs": [],
   "source": []
  },
  {
   "cell_type": "markdown",
   "metadata": {},
   "source": [
    "## Problem: Create a string and an f-string\n",
    "\n",
    "1. Create a variable called `a_string` containing `This is a string`\n",
    "2. Create a f-string the prints `The value of scalar_float is 3.1415` using\n",
    "   the variable created in the previous step\n",
    "3. Create two string, `first` containing `String concatenation` and the\n",
    "   second containing ` is like addition`, and join the two using `+` to produce\n",
    "   `String concatenation is like addition`. "
   ]
  },
  {
   "cell_type": "code",
   "execution_count": null,
   "metadata": {
    "execution": {
     "iopub.execute_input": "2021-09-27T15:40:17.037601Z",
     "iopub.status.busy": "2021-09-27T15:40:17.037601Z",
     "iopub.status.idle": "2021-09-27T15:40:17.049602Z",
     "shell.execute_reply": "2021-09-27T15:40:17.049602Z"
    },
    "jupyter": {
     "outputs_hidden": false
    }
   },
   "outputs": [],
   "source": []
  },
  {
   "cell_type": "markdown",
   "metadata": {},
   "source": [
    "## Problem: Create a list\n",
    "\n",
    "1. Create a list containing `scalar_float` and `scalar_int`\n",
    "2. Add `a_string` to the list.\n",
    "3. Select the second element from the list \n",
    "4. Select the the lst two elements of the list"
   ]
  },
  {
   "cell_type": "code",
   "execution_count": null,
   "metadata": {
    "execution": {
     "iopub.execute_input": "2021-09-27T15:40:17.052602Z",
     "iopub.status.busy": "2021-09-27T15:40:17.052602Z",
     "iopub.status.idle": "2021-09-27T15:40:17.065236Z",
     "shell.execute_reply": "2021-09-27T15:40:17.065236Z"
    },
    "jupyter": {
     "outputs_hidden": false
    }
   },
   "outputs": [],
   "source": []
  },
  {
   "cell_type": "markdown",
   "metadata": {},
   "source": [
    "## Problem: Create a list of lists\n",
    "\n",
    "1. Create a list containing the two lists `[1, 2, 3]` and `[4, 5, 6]`\n",
    "2. Select the element 5 from the nested list"
   ]
  },
  {
   "cell_type": "code",
   "execution_count": null,
   "metadata": {
    "execution": {
     "iopub.execute_input": "2021-09-27T15:40:17.069232Z",
     "iopub.status.busy": "2021-09-27T15:40:17.068231Z",
     "iopub.status.idle": "2021-09-27T15:40:17.081186Z",
     "shell.execute_reply": "2021-09-27T15:40:17.081186Z"
    },
    "jupyter": {
     "outputs_hidden": false
    }
   },
   "outputs": [],
   "source": []
  },
  {
   "cell_type": "markdown",
   "metadata": {
    "pycharm": {
     "name": "#%% md\n"
    }
   },
   "source": [
    "## Problem: Create a tuple\n",
    "\n",
    "1. Create a tuple containing the values (1, 2.0, \"c\")\n",
    "2. Select the element \"c\" from the tuple"
   ]
  },
  {
   "cell_type": "code",
   "execution_count": null,
   "metadata": {
    "execution": {
     "iopub.execute_input": "2021-09-27T15:40:17.084185Z",
     "iopub.status.busy": "2021-09-27T15:40:17.083185Z",
     "iopub.status.idle": "2021-09-27T15:40:17.097091Z",
     "shell.execute_reply": "2021-09-27T15:40:17.097091Z"
    },
    "jupyter": {
     "outputs_hidden": false
    }
   },
   "outputs": [],
   "source": []
  },
  {
   "cell_type": "markdown",
   "metadata": {},
   "source": [
    "## Problem: Convert a list to a tuple and back\n",
    "\n",
    "1. Convert the list-of-lists created to a tuple-of-tuples\n",
    "2. Convert the tuple-of-tuples back to a list of lists"
   ]
  },
  {
   "cell_type": "code",
   "execution_count": null,
   "metadata": {
    "execution": {
     "iopub.execute_input": "2021-09-27T15:40:17.100091Z",
     "iopub.status.busy": "2021-09-27T15:40:17.100091Z",
     "iopub.status.idle": "2021-09-27T15:40:17.112712Z",
     "shell.execute_reply": "2021-09-27T15:40:17.112712Z"
    },
    "jupyter": {
     "outputs_hidden": false
    }
   },
   "outputs": [],
   "source": []
  },
  {
   "cell_type": "markdown",
   "metadata": {},
   "source": [
    "## Problem: Create a dictionary\n",
    "\n",
    "1. Create a dictionary containing the key-value pairs `\"float\"` and 3.1415,\n",
    "   `\"int\"` and 31415, and `\"string\"` and `\"three-point-one-four-one-five\"`."
   ]
  },
  {
   "cell_type": "code",
   "execution_count": null,
   "metadata": {
    "execution": {
     "iopub.execute_input": "2021-09-27T15:40:17.115711Z",
     "iopub.status.busy": "2021-09-27T15:40:17.114710Z",
     "iopub.status.idle": "2021-09-27T15:40:17.128592Z",
     "shell.execute_reply": "2021-09-27T15:40:17.128592Z"
    },
    "jupyter": {
     "outputs_hidden": false
    }
   },
   "outputs": [],
   "source": []
  },
  {
   "cell_type": "markdown",
   "metadata": {},
   "source": [
    "## Problem: Lookup and Change a value\n",
    "\n",
    "1. Look up the value of `\"float\"`.\n",
    "2. Change the value of `\"float\"` to `22 / 7`."
   ]
  },
  {
   "cell_type": "code",
   "execution_count": null,
   "metadata": {
    "execution": {
     "iopub.execute_input": "2021-09-27T15:40:17.131591Z",
     "iopub.status.busy": "2021-09-27T15:40:17.131591Z",
     "iopub.status.idle": "2021-09-27T15:40:17.144624Z",
     "shell.execute_reply": "2021-09-27T15:40:17.144624Z"
    },
    "jupyter": {
     "outputs_hidden": false
    }
   },
   "outputs": [],
   "source": []
  },
  {
   "cell_type": "markdown",
   "metadata": {},
   "source": [
    "## Problem: Add and remove a key \n",
    "\n",
    "1. Add the new key \"better_float\" with the value 3.141592.\n",
    "2. Remove the key \"float\" and its value."
   ]
  },
  {
   "cell_type": "code",
   "execution_count": null,
   "metadata": {
    "execution": {
     "iopub.execute_input": "2021-09-27T15:40:17.147620Z",
     "iopub.status.busy": "2021-09-27T15:40:17.147620Z",
     "iopub.status.idle": "2021-09-27T15:40:17.160448Z",
     "shell.execute_reply": "2021-09-27T15:40:17.160448Z"
    },
    "jupyter": {
     "outputs_hidden": false
    }
   },
   "outputs": [],
   "source": []
  },
  {
   "cell_type": "markdown",
   "metadata": {
    "pycharm": {
     "name": "#%% md\n"
    }
   },
   "source": [
    "## Exercises\n",
    "\n",
    "### Exercise: Manipulating lists\n",
    "\n",
    "1. Create an empty list called `lst`\n",
    "2. Add the elements `9`, `\"Eight\"` and `7.0` (in order) to the list.\n",
    "3. Extend the list with the list `[\"Six\", 5, 4.0]` using `extend`\n",
    "4. Select first 4 elements of `lst`\n",
    "5. Select last 3 elements of `lst`\n"
   ]
  },
  {
   "cell_type": "code",
   "execution_count": null,
   "metadata": {
    "execution": {
     "iopub.execute_input": "2021-09-27T15:40:17.167447Z",
     "iopub.status.busy": "2021-09-27T15:40:17.166447Z",
     "iopub.status.idle": "2021-09-27T15:40:17.176323Z",
     "shell.execute_reply": "2021-09-27T15:40:17.176323Z"
    },
    "jupyter": {
     "outputs_hidden": false
    }
   },
   "outputs": [],
   "source": []
  },
  {
   "cell_type": "code",
   "execution_count": null,
   "metadata": {
    "execution": {
     "iopub.execute_input": "2021-09-27T15:40:17.179321Z",
     "iopub.status.busy": "2021-09-27T15:40:17.178321Z",
     "iopub.status.idle": "2021-09-27T15:40:17.191339Z",
     "shell.execute_reply": "2021-09-27T15:40:17.191339Z"
    },
    "jupyter": {
     "outputs_hidden": false
    }
   },
   "outputs": [],
   "source": []
  },
  {
   "cell_type": "code",
   "execution_count": null,
   "metadata": {
    "execution": {
     "iopub.execute_input": "2021-09-27T15:40:17.194338Z",
     "iopub.status.busy": "2021-09-27T15:40:17.193338Z",
     "iopub.status.idle": "2021-09-27T15:40:17.206700Z",
     "shell.execute_reply": "2021-09-27T15:40:17.206700Z"
    },
    "jupyter": {
     "outputs_hidden": false
    }
   },
   "outputs": [],
   "source": []
  },
  {
   "cell_type": "code",
   "execution_count": null,
   "metadata": {
    "execution": {
     "iopub.execute_input": "2021-09-27T15:40:17.209698Z",
     "iopub.status.busy": "2021-09-27T15:40:17.208699Z",
     "iopub.status.idle": "2021-09-27T15:40:17.222386Z",
     "shell.execute_reply": "2021-09-27T15:40:17.222386Z"
    },
    "jupyter": {
     "outputs_hidden": false
    }
   },
   "outputs": [],
   "source": []
  },
  {
   "cell_type": "code",
   "execution_count": null,
   "metadata": {
    "execution": {
     "iopub.execute_input": "2021-09-27T15:40:17.225385Z",
     "iopub.status.busy": "2021-09-27T15:40:17.225385Z",
     "iopub.status.idle": "2021-09-27T15:40:17.237524Z",
     "shell.execute_reply": "2021-09-27T15:40:17.237524Z"
    },
    "jupyter": {
     "outputs_hidden": false
    }
   },
   "outputs": [],
   "source": []
  },
  {
   "cell_type": "code",
   "execution_count": null,
   "metadata": {
    "execution": {
     "iopub.execute_input": "2021-09-27T15:40:17.240523Z",
     "iopub.status.busy": "2021-09-27T15:40:17.239523Z",
     "iopub.status.idle": "2021-09-27T15:40:17.253255Z",
     "shell.execute_reply": "2021-09-27T15:40:17.253255Z"
    },
    "jupyter": {
     "outputs_hidden": false
    }
   },
   "outputs": [],
   "source": []
  },
  {
   "cell_type": "code",
   "execution_count": null,
   "metadata": {
    "execution": {
     "iopub.execute_input": "2021-09-27T15:40:17.256255Z",
     "iopub.status.busy": "2021-09-27T15:40:17.255255Z",
     "iopub.status.idle": "2021-09-27T15:40:17.268424Z",
     "shell.execute_reply": "2021-09-27T15:40:17.268424Z"
    },
    "jupyter": {
     "outputs_hidden": false
    }
   },
   "outputs": [],
   "source": []
  },
  {
   "cell_type": "markdown",
   "metadata": {
    "pycharm": {
     "name": "#%% md\n"
    }
   },
   "source": [
    "### Exercise: Dictionary Manipulation\n",
    "\n",
    "1. Create a empty dictionary called `dct`\n",
    "2. Add the pairs \"apple\" and 1, \"banana\" and 2.0, and \"cherry\" and \"iii\"\n",
    "3. Replace the value of \"apple\" with \"I\"\n",
    "4. Remove the entry for \"banana\"\n",
    "5. Add an entry \"date\" with the value 4"
   ]
  },
  {
   "cell_type": "code",
   "execution_count": null,
   "metadata": {
    "execution": {
     "iopub.execute_input": "2021-09-27T15:40:17.271422Z",
     "iopub.status.busy": "2021-09-27T15:40:17.270422Z",
     "iopub.status.idle": "2021-09-27T15:40:17.284261Z",
     "shell.execute_reply": "2021-09-27T15:40:17.284261Z"
    },
    "jupyter": {
     "outputs_hidden": false
    }
   },
   "outputs": [],
   "source": []
  },
  {
   "cell_type": "code",
   "execution_count": null,
   "metadata": {
    "execution": {
     "iopub.execute_input": "2021-09-27T15:40:17.287260Z",
     "iopub.status.busy": "2021-09-27T15:40:17.287260Z",
     "iopub.status.idle": "2021-09-27T15:40:17.299277Z",
     "shell.execute_reply": "2021-09-27T15:40:17.299277Z"
    },
    "jupyter": {
     "outputs_hidden": false
    }
   },
   "outputs": [],
   "source": []
  },
  {
   "cell_type": "code",
   "execution_count": null,
   "metadata": {
    "execution": {
     "iopub.execute_input": "2021-09-27T15:40:17.301276Z",
     "iopub.status.busy": "2021-09-27T15:40:17.301276Z",
     "iopub.status.idle": "2021-09-27T15:40:17.314295Z",
     "shell.execute_reply": "2021-09-27T15:40:17.314295Z"
    },
    "jupyter": {
     "outputs_hidden": false
    }
   },
   "outputs": [],
   "source": []
  },
  {
   "cell_type": "code",
   "execution_count": null,
   "metadata": {
    "execution": {
     "iopub.execute_input": "2021-09-27T15:40:17.316292Z",
     "iopub.status.busy": "2021-09-27T15:40:17.316292Z",
     "iopub.status.idle": "2021-09-27T15:40:17.329331Z",
     "shell.execute_reply": "2021-09-27T15:40:17.329331Z"
    },
    "jupyter": {
     "outputs_hidden": false
    }
   },
   "outputs": [],
   "source": []
  },
  {
   "cell_type": "code",
   "execution_count": null,
   "metadata": {
    "execution": {
     "iopub.execute_input": "2021-09-27T15:40:17.332327Z",
     "iopub.status.busy": "2021-09-27T15:40:17.332327Z",
     "iopub.status.idle": "2021-09-27T15:40:17.344559Z",
     "shell.execute_reply": "2021-09-27T15:40:17.344559Z"
    },
    "jupyter": {
     "outputs_hidden": false
    }
   },
   "outputs": [],
   "source": []
  },
  {
   "cell_type": "markdown",
   "metadata": {
    "pycharm": {
     "name": "#%% md\n"
    }
   },
   "source": [
    "### Exercise: Directly create a Dictionary\n",
    "\n",
    "Using the final version of `dct` from the previous exercise:\n",
    "\n",
    "1. Directly initialize a new dictionary called `other_dct`.\n",
    "2. Use an f-string to print the values associated with each key.\n",
    "\n",
    "**Hint** You must use both types of quotes. For example, to access a value in\n",
    "an f-string.\n",
    "\n",
    "```python\n",
    "f\"{other_dct['apple']}\"\n",
    "```"
   ]
  },
  {
   "cell_type": "code",
   "execution_count": null,
   "metadata": {
    "execution": {
     "iopub.execute_input": "2021-09-27T15:40:17.347560Z",
     "iopub.status.busy": "2021-09-27T15:40:17.347560Z",
     "iopub.status.idle": "2021-09-27T15:40:17.360084Z",
     "shell.execute_reply": "2021-09-27T15:40:17.360084Z"
    },
    "jupyter": {
     "outputs_hidden": false
    }
   },
   "outputs": [],
   "source": []
  },
  {
   "cell_type": "code",
   "execution_count": null,
   "metadata": {
    "execution": {
     "iopub.execute_input": "2021-09-27T15:40:17.362083Z",
     "iopub.status.busy": "2021-09-27T15:40:17.362083Z",
     "iopub.status.idle": "2021-09-27T15:40:17.375516Z",
     "shell.execute_reply": "2021-09-27T15:40:17.375516Z"
    },
    "jupyter": {
     "outputs_hidden": false
    }
   },
   "outputs": [],
   "source": []
  },
  {
   "cell_type": "markdown",
   "metadata": {},
   "source": [
    "### Exercise: Tuple Manipulation\n",
    "\n",
    "1. Create a tuple `tpl` containing 100 and 4\n",
    "2. Convert to a list, add the elements 101 and 5\n",
    "3. Convert back toa tuple"
   ]
  },
  {
   "cell_type": "code",
   "execution_count": null,
   "metadata": {
    "execution": {
     "iopub.execute_input": "2021-09-27T15:40:17.378511Z",
     "iopub.status.busy": "2021-09-27T15:40:17.377511Z",
     "iopub.status.idle": "2021-09-27T15:40:17.391193Z",
     "shell.execute_reply": "2021-09-27T15:40:17.391193Z"
    },
    "jupyter": {
     "outputs_hidden": false
    }
   },
   "outputs": [],
   "source": []
  },
  {
   "cell_type": "code",
   "execution_count": null,
   "metadata": {
    "execution": {
     "iopub.execute_input": "2021-09-27T15:40:17.394192Z",
     "iopub.status.busy": "2021-09-27T15:40:17.393192Z",
     "iopub.status.idle": "2021-09-27T15:40:17.406637Z",
     "shell.execute_reply": "2021-09-27T15:40:17.406637Z"
    },
    "jupyter": {
     "outputs_hidden": false
    }
   },
   "outputs": [],
   "source": []
  },
  {
   "cell_type": "code",
   "execution_count": null,
   "metadata": {
    "execution": {
     "iopub.execute_input": "2021-09-27T15:40:17.408636Z",
     "iopub.status.busy": "2021-09-27T15:40:17.408636Z",
     "iopub.status.idle": "2021-09-27T15:40:17.421558Z",
     "shell.execute_reply": "2021-09-27T15:40:17.421558Z"
    },
    "jupyter": {
     "outputs_hidden": false
    },
    "tags": []
   },
   "outputs": [],
   "source": []
  }
 ],
 "metadata": {
  "kernelspec": {
   "display_name": "Python 3 (ipykernel)",
   "language": "python",
   "name": "python3"
  },
  "language_info": {
   "codemirror_mode": {
    "name": "ipython",
    "version": 3
   },
   "file_extension": ".py",
   "mimetype": "text/x-python",
   "name": "python",
   "nbconvert_exporter": "python",
   "pygments_lexer": "ipython3",
   "version": "3.9.7"
  },
  "pycharm": {
   "stem_cell": {
    "cell_type": "raw",
    "metadata": {
     "collapsed": false
    },
    "source": [
     "\n"
    ]
   }
  }
 },
 "nbformat": 4,
 "nbformat_minor": 4
}
