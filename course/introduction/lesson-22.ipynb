{
 "cells": [
  {
   "cell_type": "markdown",
   "metadata": {},
   "source": [
    "# Graphics: Other Plots\n",
    "\n",
    "This lesson covers:\n",
    "\n",
    "* Histograms \n",
    "* Scatter Plots"
   ]
  },
  {
   "cell_type": "markdown",
   "metadata": {},
   "source": [
    "Plotting in notebooks requires using a magic command, which starts with `%`,\n",
    "to initialize the plotting backend."
   ]
  },
  {
   "cell_type": "code",
   "execution_count": null,
   "metadata": {
    "execution": {
     "iopub.execute_input": "2021-09-27T15:41:11.230264Z",
     "iopub.status.busy": "2021-09-27T15:41:11.230264Z",
     "iopub.status.idle": "2021-09-27T15:41:11.505413Z",
     "shell.execute_reply": "2021-09-27T15:41:11.506413Z"
    },
    "jupyter": {
     "outputs_hidden": false
    },
    "pycharm": {
     "is_executing": false,
     "name": "#%%\n"
    }
   },
   "outputs": [],
   "source": [
    "# Setup\n",
    "%matplotlib inline\n",
    "import matplotlib.pyplot as plt\n",
    "\n",
    "plt.rc(\"figure\", figsize=(16, 6))  # Improves figure size"
   ]
  },
  {
   "cell_type": "markdown",
   "metadata": {},
   "source": [
    "Begin by loading the data in hf.h5. This data set contains high-frequency\n",
    "price data for IBM and MSFT on a single day stored as two Series. IBM is\n",
    "stored as \"IBM\" in the HDF file, and MSFT is stored as \"MSFT."
   ]
  },
  {
   "cell_type": "code",
   "execution_count": null,
   "metadata": {
    "execution": {
     "iopub.execute_input": "2021-09-27T15:41:11.508414Z",
     "iopub.status.busy": "2021-09-27T15:41:11.508414Z",
     "iopub.status.idle": "2021-09-27T15:41:12.200415Z",
     "shell.execute_reply": "2021-09-27T15:41:12.200415Z"
    },
    "jupyter": {
     "outputs_hidden": false
    }
   },
   "outputs": [],
   "source": []
  },
  {
   "cell_type": "markdown",
   "metadata": {},
   "source": [
    "## Problem: Histogram\n",
    "\n",
    "Produce a histogram of MSFT 1-minute returns (Hint: you have to produce\n",
    "the 1-minute Microsoft returns first using `resample` and `pct_change`)."
   ]
  },
  {
   "cell_type": "code",
   "execution_count": null,
   "metadata": {
    "execution": {
     "iopub.execute_input": "2021-09-27T15:41:12.203414Z",
     "iopub.status.busy": "2021-09-27T15:41:12.203414Z",
     "iopub.status.idle": "2021-09-27T15:41:12.342415Z",
     "shell.execute_reply": "2021-09-27T15:41:12.342415Z"
    },
    "jupyter": {
     "outputs_hidden": false
    }
   },
   "outputs": [],
   "source": []
  },
  {
   "cell_type": "markdown",
   "metadata": {},
   "source": [
    "## Problem: Scatter Plot\n",
    "\n",
    "Scatter the 5-minute MSFT returns against the 5-minute IBM returns.\n",
    "\n",
    "*Hint*: You will need to create both 5-minute return series, merge them,\n",
    "and then plot using the combined DataFrame. "
   ]
  },
  {
   "cell_type": "code",
   "execution_count": null,
   "metadata": {
    "execution": {
     "iopub.execute_input": "2021-09-27T15:41:12.348414Z",
     "iopub.status.busy": "2021-09-27T15:41:12.348414Z",
     "iopub.status.idle": "2021-09-27T15:41:12.500414Z",
     "shell.execute_reply": "2021-09-27T15:41:12.500414Z"
    },
    "jupyter": {
     "outputs_hidden": false
    }
   },
   "outputs": [],
   "source": []
  },
  {
   "cell_type": "markdown",
   "metadata": {
    "pycharm": {
     "name": "#%% md\n"
    }
   },
   "source": [
    "## Problem: Saving plots\n",
    "\n",
    "Save the previous plot to PNG and PDF."
   ]
  },
  {
   "cell_type": "code",
   "execution_count": null,
   "metadata": {
    "execution": {
     "iopub.execute_input": "2021-09-27T15:41:12.504412Z",
     "iopub.status.busy": "2021-09-27T15:41:12.503411Z",
     "iopub.status.idle": "2021-09-27T15:41:12.782414Z",
     "shell.execute_reply": "2021-09-27T15:41:12.782414Z"
    },
    "jupyter": {
     "outputs_hidden": false
    }
   },
   "outputs": [],
   "source": []
  },
  {
   "cell_type": "markdown",
   "metadata": {
    "pycharm": {
     "name": "#%% md\n"
    }
   },
   "source": [
    "## Exercises\n",
    "\n",
    "### Exercise: Visualize 5 and 10 minute returns\n",
    "\n",
    "Produce a 2 by 1 subplot with a histogram of the 5-minute returns of IBM in the\n",
    "top panel and 10-minute returns of IBM in the bottom. Set an appropriate title on\n",
    "each of the 2 plots."
   ]
  },
  {
   "cell_type": "code",
   "execution_count": null,
   "metadata": {
    "execution": {
     "iopub.execute_input": "2021-09-27T15:41:12.786414Z",
     "iopub.status.busy": "2021-09-27T15:41:12.786414Z",
     "iopub.status.idle": "2021-09-27T15:41:13.506416Z",
     "shell.execute_reply": "2021-09-27T15:41:13.506416Z"
    },
    "jupyter": {
     "outputs_hidden": false
    }
   },
   "outputs": [],
   "source": []
  },
  {
   "cell_type": "markdown",
   "metadata": {
    "pycharm": {
     "name": "#%% md\n"
    }
   },
   "source": [
    "### Exercise: Export the result of the previous exercise to JPEG and PDF   \n"
   ]
  },
  {
   "cell_type": "code",
   "execution_count": null,
   "metadata": {
    "execution": {
     "iopub.execute_input": "2021-09-27T15:41:13.510414Z",
     "iopub.status.busy": "2021-09-27T15:41:13.510414Z",
     "iopub.status.idle": "2021-09-27T15:41:13.631413Z",
     "shell.execute_reply": "2021-09-27T15:41:13.631413Z"
    },
    "jupyter": {
     "outputs_hidden": false
    }
   },
   "outputs": [],
   "source": []
  },
  {
   "cell_type": "markdown",
   "metadata": {
    "pycharm": {
     "name": "#%% md\n"
    }
   },
   "source": [
    "## Exercise: Plot histograms and a scatter plot\n",
    "\n",
    "Produce a 2 by 2 subplot with:\n",
    "\n",
    "* Create a square figure with a size of 10 by 10 using `plt.rc`\n",
    "* Histograms of IBM and MSFT on the diagonals\n",
    "* Scatter plots on the off-diagonals where the x and y line up with the\n",
    "  histogram on the diagonal.\n",
    "* Set the limits of the scatter plots to match the appropriate histogram\n",
    "  x and y limit.\n",
    "* Clean up the plot using `tight_layout`"
   ]
  },
  {
   "cell_type": "code",
   "execution_count": null,
   "metadata": {
    "execution": {
     "iopub.execute_input": "2021-09-27T15:41:13.724412Z",
     "iopub.status.busy": "2021-09-27T15:41:13.645416Z",
     "iopub.status.idle": "2021-09-27T15:41:14.196414Z",
     "shell.execute_reply": "2021-09-27T15:41:14.196414Z"
    },
    "jupyter": {
     "outputs_hidden": false
    }
   },
   "outputs": [],
   "source": []
  },
  {
   "cell_type": "markdown",
   "metadata": {
    "pycharm": {
     "name": "#%% md\n"
    }
   },
   "source": [
    "### Exercise: Use pandas plotting tools\n",
    "\n",
    "Use `pandas.plotting.scatter_matrix` to produce a similar plot to the previous exercise."
   ]
  },
  {
   "cell_type": "code",
   "execution_count": null,
   "metadata": {
    "execution": {
     "iopub.execute_input": "2021-09-27T15:41:14.203412Z",
     "iopub.status.busy": "2021-09-27T15:41:14.200412Z",
     "iopub.status.idle": "2021-09-27T15:41:14.511415Z",
     "shell.execute_reply": "2021-09-27T15:41:14.511415Z"
    },
    "jupyter": {
     "outputs_hidden": false
    },
    "tags": []
   },
   "outputs": [],
   "source": []
  }
 ],
 "metadata": {
  "kernelspec": {
   "display_name": "Python 3 (ipykernel)",
   "language": "python",
   "name": "python3"
  },
  "language_info": {
   "codemirror_mode": {
    "name": "ipython",
    "version": 3
   },
   "file_extension": ".py",
   "mimetype": "text/x-python",
   "name": "python",
   "nbconvert_exporter": "python",
   "pygments_lexer": "ipython3",
   "version": "3.9.7"
  },
  "pycharm": {
   "stem_cell": {
    "cell_type": "raw",
    "metadata": {
     "collapsed": false
    },
    "source": []
   }
  }
 },
 "nbformat": 4,
 "nbformat_minor": 4
}
