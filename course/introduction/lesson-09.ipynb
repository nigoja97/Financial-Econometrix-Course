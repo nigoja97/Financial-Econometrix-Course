{
 "cells": [
  {
   "cell_type": "markdown",
   "metadata": {},
   "source": [
    "# Common DataFrame methods\n",
    "\n",
    "This lesson introduces the common `DataFrame` methods that\n",
    "we will repeatedly use in the course. \n",
    "\n",
    "This first cell load data for use in this lesson."
   ]
  },
  {
   "cell_type": "code",
   "execution_count": null,
   "metadata": {
    "execution": {
     "iopub.execute_input": "2021-09-27T15:40:35.541600Z",
     "iopub.status.busy": "2021-09-27T15:40:35.541600Z",
     "iopub.status.idle": "2021-09-27T15:40:36.328903Z",
     "shell.execute_reply": "2021-09-27T15:40:36.329902Z"
    },
    "pycharm": {
     "is_executing": false,
     "name": "#%%\n"
    }
   },
   "outputs": [],
   "source": [
    "# Setup: Load prices\n",
    "import pandas as pd\n",
    "\n",
    "prices = pd.read_hdf(\"data/dataframes.h5\", \"prices\")\n",
    "sep_04 = pd.read_hdf(\"data/dataframes.h5\", \"sep_04\")\n",
    "goog = pd.read_hdf(\"data/dataframes.h5\", \"goog\")\n",
    "returns = prices.pct_change().dropna()\n",
    "spy_returns = returns.SPY\n",
    "aapl_returns = returns.AAPL\n",
    "goog_returns = returns.GOOG"
   ]
  },
  {
   "cell_type": "markdown",
   "metadata": {},
   "source": [
    "## Problem: Constructing portfolio returns\n",
    "\n",
    "Compute the return of a portfolio with weight $\\frac{1}{3}$ in each security using\n",
    "multiplication (`*`) and `.sum()`.\n",
    "\n",
    "**Note**: You need to use the `axis` keyword for the sum."
   ]
  },
  {
   "cell_type": "code",
   "execution_count": null,
   "metadata": {
    "execution": {
     "iopub.execute_input": "2021-09-27T15:40:36.337902Z",
     "iopub.status.busy": "2021-09-27T15:40:36.337902Z",
     "iopub.status.idle": "2021-09-27T15:40:36.344903Z",
     "shell.execute_reply": "2021-09-27T15:40:36.344903Z"
    }
   },
   "outputs": [],
   "source": []
  },
  {
   "cell_type": "markdown",
   "metadata": {},
   "source": [
    "## Problem: Compute the Mean and Standard Deviation\n",
    "\n",
    "Using the function mean, compute the mean of the three returns series one at a time. For example  \n",
    "```python\n",
    "goog_mean = goog_returns.mean()\n",
    "```\n",
    "Next, compute the mean of the matrix of returns using  \n",
    "\n",
    "```python\n",
    "retmean = returns.mean()\n",
    "```\n",
    "\n",
    "What is the relationship between these two? Repeat this exercise for the standard deviation (`std()`).\n"
   ]
  },
  {
   "cell_type": "code",
   "execution_count": null,
   "metadata": {
    "execution": {
     "iopub.execute_input": "2021-09-27T15:40:36.347902Z",
     "iopub.status.busy": "2021-09-27T15:40:36.347902Z",
     "iopub.status.idle": "2021-09-27T15:40:36.360447Z",
     "shell.execute_reply": "2021-09-27T15:40:36.360447Z"
    }
   },
   "outputs": [],
   "source": []
  },
  {
   "cell_type": "code",
   "execution_count": null,
   "metadata": {
    "execution": {
     "iopub.execute_input": "2021-09-27T15:40:36.364444Z",
     "iopub.status.busy": "2021-09-27T15:40:36.364444Z",
     "iopub.status.idle": "2021-09-27T15:40:36.375989Z",
     "shell.execute_reply": "2021-09-27T15:40:36.375989Z"
    }
   },
   "outputs": [],
   "source": []
  },
  {
   "cell_type": "code",
   "execution_count": null,
   "metadata": {
    "execution": {
     "iopub.execute_input": "2021-09-27T15:40:36.378986Z",
     "iopub.status.busy": "2021-09-27T15:40:36.378986Z",
     "iopub.status.idle": "2021-09-27T15:40:36.390994Z",
     "shell.execute_reply": "2021-09-27T15:40:36.390994Z"
    }
   },
   "outputs": [],
   "source": []
  },
  {
   "cell_type": "markdown",
   "metadata": {
    "pycharm": {
     "name": "#%% md\n"
    }
   },
   "source": [
    "## Problem: Compute Correlation\n",
    "Compute the correlation of the matrix of returns (`corr()`). "
   ]
  },
  {
   "cell_type": "code",
   "execution_count": null,
   "metadata": {
    "execution": {
     "iopub.execute_input": "2021-09-27T15:40:36.393994Z",
     "iopub.status.busy": "2021-09-27T15:40:36.393994Z",
     "iopub.status.idle": "2021-09-27T15:40:36.406237Z",
     "shell.execute_reply": "2021-09-27T15:40:36.406237Z"
    }
   },
   "outputs": [],
   "source": []
  },
  {
   "cell_type": "markdown",
   "metadata": {},
   "source": [
    "## Problem: Summing all elements\n",
    "\n",
    "Compute the sum of the columns of returns using `.sum()`. How is this related to the mean computed \n",
    "in the previous step? "
   ]
  },
  {
   "cell_type": "code",
   "execution_count": null,
   "metadata": {
    "execution": {
     "iopub.execute_input": "2021-09-27T15:40:36.410236Z",
     "iopub.status.busy": "2021-09-27T15:40:36.409236Z",
     "iopub.status.idle": "2021-09-27T15:40:36.421913Z",
     "shell.execute_reply": "2021-09-27T15:40:36.421913Z"
    }
   },
   "outputs": [],
   "source": []
  },
  {
   "cell_type": "code",
   "execution_count": null,
   "metadata": {
    "execution": {
     "iopub.execute_input": "2021-09-27T15:40:36.425911Z",
     "iopub.status.busy": "2021-09-27T15:40:36.424911Z",
     "iopub.status.idle": "2021-09-27T15:40:36.437920Z",
     "shell.execute_reply": "2021-09-27T15:40:36.437920Z"
    }
   },
   "outputs": [],
   "source": []
  },
  {
   "cell_type": "markdown",
   "metadata": {},
   "source": [
    "## Problem: Maximum and Minimum Values\n",
    "Compute the minimum and maximum values of the columns of returns using the `min()` and `max()` commands. "
   ]
  },
  {
   "cell_type": "code",
   "execution_count": null,
   "metadata": {
    "execution": {
     "iopub.execute_input": "2021-09-27T15:40:36.440919Z",
     "iopub.status.busy": "2021-09-27T15:40:36.440919Z",
     "iopub.status.idle": "2021-09-27T15:40:36.453940Z",
     "shell.execute_reply": "2021-09-27T15:40:36.453940Z"
    }
   },
   "outputs": [],
   "source": []
  },
  {
   "cell_type": "code",
   "execution_count": null,
   "metadata": {
    "execution": {
     "iopub.execute_input": "2021-09-27T15:40:36.456940Z",
     "iopub.status.busy": "2021-09-27T15:40:36.456940Z",
     "iopub.status.idle": "2021-09-27T15:40:36.469957Z",
     "shell.execute_reply": "2021-09-27T15:40:36.469957Z"
    }
   },
   "outputs": [],
   "source": []
  },
  {
   "cell_type": "markdown",
   "metadata": {},
   "source": [
    "## Problem: Rounding Up, Down and to the Closest Integer\n",
    "\n",
    "Rounding up is handled by ceil, rounding down is handled by floor and rounding to the closest \n",
    "integer is handled by round. Try all of these commands on 100 times returns. For example,  \n",
    "```python\n",
    "rounded = (100*returns).round()\n",
    "``` \n",
    "\n",
    "Use `ceil` and `floor` to round up and down, respectively."
   ]
  },
  {
   "cell_type": "code",
   "execution_count": null,
   "metadata": {
    "execution": {
     "iopub.execute_input": "2021-09-27T15:40:36.477957Z",
     "iopub.status.busy": "2021-09-27T15:40:36.476954Z",
     "iopub.status.idle": "2021-09-27T15:40:36.484626Z",
     "shell.execute_reply": "2021-09-27T15:40:36.484626Z"
    }
   },
   "outputs": [],
   "source": []
  },
  {
   "cell_type": "code",
   "execution_count": null,
   "metadata": {
    "execution": {
     "iopub.execute_input": "2021-09-27T15:40:36.490625Z",
     "iopub.status.busy": "2021-09-27T15:40:36.490625Z",
     "iopub.status.idle": "2021-09-27T15:40:36.500210Z",
     "shell.execute_reply": "2021-09-27T15:40:36.500210Z"
    }
   },
   "outputs": [],
   "source": []
  },
  {
   "cell_type": "code",
   "execution_count": null,
   "metadata": {
    "execution": {
     "iopub.execute_input": "2021-09-27T15:40:36.507207Z",
     "iopub.status.busy": "2021-09-27T15:40:36.506208Z",
     "iopub.status.idle": "2021-09-27T15:40:36.515975Z",
     "shell.execute_reply": "2021-09-27T15:40:36.515975Z"
    }
   },
   "outputs": [],
   "source": []
  },
  {
   "cell_type": "markdown",
   "metadata": {
    "pycharm": {
     "name": "#%% md\n"
    }
   },
   "source": [
    "## Exercises\n",
    "\n",
    "### Exercise: Compute Quantiles\n",
    "\n",
    "Compute the 5%, 25%, 50%, 75% and 95% quantiles of momentum using the `quantile`\n",
    "method.\n"
   ]
  },
  {
   "cell_type": "code",
   "execution_count": null,
   "metadata": {
    "execution": {
     "iopub.execute_input": "2021-09-27T15:40:36.518974Z",
     "iopub.status.busy": "2021-09-27T15:40:36.517973Z",
     "iopub.status.idle": "2021-09-27T15:40:36.531724Z",
     "shell.execute_reply": "2021-09-27T15:40:36.531724Z"
    },
    "pycharm": {
     "name": "#%%\n"
    }
   },
   "outputs": [],
   "source": [
    "# Setup: Load data\n",
    "import pandas as pd\n",
    "\n",
    "momentum = pd.read_csv(\"data/momentum.csv\", index_col=\"date\", parse_dates=True)\n",
    "mom_10 = momentum.mom_10"
   ]
  },
  {
   "cell_type": "code",
   "execution_count": null,
   "metadata": {
    "execution": {
     "iopub.execute_input": "2021-09-27T15:40:36.534721Z",
     "iopub.status.busy": "2021-09-27T15:40:36.534721Z",
     "iopub.status.idle": "2021-09-27T15:40:36.547584Z",
     "shell.execute_reply": "2021-09-27T15:40:36.547584Z"
    }
   },
   "outputs": [],
   "source": []
  },
  {
   "cell_type": "markdown",
   "metadata": {
    "pycharm": {
     "name": "#%% md\n"
    }
   },
   "source": [
    "### Exercise: Sorting\n",
    "\n",
    "Use `sort_values` to sort momentum by the column `mom_10`. Verify that the\n",
    "sort was successful by looking at the minimum of a diff."
   ]
  },
  {
   "cell_type": "code",
   "execution_count": null,
   "metadata": {
    "execution": {
     "iopub.execute_input": "2021-09-27T15:40:36.557583Z",
     "iopub.status.busy": "2021-09-27T15:40:36.550582Z",
     "iopub.status.idle": "2021-09-27T15:40:36.563097Z",
     "shell.execute_reply": "2021-09-27T15:40:36.563097Z"
    }
   },
   "outputs": [],
   "source": []
  },
  {
   "cell_type": "code",
   "execution_count": null,
   "metadata": {
    "execution": {
     "iopub.execute_input": "2021-09-27T15:40:36.567096Z",
     "iopub.status.busy": "2021-09-27T15:40:36.565096Z",
     "iopub.status.idle": "2021-09-27T15:40:36.578737Z",
     "shell.execute_reply": "2021-09-27T15:40:36.578737Z"
    }
   },
   "outputs": [],
   "source": []
  },
  {
   "cell_type": "markdown",
   "metadata": {},
   "source": [
    "### Exercise: Sort Descending\n",
    "\n",
    "Use `sort_values` to sort momentum by by the column `mom_10` using a descending\n",
    "sort (see the help for `sort_values`). Verify the sort worked by looking at the maximum of\n",
    "a diff."
   ]
  },
  {
   "cell_type": "code",
   "execution_count": null,
   "metadata": {
    "execution": {
     "iopub.execute_input": "2021-09-27T15:40:36.619738Z",
     "iopub.status.busy": "2021-09-27T15:40:36.618739Z",
     "iopub.status.idle": "2021-09-27T15:40:36.638738Z",
     "shell.execute_reply": "2021-09-27T15:40:36.638738Z"
    }
   },
   "outputs": [],
   "source": []
  },
  {
   "cell_type": "code",
   "execution_count": null,
   "metadata": {
    "execution": {
     "iopub.execute_input": "2021-09-27T15:40:36.641737Z",
     "iopub.status.busy": "2021-09-27T15:40:36.641737Z",
     "iopub.status.idle": "2021-09-27T15:40:36.653795Z",
     "shell.execute_reply": "2021-09-27T15:40:36.653795Z"
    }
   },
   "outputs": [],
   "source": []
  },
  {
   "cell_type": "code",
   "execution_count": null,
   "metadata": {
    "execution": {
     "iopub.execute_input": "2021-09-27T15:40:36.656796Z",
     "iopub.status.busy": "2021-09-27T15:40:36.655796Z",
     "iopub.status.idle": "2021-09-27T15:40:36.668989Z",
     "shell.execute_reply": "2021-09-27T15:40:36.668989Z"
    }
   },
   "outputs": [],
   "source": []
  },
  {
   "cell_type": "code",
   "execution_count": null,
   "metadata": {
    "execution": {
     "iopub.execute_input": "2021-09-27T15:40:36.672988Z",
     "iopub.status.busy": "2021-09-27T15:40:36.670989Z",
     "iopub.status.idle": "2021-09-27T15:40:36.684810Z",
     "shell.execute_reply": "2021-09-27T15:40:36.684810Z"
    }
   },
   "outputs": [],
   "source": []
  },
  {
   "cell_type": "markdown",
   "metadata": {
    "pycharm": {
     "name": "#%% md\n"
    }
   },
   "source": [
    "### Exercise: Get Number of Elements\n",
    "\n",
    "Use the `shape` property to get the number of observations in momentum. Use it\n",
    "again to get the number of columns."
   ]
  },
  {
   "cell_type": "code",
   "execution_count": null,
   "metadata": {
    "execution": {
     "iopub.execute_input": "2021-09-27T15:40:36.687807Z",
     "iopub.status.busy": "2021-09-27T15:40:36.686807Z",
     "iopub.status.idle": "2021-09-27T15:40:36.699648Z",
     "shell.execute_reply": "2021-09-27T15:40:36.699648Z"
    }
   },
   "outputs": [],
   "source": []
  },
  {
   "cell_type": "code",
   "execution_count": null,
   "metadata": {
    "execution": {
     "iopub.execute_input": "2021-09-27T15:40:36.702650Z",
     "iopub.status.busy": "2021-09-27T15:40:36.701646Z",
     "iopub.status.idle": "2021-09-27T15:40:36.715048Z",
     "shell.execute_reply": "2021-09-27T15:40:36.715048Z"
    }
   },
   "outputs": [],
   "source": []
  },
  {
   "cell_type": "markdown",
   "metadata": {},
   "source": [
    "### Exercise: Use `shift` to Compute Returns\n",
    "\n",
    "Compute the percentage change using only `shift`, division (`/`) and\n",
    "subtraction (`-`) on the `Series` `mom_10`. Verify that your result matches what `pct_change` produces."
   ]
  },
  {
   "cell_type": "code",
   "execution_count": null,
   "metadata": {
    "execution": {
     "iopub.execute_input": "2021-09-27T15:40:36.720047Z",
     "iopub.status.busy": "2021-09-27T15:40:36.720047Z",
     "iopub.status.idle": "2021-09-27T15:40:36.730762Z",
     "shell.execute_reply": "2021-09-27T15:40:36.730762Z"
    },
    "tags": []
   },
   "outputs": [],
   "source": []
  }
 ],
 "metadata": {
  "kernelspec": {
   "display_name": "Python 3 (ipykernel)",
   "language": "python",
   "name": "python3"
  },
  "language_info": {
   "codemirror_mode": {
    "name": "ipython",
    "version": 3
   },
   "file_extension": ".py",
   "mimetype": "text/x-python",
   "name": "python",
   "nbconvert_exporter": "python",
   "pygments_lexer": "ipython3",
   "version": "3.9.7"
  },
  "pycharm": {
   "stem_cell": {
    "cell_type": "raw",
    "metadata": {
     "collapsed": false
    },
    "source": []
   }
  }
 },
 "nbformat": 4,
 "nbformat_minor": 4
}
