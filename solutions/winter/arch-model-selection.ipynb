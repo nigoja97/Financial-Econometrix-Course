{
 "cells": [
  {
   "cell_type": "markdown",
   "metadata": {
    "pycharm": {
     "name": "#%% md\n"
    }
   },
   "source": [
    "## ARCH Model Selection\n",
    "\n",
    "### Exercise 76\n",
    "\n",
    "Which model is selected for the S&P 500 among the classes:\n",
    "a. TARCH\n",
    "b. GJR-GARCH\n",
    "c. EGARCH"
   ]
  },
  {
   "cell_type": "code",
   "execution_count": 1,
   "metadata": {
    "collapsed": false,
    "execution": {
     "iopub.execute_input": "2021-09-22T10:10:26.234597Z",
     "iopub.status.busy": "2021-09-22T10:10:26.233596Z",
     "iopub.status.idle": "2021-09-22T10:10:26.528438Z",
     "shell.execute_reply": "2021-09-22T10:10:26.528438Z"
    },
    "jupyter": {
     "outputs_hidden": false
    },
    "pycharm": {
     "is_executing": false,
     "name": "#%%\n"
    }
   },
   "outputs": [],
   "source": [
    "%matplotlib inline"
   ]
  },
  {
   "cell_type": "code",
   "execution_count": 2,
   "metadata": {
    "collapsed": false,
    "execution": {
     "iopub.execute_input": "2021-09-22T10:10:26.532438Z",
     "iopub.status.busy": "2021-09-22T10:10:26.531440Z",
     "iopub.status.idle": "2021-09-22T10:10:27.168438Z",
     "shell.execute_reply": "2021-09-22T10:10:27.168438Z"
    },
    "jupyter": {
     "outputs_hidden": false
    },
    "pycharm": {
     "is_executing": false,
     "name": "#%%\n"
    }
   },
   "outputs": [
    {
     "data": {
      "text/html": [
       "<div>\n",
       "<style scoped>\n",
       "    .dataframe tbody tr th:only-of-type {\n",
       "        vertical-align: middle;\n",
       "    }\n",
       "\n",
       "    .dataframe tbody tr th {\n",
       "        vertical-align: top;\n",
       "    }\n",
       "\n",
       "    .dataframe thead th {\n",
       "        text-align: right;\n",
       "    }\n",
       "</style>\n",
       "<table border=\"1\" class=\"dataframe\">\n",
       "  <thead>\n",
       "    <tr style=\"text-align: right;\">\n",
       "      <th></th>\n",
       "      <th>SP500</th>\n",
       "    </tr>\n",
       "    <tr>\n",
       "      <th>DATE</th>\n",
       "      <th></th>\n",
       "    </tr>\n",
       "  </thead>\n",
       "  <tbody>\n",
       "    <tr>\n",
       "      <th>2010-01-12</th>\n",
       "      <td>-9.381157</td>\n",
       "    </tr>\n",
       "    <tr>\n",
       "      <th>2010-01-13</th>\n",
       "      <td>8.325852</td>\n",
       "    </tr>\n",
       "    <tr>\n",
       "      <th>2010-01-14</th>\n",
       "      <td>2.426507</td>\n",
       "    </tr>\n",
       "    <tr>\n",
       "      <th>2010-01-15</th>\n",
       "      <td>-10.823189</td>\n",
       "    </tr>\n",
       "    <tr>\n",
       "      <th>2010-01-19</th>\n",
       "      <td>12.499670</td>\n",
       "    </tr>\n",
       "  </tbody>\n",
       "</table>\n",
       "</div>"
      ],
      "text/plain": [
       "                SP500\n",
       "DATE                 \n",
       "2010-01-12  -9.381157\n",
       "2010-01-13   8.325852\n",
       "2010-01-14   2.426507\n",
       "2010-01-15 -10.823189\n",
       "2010-01-19  12.499670"
      ]
     },
     "execution_count": 2,
     "metadata": {},
     "output_type": "execute_result"
    }
   ],
   "source": [
    "import pandas as pd\n",
    "\n",
    "sp500 = pd.read_hdf(\"./data/arch-data.h5\", \"sp500\")\n",
    "sp500_returns = 1000 * sp500.pct_change().dropna()\n",
    "sp500_returns.head()"
   ]
  },
  {
   "cell_type": "markdown",
   "metadata": {
    "pycharm": {
     "name": "#%% md\n"
    }
   },
   "source": [
    "#### Explanation\n",
    "\n",
    "Start with a baseline GARCH(1,1,1) "
   ]
  },
  {
   "cell_type": "code",
   "execution_count": 3,
   "metadata": {
    "collapsed": false,
    "execution": {
     "iopub.execute_input": "2021-09-22T10:10:27.171439Z",
     "iopub.status.busy": "2021-09-22T10:10:27.170438Z",
     "iopub.status.idle": "2021-09-22T10:10:28.177439Z",
     "shell.execute_reply": "2021-09-22T10:10:28.177439Z"
    },
    "jupyter": {
     "outputs_hidden": false
    },
    "pycharm": {
     "is_executing": false,
     "name": "#%%\n"
    }
   },
   "outputs": [
    {
     "data": {
      "text/html": [
       "<table class=\"simpletable\">\n",
       "<caption>Constant Mean - GARCH Model Results</caption>\n",
       "<tr>\n",
       "  <th>Dep. Variable:</th>        <td>SP500</td>       <th>  R-squared:         </th>  <td>   0.000</td> \n",
       "</tr>\n",
       "<tr>\n",
       "  <th>Mean Model:</th>       <td>Constant Mean</td>   <th>  Adj. R-squared:    </th>  <td>   0.000</td> \n",
       "</tr>\n",
       "<tr>\n",
       "  <th>Vol Model:</th>            <td>GARCH</td>       <th>  Log-Likelihood:    </th> <td>  -8776.55</td>\n",
       "</tr>\n",
       "<tr>\n",
       "  <th>Distribution:</th>        <td>Normal</td>       <th>  AIC:               </th> <td>   17561.1</td>\n",
       "</tr>\n",
       "<tr>\n",
       "  <th>Method:</th>        <td>Maximum Likelihood</td> <th>  BIC:               </th> <td>   17584.4</td>\n",
       "</tr>\n",
       "<tr>\n",
       "  <th></th>                        <td></td>          <th>  No. Observations:  </th>    <td>2510</td>   \n",
       "</tr>\n",
       "<tr>\n",
       "  <th>Date:</th>           <td>Wed, Sep 22 2021</td>  <th>  Df Residuals:      </th>    <td>2509</td>   \n",
       "</tr>\n",
       "<tr>\n",
       "  <th>Time:</th>               <td>11:10:28</td>      <th>  Df Model:          </th>      <td>1</td>    \n",
       "</tr>\n",
       "</table>\n",
       "<table class=\"simpletable\">\n",
       "<caption>Mean Model</caption>\n",
       "<tr>\n",
       "   <td></td>     <th>coef</th>     <th>std err</th>      <th>t</th>       <th>P>|t|</th>   <th>95.0% Conf. Int.</th> \n",
       "</tr>\n",
       "<tr>\n",
       "  <th>mu</th> <td>    0.8168</td> <td>    0.140</td> <td>    5.845</td> <td>5.067e-09</td> <td>[  0.543,  1.091]</td>\n",
       "</tr>\n",
       "</table>\n",
       "<table class=\"simpletable\">\n",
       "<caption>Volatility Model</caption>\n",
       "<tr>\n",
       "      <td></td>        <th>coef</th>     <th>std err</th>      <th>t</th>        <th>P>|t|</th>   <th>95.0% Conf. Int.</th> \n",
       "</tr>\n",
       "<tr>\n",
       "  <th>omega</th>    <td>    3.6050</td> <td>    0.810</td> <td>    4.452</td>  <td>8.515e-06</td> <td>[  2.018,  5.192]</td>\n",
       "</tr>\n",
       "<tr>\n",
       "  <th>alpha[1]</th> <td>    0.1688</td> <td>2.471e-02</td> <td>    6.830</td>  <td>8.473e-12</td> <td>[  0.120,  0.217]</td>\n",
       "</tr>\n",
       "<tr>\n",
       "  <th>beta[1]</th>  <td>    0.7923</td> <td>2.409e-02</td> <td>   32.887</td> <td>3.354e-237</td> <td>[  0.745,  0.839]</td>\n",
       "</tr>\n",
       "</table><br/><br/>Covariance estimator: robust"
      ],
      "text/plain": [
       "<class 'statsmodels.iolib.summary.Summary'>\n",
       "\"\"\"\n",
       "                     Constant Mean - GARCH Model Results                      \n",
       "==============================================================================\n",
       "Dep. Variable:                  SP500   R-squared:                       0.000\n",
       "Mean Model:             Constant Mean   Adj. R-squared:                  0.000\n",
       "Vol Model:                      GARCH   Log-Likelihood:               -8776.55\n",
       "Distribution:                  Normal   AIC:                           17561.1\n",
       "Method:            Maximum Likelihood   BIC:                           17584.4\n",
       "                                        No. Observations:                 2510\n",
       "Date:                Wed, Sep 22 2021   Df Residuals:                     2509\n",
       "Time:                        11:10:28   Df Model:                            1\n",
       "                               Mean Model                               \n",
       "========================================================================\n",
       "                 coef    std err          t      P>|t|  95.0% Conf. Int.\n",
       "------------------------------------------------------------------------\n",
       "mu             0.8168      0.140      5.845  5.067e-09 [  0.543,  1.091]\n",
       "                            Volatility Model                            \n",
       "========================================================================\n",
       "                 coef    std err          t      P>|t|  95.0% Conf. Int.\n",
       "------------------------------------------------------------------------\n",
       "omega          3.6050      0.810      4.452  8.515e-06 [  2.018,  5.192]\n",
       "alpha[1]       0.1688  2.471e-02      6.830  8.473e-12 [  0.120,  0.217]\n",
       "beta[1]        0.7923  2.409e-02     32.887 3.354e-237 [  0.745,  0.839]\n",
       "========================================================================\n",
       "\n",
       "Covariance estimator: robust\n",
       "\"\"\""
      ]
     },
     "execution_count": 3,
     "metadata": {},
     "output_type": "execute_result"
    }
   ],
   "source": [
    "from arch import arch_model\n",
    "\n",
    "garch = arch_model(sp500_returns)\n",
    "garch_res = garch.fit(disp=\"off\")\n",
    "garch_res.summary()"
   ]
  },
  {
   "cell_type": "markdown",
   "metadata": {
    "pycharm": {
     "name": "#%% md\n"
    }
   },
   "source": [
    "#### Explanation\n",
    "\n",
    "We can then extend this model with an asymmetry into a GJR-GARCH(1,1,1). \n",
    "The asymmetry term is highly significant and eliminates the symmetric term."
   ]
  },
  {
   "cell_type": "code",
   "execution_count": 4,
   "metadata": {
    "collapsed": false,
    "execution": {
     "iopub.execute_input": "2021-09-22T10:10:28.181440Z",
     "iopub.status.busy": "2021-09-22T10:10:28.181440Z",
     "iopub.status.idle": "2021-09-22T10:10:28.223439Z",
     "shell.execute_reply": "2021-09-22T10:10:28.224438Z"
    },
    "jupyter": {
     "outputs_hidden": false
    },
    "pycharm": {
     "is_executing": false,
     "name": "#%%\n"
    }
   },
   "outputs": [
    {
     "data": {
      "text/html": [
       "<table class=\"simpletable\">\n",
       "<caption>Constant Mean - GJR-GARCH Model Results</caption>\n",
       "<tr>\n",
       "  <th>Dep. Variable:</th>        <td>SP500</td>       <th>  R-squared:         </th>  <td>   0.000</td> \n",
       "</tr>\n",
       "<tr>\n",
       "  <th>Mean Model:</th>       <td>Constant Mean</td>   <th>  Adj. R-squared:    </th>  <td>   0.000</td> \n",
       "</tr>\n",
       "<tr>\n",
       "  <th>Vol Model:</th>          <td>GJR-GARCH</td>     <th>  Log-Likelihood:    </th> <td>  -8709.19</td>\n",
       "</tr>\n",
       "<tr>\n",
       "  <th>Distribution:</th>        <td>Normal</td>       <th>  AIC:               </th> <td>   17428.4</td>\n",
       "</tr>\n",
       "<tr>\n",
       "  <th>Method:</th>        <td>Maximum Likelihood</td> <th>  BIC:               </th> <td>   17457.5</td>\n",
       "</tr>\n",
       "<tr>\n",
       "  <th></th>                        <td></td>          <th>  No. Observations:  </th>    <td>2510</td>   \n",
       "</tr>\n",
       "<tr>\n",
       "  <th>Date:</th>           <td>Wed, Sep 22 2021</td>  <th>  Df Residuals:      </th>    <td>2509</td>   \n",
       "</tr>\n",
       "<tr>\n",
       "  <th>Time:</th>               <td>11:10:28</td>      <th>  Df Model:          </th>      <td>1</td>    \n",
       "</tr>\n",
       "</table>\n",
       "<table class=\"simpletable\">\n",
       "<caption>Mean Model</caption>\n",
       "<tr>\n",
       "   <td></td>     <th>coef</th>     <th>std err</th>      <th>t</th>       <th>P>|t|</th>   <th>95.0% Conf. Int.</th> \n",
       "</tr>\n",
       "<tr>\n",
       "  <th>mu</th> <td>    0.4165</td> <td>    0.135</td> <td>    3.078</td> <td>2.087e-03</td> <td>[  0.151,  0.682]</td>\n",
       "</tr>\n",
       "</table>\n",
       "<table class=\"simpletable\">\n",
       "<caption>Volatility Model</caption>\n",
       "<tr>\n",
       "      <td></td>        <th>coef</th>     <th>std err</th>      <th>t</th>        <th>P>|t|</th>      <th>95.0% Conf. Int.</th>   \n",
       "</tr>\n",
       "<tr>\n",
       "  <th>omega</th>    <td>    3.4881</td> <td>    0.587</td> <td>    5.942</td>  <td>2.810e-09</td>    <td>[  2.338,  4.639]</td>  \n",
       "</tr>\n",
       "<tr>\n",
       "  <th>alpha[1]</th>   <td>0.0000</td>   <td>3.042e-02</td>   <td>0.000</td>    <td>    1.000</td> <td>[-5.963e-02,5.963e-02]</td>\n",
       "</tr>\n",
       "<tr>\n",
       "  <th>gamma[1]</th> <td>    0.2799</td> <td>4.204e-02</td> <td>    6.658</td>  <td>2.767e-11</td>    <td>[  0.198,  0.362]</td>  \n",
       "</tr>\n",
       "<tr>\n",
       "  <th>beta[1]</th>  <td>    0.8176</td> <td>2.372e-02</td> <td>   34.469</td> <td>2.367e-260</td>    <td>[  0.771,  0.864]</td>  \n",
       "</tr>\n",
       "</table><br/><br/>Covariance estimator: robust"
      ],
      "text/plain": [
       "<class 'statsmodels.iolib.summary.Summary'>\n",
       "\"\"\"\n",
       "                   Constant Mean - GJR-GARCH Model Results                    \n",
       "==============================================================================\n",
       "Dep. Variable:                  SP500   R-squared:                       0.000\n",
       "Mean Model:             Constant Mean   Adj. R-squared:                  0.000\n",
       "Vol Model:                  GJR-GARCH   Log-Likelihood:               -8709.19\n",
       "Distribution:                  Normal   AIC:                           17428.4\n",
       "Method:            Maximum Likelihood   BIC:                           17457.5\n",
       "                                        No. Observations:                 2510\n",
       "Date:                Wed, Sep 22 2021   Df Residuals:                     2509\n",
       "Time:                        11:10:28   Df Model:                            1\n",
       "                               Mean Model                               \n",
       "========================================================================\n",
       "                 coef    std err          t      P>|t|  95.0% Conf. Int.\n",
       "------------------------------------------------------------------------\n",
       "mu             0.4165      0.135      3.078  2.087e-03 [  0.151,  0.682]\n",
       "                               Volatility Model                              \n",
       "=============================================================================\n",
       "                 coef    std err          t      P>|t|       95.0% Conf. Int.\n",
       "-----------------------------------------------------------------------------\n",
       "omega          3.4881      0.587      5.942  2.810e-09      [  2.338,  4.639]\n",
       "alpha[1]       0.0000  3.042e-02      0.000      1.000 [-5.963e-02,5.963e-02]\n",
       "gamma[1]       0.2799  4.204e-02      6.658  2.767e-11      [  0.198,  0.362]\n",
       "beta[1]        0.8176  2.372e-02     34.469 2.367e-260      [  0.771,  0.864]\n",
       "=============================================================================\n",
       "\n",
       "Covariance estimator: robust\n",
       "\"\"\""
      ]
     },
     "execution_count": 4,
     "metadata": {},
     "output_type": "execute_result"
    }
   ],
   "source": [
    "gjr_111 = arch_model(sp500_returns, o=1)\n",
    "gjr_111_res = gjr_111.fit(disp=\"off\")\n",
    "gjr_111_res.summary()"
   ]
  },
  {
   "cell_type": "markdown",
   "metadata": {
    "pycharm": {
     "name": "#%% md\n"
    }
   },
   "source": [
    "#### Explanation\n",
    "\n",
    "We can then expand these to see if more lags are needed.  The\n",
    "(1,1,1) specification appears to be adequate.\n",
    " "
   ]
  },
  {
   "cell_type": "code",
   "execution_count": 5,
   "metadata": {
    "collapsed": false,
    "execution": {
     "iopub.execute_input": "2021-09-22T10:10:28.228437Z",
     "iopub.status.busy": "2021-09-22T10:10:28.228437Z",
     "iopub.status.idle": "2021-09-22T10:10:28.286438Z",
     "shell.execute_reply": "2021-09-22T10:10:28.286438Z"
    },
    "jupyter": {
     "outputs_hidden": false
    },
    "pycharm": {
     "is_executing": false,
     "name": "#%%\n"
    }
   },
   "outputs": [
    {
     "data": {
      "text/html": [
       "<table class=\"simpletable\">\n",
       "<caption>Constant Mean - GJR-GARCH Model Results</caption>\n",
       "<tr>\n",
       "  <th>Dep. Variable:</th>        <td>SP500</td>       <th>  R-squared:         </th>  <td>   0.000</td> \n",
       "</tr>\n",
       "<tr>\n",
       "  <th>Mean Model:</th>       <td>Constant Mean</td>   <th>  Adj. R-squared:    </th>  <td>   0.000</td> \n",
       "</tr>\n",
       "<tr>\n",
       "  <th>Vol Model:</th>          <td>GJR-GARCH</td>     <th>  Log-Likelihood:    </th> <td>  -8708.35</td>\n",
       "</tr>\n",
       "<tr>\n",
       "  <th>Distribution:</th>        <td>Normal</td>       <th>  AIC:               </th> <td>   17428.7</td>\n",
       "</tr>\n",
       "<tr>\n",
       "  <th>Method:</th>        <td>Maximum Likelihood</td> <th>  BIC:               </th> <td>   17463.7</td>\n",
       "</tr>\n",
       "<tr>\n",
       "  <th></th>                        <td></td>          <th>  No. Observations:  </th>    <td>2510</td>   \n",
       "</tr>\n",
       "<tr>\n",
       "  <th>Date:</th>           <td>Wed, Sep 22 2021</td>  <th>  Df Residuals:      </th>    <td>2509</td>   \n",
       "</tr>\n",
       "<tr>\n",
       "  <th>Time:</th>               <td>11:10:28</td>      <th>  Df Model:          </th>      <td>1</td>    \n",
       "</tr>\n",
       "</table>\n",
       "<table class=\"simpletable\">\n",
       "<caption>Mean Model</caption>\n",
       "<tr>\n",
       "   <td></td>     <th>coef</th>     <th>std err</th>      <th>t</th>       <th>P>|t|</th>   <th>95.0% Conf. Int.</th> \n",
       "</tr>\n",
       "<tr>\n",
       "  <th>mu</th> <td>    0.4142</td> <td>    0.135</td> <td>    3.061</td> <td>2.204e-03</td> <td>[  0.149,  0.679]</td>\n",
       "</tr>\n",
       "</table>\n",
       "<table class=\"simpletable\">\n",
       "<caption>Volatility Model</caption>\n",
       "<tr>\n",
       "      <td></td>        <th>coef</th>     <th>std err</th>      <th>t</th>        <th>P>|t|</th>      <th>95.0% Conf. Int.</th>   \n",
       "</tr>\n",
       "<tr>\n",
       "  <th>omega</th>    <td>    3.6821</td> <td>    0.665</td> <td>    5.541</td>  <td>3.014e-08</td>    <td>[  2.380,  4.985]</td>  \n",
       "</tr>\n",
       "<tr>\n",
       "  <th>alpha[1]</th>   <td>0.0000</td>   <td>3.200e-02</td>   <td>0.000</td>    <td>    1.000</td> <td>[-6.272e-02,6.272e-02]</td>\n",
       "</tr>\n",
       "<tr>\n",
       "  <th>gamma[1]</th> <td>    0.2277</td> <td>6.989e-02</td> <td>    3.258</td>  <td>1.122e-03</td>   <td>[9.071e-02,  0.365]</td> \n",
       "</tr>\n",
       "<tr>\n",
       "  <th>gamma[2]</th> <td>    0.0639</td> <td>6.235e-02</td> <td>    1.025</td>  <td>    0.305</td>  <td>[-5.830e-02,  0.186]</td> \n",
       "</tr>\n",
       "<tr>\n",
       "  <th>beta[1]</th>  <td>    0.8091</td> <td>2.793e-02</td> <td>   28.967</td> <td>1.734e-184</td>    <td>[  0.754,  0.864]</td>  \n",
       "</tr>\n",
       "</table><br/><br/>Covariance estimator: robust"
      ],
      "text/plain": [
       "<class 'statsmodels.iolib.summary.Summary'>\n",
       "\"\"\"\n",
       "                   Constant Mean - GJR-GARCH Model Results                    \n",
       "==============================================================================\n",
       "Dep. Variable:                  SP500   R-squared:                       0.000\n",
       "Mean Model:             Constant Mean   Adj. R-squared:                  0.000\n",
       "Vol Model:                  GJR-GARCH   Log-Likelihood:               -8708.35\n",
       "Distribution:                  Normal   AIC:                           17428.7\n",
       "Method:            Maximum Likelihood   BIC:                           17463.7\n",
       "                                        No. Observations:                 2510\n",
       "Date:                Wed, Sep 22 2021   Df Residuals:                     2509\n",
       "Time:                        11:10:28   Df Model:                            1\n",
       "                               Mean Model                               \n",
       "========================================================================\n",
       "                 coef    std err          t      P>|t|  95.0% Conf. Int.\n",
       "------------------------------------------------------------------------\n",
       "mu             0.4142      0.135      3.061  2.204e-03 [  0.149,  0.679]\n",
       "                               Volatility Model                              \n",
       "=============================================================================\n",
       "                 coef    std err          t      P>|t|       95.0% Conf. Int.\n",
       "-----------------------------------------------------------------------------\n",
       "omega          3.6821      0.665      5.541  3.014e-08      [  2.380,  4.985]\n",
       "alpha[1]       0.0000  3.200e-02      0.000      1.000 [-6.272e-02,6.272e-02]\n",
       "gamma[1]       0.2277  6.989e-02      3.258  1.122e-03    [9.071e-02,  0.365]\n",
       "gamma[2]       0.0639  6.235e-02      1.025      0.305   [-5.830e-02,  0.186]\n",
       "beta[1]        0.8091  2.793e-02     28.967 1.734e-184      [  0.754,  0.864]\n",
       "=============================================================================\n",
       "\n",
       "Covariance estimator: robust\n",
       "\"\"\""
      ]
     },
     "execution_count": 5,
     "metadata": {},
     "output_type": "execute_result"
    }
   ],
   "source": [
    "gjr_121 = arch_model(sp500_returns, o=2)\n",
    "gjr_121_res = gjr_121.fit(disp=\"off\")\n",
    "gjr_121_res.summary()"
   ]
  },
  {
   "cell_type": "code",
   "execution_count": 6,
   "metadata": {
    "collapsed": false,
    "execution": {
     "iopub.execute_input": "2021-09-22T10:10:28.290437Z",
     "iopub.status.busy": "2021-09-22T10:10:28.290437Z",
     "iopub.status.idle": "2021-09-22T10:10:28.349439Z",
     "shell.execute_reply": "2021-09-22T10:10:28.349439Z"
    },
    "jupyter": {
     "outputs_hidden": false
    },
    "pycharm": {
     "is_executing": false,
     "name": "#%%\n"
    }
   },
   "outputs": [
    {
     "data": {
      "text/html": [
       "<table class=\"simpletable\">\n",
       "<caption>Constant Mean - GJR-GARCH Model Results</caption>\n",
       "<tr>\n",
       "  <th>Dep. Variable:</th>        <td>SP500</td>       <th>  R-squared:         </th>  <td>   0.000</td> \n",
       "</tr>\n",
       "<tr>\n",
       "  <th>Mean Model:</th>       <td>Constant Mean</td>   <th>  Adj. R-squared:    </th>  <td>   0.000</td> \n",
       "</tr>\n",
       "<tr>\n",
       "  <th>Vol Model:</th>          <td>GJR-GARCH</td>     <th>  Log-Likelihood:    </th> <td>  -8709.19</td>\n",
       "</tr>\n",
       "<tr>\n",
       "  <th>Distribution:</th>        <td>Normal</td>       <th>  AIC:               </th> <td>   17430.4</td>\n",
       "</tr>\n",
       "<tr>\n",
       "  <th>Method:</th>        <td>Maximum Likelihood</td> <th>  BIC:               </th> <td>   17465.4</td>\n",
       "</tr>\n",
       "<tr>\n",
       "  <th></th>                        <td></td>          <th>  No. Observations:  </th>    <td>2510</td>   \n",
       "</tr>\n",
       "<tr>\n",
       "  <th>Date:</th>           <td>Wed, Sep 22 2021</td>  <th>  Df Residuals:      </th>    <td>2509</td>   \n",
       "</tr>\n",
       "<tr>\n",
       "  <th>Time:</th>               <td>11:10:28</td>      <th>  Df Model:          </th>      <td>1</td>    \n",
       "</tr>\n",
       "</table>\n",
       "<table class=\"simpletable\">\n",
       "<caption>Mean Model</caption>\n",
       "<tr>\n",
       "   <td></td>     <th>coef</th>     <th>std err</th>      <th>t</th>       <th>P>|t|</th>   <th>95.0% Conf. Int.</th> \n",
       "</tr>\n",
       "<tr>\n",
       "  <th>mu</th> <td>    0.4166</td> <td>    0.136</td> <td>    3.066</td> <td>2.172e-03</td> <td>[  0.150,  0.683]</td>\n",
       "</tr>\n",
       "</table>\n",
       "<table class=\"simpletable\">\n",
       "<caption>Volatility Model</caption>\n",
       "<tr>\n",
       "      <td></td>        <th>coef</th>     <th>std err</th>      <th>t</th>       <th>P>|t|</th>      <th>95.0% Conf. Int.</th>   \n",
       "</tr>\n",
       "<tr>\n",
       "  <th>omega</th>    <td>    3.4881</td> <td>    0.750</td> <td>    4.648</td> <td>3.350e-06</td>    <td>[  2.017,  4.959]</td>  \n",
       "</tr>\n",
       "<tr>\n",
       "  <th>alpha[1]</th> <td>1.8101e-10</td> <td>3.184e-02</td> <td>5.685e-09</td> <td>    1.000</td> <td>[-6.240e-02,6.240e-02]</td>\n",
       "</tr>\n",
       "<tr>\n",
       "  <th>gamma[1]</th> <td>    0.2799</td> <td>5.322e-02</td> <td>    5.259</td> <td>1.445e-07</td>    <td>[  0.176,  0.384]</td>  \n",
       "</tr>\n",
       "<tr>\n",
       "  <th>beta[1]</th>  <td>    0.8176</td> <td>    0.204</td> <td>    4.009</td> <td>6.107e-05</td>    <td>[  0.418,  1.217]</td>  \n",
       "</tr>\n",
       "<tr>\n",
       "  <th>beta[2]</th>    <td>0.0000</td>   <td>    0.168</td>   <td>0.000</td>   <td>    1.000</td>    <td>[ -0.329,  0.329]</td>  \n",
       "</tr>\n",
       "</table><br/><br/>Covariance estimator: robust"
      ],
      "text/plain": [
       "<class 'statsmodels.iolib.summary.Summary'>\n",
       "\"\"\"\n",
       "                   Constant Mean - GJR-GARCH Model Results                    \n",
       "==============================================================================\n",
       "Dep. Variable:                  SP500   R-squared:                       0.000\n",
       "Mean Model:             Constant Mean   Adj. R-squared:                  0.000\n",
       "Vol Model:                  GJR-GARCH   Log-Likelihood:               -8709.19\n",
       "Distribution:                  Normal   AIC:                           17430.4\n",
       "Method:            Maximum Likelihood   BIC:                           17465.4\n",
       "                                        No. Observations:                 2510\n",
       "Date:                Wed, Sep 22 2021   Df Residuals:                     2509\n",
       "Time:                        11:10:28   Df Model:                            1\n",
       "                               Mean Model                               \n",
       "========================================================================\n",
       "                 coef    std err          t      P>|t|  95.0% Conf. Int.\n",
       "------------------------------------------------------------------------\n",
       "mu             0.4166      0.136      3.066  2.172e-03 [  0.150,  0.683]\n",
       "                               Volatility Model                              \n",
       "=============================================================================\n",
       "                 coef    std err          t      P>|t|       95.0% Conf. Int.\n",
       "-----------------------------------------------------------------------------\n",
       "omega          3.4881      0.750      4.648  3.350e-06      [  2.017,  4.959]\n",
       "alpha[1]   1.8101e-10  3.184e-02  5.685e-09      1.000 [-6.240e-02,6.240e-02]\n",
       "gamma[1]       0.2799  5.322e-02      5.259  1.445e-07      [  0.176,  0.384]\n",
       "beta[1]        0.8176      0.204      4.009  6.107e-05      [  0.418,  1.217]\n",
       "beta[2]        0.0000      0.168      0.000      1.000      [ -0.329,  0.329]\n",
       "=============================================================================\n",
       "\n",
       "Covariance estimator: robust\n",
       "\"\"\""
      ]
     },
     "execution_count": 6,
     "metadata": {},
     "output_type": "execute_result"
    }
   ],
   "source": [
    "gjr_112 = arch_model(sp500_returns, o=1, q=2)\n",
    "gjr_112_res = gjr_112.fit(disp=\"off\")\n",
    "gjr_112_res.summary()"
   ]
  },
  {
   "cell_type": "markdown",
   "metadata": {
    "pycharm": {
     "name": "#%% md\n"
    }
   },
   "source": [
    "#### Explanation\n",
    "\n",
    "Next, we can examine how a TARCH performs relative to a GJR.  It produces\n",
    "a higher likelihood and so is preferred."
   ]
  },
  {
   "cell_type": "code",
   "execution_count": 7,
   "metadata": {
    "collapsed": false,
    "execution": {
     "iopub.execute_input": "2021-09-22T10:10:28.353438Z",
     "iopub.status.busy": "2021-09-22T10:10:28.353438Z",
     "iopub.status.idle": "2021-09-22T10:10:28.396438Z",
     "shell.execute_reply": "2021-09-22T10:10:28.396438Z"
    },
    "jupyter": {
     "outputs_hidden": false
    },
    "pycharm": {
     "is_executing": false,
     "name": "#%%\n"
    }
   },
   "outputs": [
    {
     "data": {
      "text/html": [
       "<table class=\"simpletable\">\n",
       "<caption>Constant Mean - TARCH/ZARCH Model Results</caption>\n",
       "<tr>\n",
       "  <th>Dep. Variable:</th>        <td>SP500</td>       <th>  R-squared:         </th>  <td>   0.000</td> \n",
       "</tr>\n",
       "<tr>\n",
       "  <th>Mean Model:</th>       <td>Constant Mean</td>   <th>  Adj. R-squared:    </th>  <td>   0.000</td> \n",
       "</tr>\n",
       "<tr>\n",
       "  <th>Vol Model:</th>         <td>TARCH/ZARCH</td>    <th>  Log-Likelihood:    </th> <td>  -8682.93</td>\n",
       "</tr>\n",
       "<tr>\n",
       "  <th>Distribution:</th>        <td>Normal</td>       <th>  AIC:               </th> <td>   17375.9</td>\n",
       "</tr>\n",
       "<tr>\n",
       "  <th>Method:</th>        <td>Maximum Likelihood</td> <th>  BIC:               </th> <td>   17405.0</td>\n",
       "</tr>\n",
       "<tr>\n",
       "  <th></th>                        <td></td>          <th>  No. Observations:  </th>    <td>2510</td>   \n",
       "</tr>\n",
       "<tr>\n",
       "  <th>Date:</th>           <td>Wed, Sep 22 2021</td>  <th>  Df Residuals:      </th>    <td>2509</td>   \n",
       "</tr>\n",
       "<tr>\n",
       "  <th>Time:</th>               <td>11:10:28</td>      <th>  Df Model:          </th>      <td>1</td>    \n",
       "</tr>\n",
       "</table>\n",
       "<table class=\"simpletable\">\n",
       "<caption>Mean Model</caption>\n",
       "<tr>\n",
       "   <td></td>     <th>coef</th>     <th>std err</th>      <th>t</th>       <th>P>|t|</th>    <th>95.0% Conf. Int.</th>  \n",
       "</tr>\n",
       "<tr>\n",
       "  <th>mu</th> <td>    0.3354</td> <td>    0.130</td> <td>    2.573</td> <td>1.009e-02</td> <td>[7.988e-02,  0.591]</td>\n",
       "</tr>\n",
       "</table>\n",
       "<table class=\"simpletable\">\n",
       "<caption>Volatility Model</caption>\n",
       "<tr>\n",
       "      <td></td>        <th>coef</th>     <th>std err</th>      <th>t</th>       <th>P>|t|</th>      <th>95.0% Conf. Int.</th>   \n",
       "</tr>\n",
       "<tr>\n",
       "  <th>omega</th>    <td>    0.4339</td> <td>6.619e-02</td> <td>    6.555</td> <td>5.562e-11</td>    <td>[  0.304,  0.564]</td>  \n",
       "</tr>\n",
       "<tr>\n",
       "  <th>alpha[1]</th> <td>9.3080e-10</td> <td>1.980e-02</td> <td>4.700e-08</td> <td>    1.000</td> <td>[-3.881e-02,3.881e-02]</td>\n",
       "</tr>\n",
       "<tr>\n",
       "  <th>gamma[1]</th> <td>    0.2384</td> <td>2.665e-02</td> <td>    8.945</td> <td>3.716e-19</td>    <td>[  0.186,  0.291]</td>  \n",
       "</tr>\n",
       "<tr>\n",
       "  <th>beta[1]</th>  <td>    0.8597</td> <td>1.574e-02</td> <td>   54.609</td>   <td>0.000</td>      <td>[  0.829,  0.891]</td>  \n",
       "</tr>\n",
       "</table><br/><br/>Covariance estimator: robust"
      ],
      "text/plain": [
       "<class 'statsmodels.iolib.summary.Summary'>\n",
       "\"\"\"\n",
       "                  Constant Mean - TARCH/ZARCH Model Results                   \n",
       "==============================================================================\n",
       "Dep. Variable:                  SP500   R-squared:                       0.000\n",
       "Mean Model:             Constant Mean   Adj. R-squared:                  0.000\n",
       "Vol Model:                TARCH/ZARCH   Log-Likelihood:               -8682.93\n",
       "Distribution:                  Normal   AIC:                           17375.9\n",
       "Method:            Maximum Likelihood   BIC:                           17405.0\n",
       "                                        No. Observations:                 2510\n",
       "Date:                Wed, Sep 22 2021   Df Residuals:                     2509\n",
       "Time:                        11:10:28   Df Model:                            1\n",
       "                                Mean Model                                \n",
       "==========================================================================\n",
       "                 coef    std err          t      P>|t|    95.0% Conf. Int.\n",
       "--------------------------------------------------------------------------\n",
       "mu             0.3354      0.130      2.573  1.009e-02 [7.988e-02,  0.591]\n",
       "                               Volatility Model                              \n",
       "=============================================================================\n",
       "                 coef    std err          t      P>|t|       95.0% Conf. Int.\n",
       "-----------------------------------------------------------------------------\n",
       "omega          0.4339  6.619e-02      6.555  5.562e-11      [  0.304,  0.564]\n",
       "alpha[1]   9.3080e-10  1.980e-02  4.700e-08      1.000 [-3.881e-02,3.881e-02]\n",
       "gamma[1]       0.2384  2.665e-02      8.945  3.716e-19      [  0.186,  0.291]\n",
       "beta[1]        0.8597  1.574e-02     54.609      0.000      [  0.829,  0.891]\n",
       "=============================================================================\n",
       "\n",
       "Covariance estimator: robust\n",
       "\"\"\""
      ]
     },
     "execution_count": 7,
     "metadata": {},
     "output_type": "execute_result"
    }
   ],
   "source": [
    "tarch_111 = arch_model(sp500_returns, o=1, power=1.0)\n",
    "tarch_111_res = tarch_111.fit(disp=\"off\")\n",
    "tarch_111_res.summary()"
   ]
  },
  {
   "cell_type": "markdown",
   "metadata": {
    "pycharm": {
     "name": "#%% md\n"
    }
   },
   "source": [
    "#### Explanation\n",
    "\n",
    "We can also examine additional lags in the TARCH. These are\n",
    "both insignificant. "
   ]
  },
  {
   "cell_type": "code",
   "execution_count": 8,
   "metadata": {
    "collapsed": false,
    "execution": {
     "iopub.execute_input": "2021-09-22T10:10:28.400437Z",
     "iopub.status.busy": "2021-09-22T10:10:28.400437Z",
     "iopub.status.idle": "2021-09-22T10:10:28.460438Z",
     "shell.execute_reply": "2021-09-22T10:10:28.460438Z"
    },
    "jupyter": {
     "outputs_hidden": false
    },
    "pycharm": {
     "is_executing": false,
     "name": "#%%\n"
    }
   },
   "outputs": [
    {
     "data": {
      "text/html": [
       "<table class=\"simpletable\">\n",
       "<caption>Constant Mean - TARCH/ZARCH Model Results</caption>\n",
       "<tr>\n",
       "  <th>Dep. Variable:</th>        <td>SP500</td>       <th>  R-squared:         </th>  <td>   0.000</td> \n",
       "</tr>\n",
       "<tr>\n",
       "  <th>Mean Model:</th>       <td>Constant Mean</td>   <th>  Adj. R-squared:    </th>  <td>   0.000</td> \n",
       "</tr>\n",
       "<tr>\n",
       "  <th>Vol Model:</th>         <td>TARCH/ZARCH</td>    <th>  Log-Likelihood:    </th> <td>  -8682.52</td>\n",
       "</tr>\n",
       "<tr>\n",
       "  <th>Distribution:</th>        <td>Normal</td>       <th>  AIC:               </th> <td>   17377.0</td>\n",
       "</tr>\n",
       "<tr>\n",
       "  <th>Method:</th>        <td>Maximum Likelihood</td> <th>  BIC:               </th> <td>   17412.0</td>\n",
       "</tr>\n",
       "<tr>\n",
       "  <th></th>                        <td></td>          <th>  No. Observations:  </th>    <td>2510</td>   \n",
       "</tr>\n",
       "<tr>\n",
       "  <th>Date:</th>           <td>Wed, Sep 22 2021</td>  <th>  Df Residuals:      </th>    <td>2509</td>   \n",
       "</tr>\n",
       "<tr>\n",
       "  <th>Time:</th>               <td>11:10:28</td>      <th>  Df Model:          </th>      <td>1</td>    \n",
       "</tr>\n",
       "</table>\n",
       "<table class=\"simpletable\">\n",
       "<caption>Mean Model</caption>\n",
       "<tr>\n",
       "   <td></td>     <th>coef</th>     <th>std err</th>      <th>t</th>       <th>P>|t|</th>    <th>95.0% Conf. Int.</th>  \n",
       "</tr>\n",
       "<tr>\n",
       "  <th>mu</th> <td>    0.3338</td> <td>    0.131</td> <td>    2.552</td> <td>1.072e-02</td> <td>[7.739e-02,  0.590]</td>\n",
       "</tr>\n",
       "</table>\n",
       "<table class=\"simpletable\">\n",
       "<caption>Volatility Model</caption>\n",
       "<tr>\n",
       "      <td></td>        <th>coef</th>     <th>std err</th>      <th>t</th>       <th>P>|t|</th>      <th>95.0% Conf. Int.</th>   \n",
       "</tr>\n",
       "<tr>\n",
       "  <th>omega</th>    <td>    0.4511</td> <td>7.326e-02</td> <td>    6.157</td> <td>7.414e-10</td>    <td>[  0.307,  0.595]</td>  \n",
       "</tr>\n",
       "<tr>\n",
       "  <th>alpha[1]</th>   <td>0.0000</td>   <td>2.023e-02</td>   <td>0.000</td>   <td>    1.000</td> <td>[-3.966e-02,3.966e-02]</td>\n",
       "</tr>\n",
       "<tr>\n",
       "  <th>gamma[1]</th> <td>    0.2157</td> <td>4.161e-02</td> <td>    5.184</td> <td>2.168e-07</td>    <td>[  0.134,  0.297]</td>  \n",
       "</tr>\n",
       "<tr>\n",
       "  <th>gamma[2]</th> <td>    0.0293</td> <td>3.878e-02</td> <td>    0.755</td> <td>    0.450</td>  <td>[-4.672e-02,  0.105]</td> \n",
       "</tr>\n",
       "<tr>\n",
       "  <th>beta[1]</th>  <td>    0.8551</td> <td>1.773e-02</td> <td>   48.227</td>   <td>0.000</td>      <td>[  0.820,  0.890]</td>  \n",
       "</tr>\n",
       "</table><br/><br/>Covariance estimator: robust"
      ],
      "text/plain": [
       "<class 'statsmodels.iolib.summary.Summary'>\n",
       "\"\"\"\n",
       "                  Constant Mean - TARCH/ZARCH Model Results                   \n",
       "==============================================================================\n",
       "Dep. Variable:                  SP500   R-squared:                       0.000\n",
       "Mean Model:             Constant Mean   Adj. R-squared:                  0.000\n",
       "Vol Model:                TARCH/ZARCH   Log-Likelihood:               -8682.52\n",
       "Distribution:                  Normal   AIC:                           17377.0\n",
       "Method:            Maximum Likelihood   BIC:                           17412.0\n",
       "                                        No. Observations:                 2510\n",
       "Date:                Wed, Sep 22 2021   Df Residuals:                     2509\n",
       "Time:                        11:10:28   Df Model:                            1\n",
       "                                Mean Model                                \n",
       "==========================================================================\n",
       "                 coef    std err          t      P>|t|    95.0% Conf. Int.\n",
       "--------------------------------------------------------------------------\n",
       "mu             0.3338      0.131      2.552  1.072e-02 [7.739e-02,  0.590]\n",
       "                               Volatility Model                              \n",
       "=============================================================================\n",
       "                 coef    std err          t      P>|t|       95.0% Conf. Int.\n",
       "-----------------------------------------------------------------------------\n",
       "omega          0.4511  7.326e-02      6.157  7.414e-10      [  0.307,  0.595]\n",
       "alpha[1]       0.0000  2.023e-02      0.000      1.000 [-3.966e-02,3.966e-02]\n",
       "gamma[1]       0.2157  4.161e-02      5.184  2.168e-07      [  0.134,  0.297]\n",
       "gamma[2]       0.0293  3.878e-02      0.755      0.450   [-4.672e-02,  0.105]\n",
       "beta[1]        0.8551  1.773e-02     48.227      0.000      [  0.820,  0.890]\n",
       "=============================================================================\n",
       "\n",
       "Covariance estimator: robust\n",
       "\"\"\""
      ]
     },
     "execution_count": 8,
     "metadata": {},
     "output_type": "execute_result"
    }
   ],
   "source": [
    "tarch_121 = arch_model(sp500_returns, o=2, power=1.0)\n",
    "tarch_121_res = tarch_121.fit(disp=\"off\")\n",
    "tarch_121_res.summary()"
   ]
  },
  {
   "cell_type": "code",
   "execution_count": 9,
   "metadata": {
    "collapsed": false,
    "execution": {
     "iopub.execute_input": "2021-09-22T10:10:28.464439Z",
     "iopub.status.busy": "2021-09-22T10:10:28.463437Z",
     "iopub.status.idle": "2021-09-22T10:10:28.523438Z",
     "shell.execute_reply": "2021-09-22T10:10:28.523438Z"
    },
    "jupyter": {
     "outputs_hidden": false
    },
    "pycharm": {
     "is_executing": false,
     "name": "#%%\n"
    }
   },
   "outputs": [
    {
     "data": {
      "text/html": [
       "<table class=\"simpletable\">\n",
       "<caption>Constant Mean - TARCH/ZARCH Model Results</caption>\n",
       "<tr>\n",
       "  <th>Dep. Variable:</th>        <td>SP500</td>       <th>  R-squared:         </th>  <td>   0.000</td> \n",
       "</tr>\n",
       "<tr>\n",
       "  <th>Mean Model:</th>       <td>Constant Mean</td>   <th>  Adj. R-squared:    </th>  <td>   0.000</td> \n",
       "</tr>\n",
       "<tr>\n",
       "  <th>Vol Model:</th>         <td>TARCH/ZARCH</td>    <th>  Log-Likelihood:    </th> <td>  -8682.93</td>\n",
       "</tr>\n",
       "<tr>\n",
       "  <th>Distribution:</th>        <td>Normal</td>       <th>  AIC:               </th> <td>   17377.9</td>\n",
       "</tr>\n",
       "<tr>\n",
       "  <th>Method:</th>        <td>Maximum Likelihood</td> <th>  BIC:               </th> <td>   17412.8</td>\n",
       "</tr>\n",
       "<tr>\n",
       "  <th></th>                        <td></td>          <th>  No. Observations:  </th>    <td>2510</td>   \n",
       "</tr>\n",
       "<tr>\n",
       "  <th>Date:</th>           <td>Wed, Sep 22 2021</td>  <th>  Df Residuals:      </th>    <td>2509</td>   \n",
       "</tr>\n",
       "<tr>\n",
       "  <th>Time:</th>               <td>11:10:28</td>      <th>  Df Model:          </th>      <td>1</td>    \n",
       "</tr>\n",
       "</table>\n",
       "<table class=\"simpletable\">\n",
       "<caption>Mean Model</caption>\n",
       "<tr>\n",
       "   <td></td>     <th>coef</th>     <th>std err</th>      <th>t</th>       <th>P>|t|</th>    <th>95.0% Conf. Int.</th>  \n",
       "</tr>\n",
       "<tr>\n",
       "  <th>mu</th> <td>    0.3354</td> <td>    0.131</td> <td>    2.564</td> <td>1.034e-02</td> <td>[7.903e-02,  0.592]</td>\n",
       "</tr>\n",
       "</table>\n",
       "<table class=\"simpletable\">\n",
       "<caption>Volatility Model</caption>\n",
       "<tr>\n",
       "      <td></td>        <th>coef</th>     <th>std err</th>      <th>t</th>       <th>P>|t|</th>      <th>95.0% Conf. Int.</th>   \n",
       "</tr>\n",
       "<tr>\n",
       "  <th>omega</th>    <td>    0.4339</td> <td>7.312e-02</td> <td>    5.934</td> <td>2.952e-09</td>    <td>[  0.291,  0.577]</td>  \n",
       "</tr>\n",
       "<tr>\n",
       "  <th>alpha[1]</th>   <td>0.0000</td>   <td>1.994e-02</td>   <td>0.000</td>   <td>    1.000</td> <td>[-3.908e-02,3.908e-02]</td>\n",
       "</tr>\n",
       "<tr>\n",
       "  <th>gamma[1]</th> <td>    0.2384</td> <td>3.353e-02</td> <td>    7.110</td> <td>1.164e-12</td>    <td>[  0.173,  0.304]</td>  \n",
       "</tr>\n",
       "<tr>\n",
       "  <th>beta[1]</th>  <td>    0.8597</td> <td>    0.130</td> <td>    6.604</td> <td>4.015e-11</td>    <td>[  0.605,  1.115]</td>  \n",
       "</tr>\n",
       "<tr>\n",
       "  <th>beta[2]</th>    <td>0.0000</td>   <td>    0.115</td>   <td>0.000</td>   <td>    1.000</td>    <td>[ -0.225,  0.225]</td>  \n",
       "</tr>\n",
       "</table><br/><br/>Covariance estimator: robust"
      ],
      "text/plain": [
       "<class 'statsmodels.iolib.summary.Summary'>\n",
       "\"\"\"\n",
       "                  Constant Mean - TARCH/ZARCH Model Results                   \n",
       "==============================================================================\n",
       "Dep. Variable:                  SP500   R-squared:                       0.000\n",
       "Mean Model:             Constant Mean   Adj. R-squared:                  0.000\n",
       "Vol Model:                TARCH/ZARCH   Log-Likelihood:               -8682.93\n",
       "Distribution:                  Normal   AIC:                           17377.9\n",
       "Method:            Maximum Likelihood   BIC:                           17412.8\n",
       "                                        No. Observations:                 2510\n",
       "Date:                Wed, Sep 22 2021   Df Residuals:                     2509\n",
       "Time:                        11:10:28   Df Model:                            1\n",
       "                                Mean Model                                \n",
       "==========================================================================\n",
       "                 coef    std err          t      P>|t|    95.0% Conf. Int.\n",
       "--------------------------------------------------------------------------\n",
       "mu             0.3354      0.131      2.564  1.034e-02 [7.903e-02,  0.592]\n",
       "                               Volatility Model                              \n",
       "=============================================================================\n",
       "                 coef    std err          t      P>|t|       95.0% Conf. Int.\n",
       "-----------------------------------------------------------------------------\n",
       "omega          0.4339  7.312e-02      5.934  2.952e-09      [  0.291,  0.577]\n",
       "alpha[1]       0.0000  1.994e-02      0.000      1.000 [-3.908e-02,3.908e-02]\n",
       "gamma[1]       0.2384  3.353e-02      7.110  1.164e-12      [  0.173,  0.304]\n",
       "beta[1]        0.8597      0.130      6.604  4.015e-11      [  0.605,  1.115]\n",
       "beta[2]        0.0000      0.115      0.000      1.000      [ -0.225,  0.225]\n",
       "=============================================================================\n",
       "\n",
       "Covariance estimator: robust\n",
       "\"\"\""
      ]
     },
     "execution_count": 9,
     "metadata": {},
     "output_type": "execute_result"
    }
   ],
   "source": [
    "tarch_112 = arch_model(sp500_returns, o=1, q=2, power=1.0)\n",
    "tarch_112_res = tarch_112.fit(disp=\"off\")\n",
    "tarch_112_res.summary()"
   ]
  },
  {
   "cell_type": "markdown",
   "metadata": {
    "pycharm": {
     "name": "#%% md\n"
    }
   },
   "source": [
    "#### Explanation\n",
    "\n",
    "Finally, we can look at an EGARCH model. This model cannot be\n",
    "easily constructed using the ``arch_model``. Instead, we need\n",
    "to build it from the mean component ``ConstantMean`` and the \n",
    "volatility process ``EGARCH``. \n",
    "\n",
    "This model produces a lower log-likelihood than the TARCH model\n",
    "and so we finally select the TARCH."
   ]
  },
  {
   "cell_type": "code",
   "execution_count": 10,
   "metadata": {
    "collapsed": false,
    "execution": {
     "iopub.execute_input": "2021-09-22T10:10:28.527437Z",
     "iopub.status.busy": "2021-09-22T10:10:28.527437Z",
     "iopub.status.idle": "2021-09-22T10:10:28.585438Z",
     "shell.execute_reply": "2021-09-22T10:10:28.585438Z"
    },
    "jupyter": {
     "outputs_hidden": false
    },
    "pycharm": {
     "is_executing": false,
     "name": "#%%\n"
    }
   },
   "outputs": [
    {
     "data": {
      "text/html": [
       "<table class=\"simpletable\">\n",
       "<caption>Constant Mean - EGARCH Model Results</caption>\n",
       "<tr>\n",
       "  <th>Dep. Variable:</th>        <td>SP500</td>       <th>  R-squared:         </th>  <td>   0.000</td> \n",
       "</tr>\n",
       "<tr>\n",
       "  <th>Mean Model:</th>       <td>Constant Mean</td>   <th>  Adj. R-squared:    </th>  <td>   0.000</td> \n",
       "</tr>\n",
       "<tr>\n",
       "  <th>Vol Model:</th>           <td>EGARCH</td>       <th>  Log-Likelihood:    </th> <td>  -8690.33</td>\n",
       "</tr>\n",
       "<tr>\n",
       "  <th>Distribution:</th>        <td>Normal</td>       <th>  AIC:               </th> <td>   17390.7</td>\n",
       "</tr>\n",
       "<tr>\n",
       "  <th>Method:</th>        <td>Maximum Likelihood</td> <th>  BIC:               </th> <td>   17419.8</td>\n",
       "</tr>\n",
       "<tr>\n",
       "  <th></th>                        <td></td>          <th>  No. Observations:  </th>    <td>2510</td>   \n",
       "</tr>\n",
       "<tr>\n",
       "  <th>Date:</th>           <td>Wed, Sep 22 2021</td>  <th>  Df Residuals:      </th>    <td>2509</td>   \n",
       "</tr>\n",
       "<tr>\n",
       "  <th>Time:</th>               <td>11:10:28</td>      <th>  Df Model:          </th>      <td>1</td>    \n",
       "</tr>\n",
       "</table>\n",
       "<table class=\"simpletable\">\n",
       "<caption>Mean Model</caption>\n",
       "<tr>\n",
       "   <td></td>     <th>coef</th>     <th>std err</th>      <th>t</th>       <th>P>|t|</th>    <th>95.0% Conf. Int.</th>  \n",
       "</tr>\n",
       "<tr>\n",
       "  <th>mu</th> <td>    0.3333</td> <td>    0.132</td> <td>    2.521</td> <td>1.172e-02</td> <td>[7.413e-02,  0.593]</td>\n",
       "</tr>\n",
       "</table>\n",
       "<table class=\"simpletable\">\n",
       "<caption>Volatility Model</caption>\n",
       "<tr>\n",
       "      <td></td>        <th>coef</th>     <th>std err</th>      <th>t</th>       <th>P>|t|</th>   <th>95.0% Conf. Int.</th> \n",
       "</tr>\n",
       "<tr>\n",
       "  <th>omega</th>    <td>    0.2377</td> <td>3.847e-02</td> <td>    6.179</td> <td>6.471e-10</td> <td>[  0.162,  0.313]</td>\n",
       "</tr>\n",
       "<tr>\n",
       "  <th>alpha[1]</th> <td>    0.1691</td> <td>2.227e-02</td> <td>    7.593</td> <td>3.119e-14</td> <td>[  0.125,  0.213]</td>\n",
       "</tr>\n",
       "<tr>\n",
       "  <th>gamma[1]</th> <td>   -0.2210</td> <td>2.374e-02</td> <td>   -9.310</td> <td>1.278e-20</td> <td>[ -0.268, -0.174]</td>\n",
       "</tr>\n",
       "<tr>\n",
       "  <th>beta[1]</th>  <td>    0.9438</td> <td>8.775e-03</td> <td>  107.551</td>   <td>0.000</td>   <td>[  0.927,  0.961]</td>\n",
       "</tr>\n",
       "</table><br/><br/>Covariance estimator: robust"
      ],
      "text/plain": [
       "<class 'statsmodels.iolib.summary.Summary'>\n",
       "\"\"\"\n",
       "                     Constant Mean - EGARCH Model Results                     \n",
       "==============================================================================\n",
       "Dep. Variable:                  SP500   R-squared:                       0.000\n",
       "Mean Model:             Constant Mean   Adj. R-squared:                  0.000\n",
       "Vol Model:                     EGARCH   Log-Likelihood:               -8690.33\n",
       "Distribution:                  Normal   AIC:                           17390.7\n",
       "Method:            Maximum Likelihood   BIC:                           17419.8\n",
       "                                        No. Observations:                 2510\n",
       "Date:                Wed, Sep 22 2021   Df Residuals:                     2509\n",
       "Time:                        11:10:28   Df Model:                            1\n",
       "                                Mean Model                                \n",
       "==========================================================================\n",
       "                 coef    std err          t      P>|t|    95.0% Conf. Int.\n",
       "--------------------------------------------------------------------------\n",
       "mu             0.3333      0.132      2.521  1.172e-02 [7.413e-02,  0.593]\n",
       "                            Volatility Model                            \n",
       "========================================================================\n",
       "                 coef    std err          t      P>|t|  95.0% Conf. Int.\n",
       "------------------------------------------------------------------------\n",
       "omega          0.2377  3.847e-02      6.179  6.471e-10 [  0.162,  0.313]\n",
       "alpha[1]       0.1691  2.227e-02      7.593  3.119e-14 [  0.125,  0.213]\n",
       "gamma[1]      -0.2210  2.374e-02     -9.310  1.278e-20 [ -0.268, -0.174]\n",
       "beta[1]        0.9438  8.775e-03    107.551      0.000 [  0.927,  0.961]\n",
       "========================================================================\n",
       "\n",
       "Covariance estimator: robust\n",
       "\"\"\""
      ]
     },
     "execution_count": 10,
     "metadata": {},
     "output_type": "execute_result"
    }
   ],
   "source": [
    "from arch.univariate import EGARCH, ConstantMean\n",
    "\n",
    "egarch_111 = EGARCH(p=1, o=1, q=1)\n",
    "mod = ConstantMean(sp500_returns, volatility=egarch_111)\n",
    "egarch_111_res = mod.fit(disp=\"off\")\n",
    "egarch_111_res.summary()"
   ]
  },
  {
   "cell_type": "code",
   "execution_count": 11,
   "metadata": {
    "collapsed": false,
    "execution": {
     "iopub.execute_input": "2021-09-22T10:10:28.588437Z",
     "iopub.status.busy": "2021-09-22T10:10:28.588437Z",
     "iopub.status.idle": "2021-09-22T10:10:28.665199Z",
     "shell.execute_reply": "2021-09-22T10:10:28.665199Z"
    },
    "jupyter": {
     "outputs_hidden": false
    },
    "pycharm": {
     "is_executing": false,
     "name": "#%%\n"
    }
   },
   "outputs": [],
   "source": [
    "import matplotlib.pyplot as plt\n",
    "import seaborn as sns\n",
    "\n",
    "sns.set_style(\"darkgrid\")"
   ]
  },
  {
   "cell_type": "code",
   "execution_count": 12,
   "metadata": {
    "collapsed": false,
    "execution": {
     "iopub.execute_input": "2021-09-22T10:10:28.670196Z",
     "iopub.status.busy": "2021-09-22T10:10:28.670196Z",
     "iopub.status.idle": "2021-09-22T10:10:28.959198Z",
     "shell.execute_reply": "2021-09-22T10:10:28.959198Z"
    },
    "jupyter": {
     "outputs_hidden": false
    },
    "pycharm": {
     "name": "#%%\n"
    }
   },
   "outputs": [
    {
     "data": {
      "text/plain": [
       "<AxesSubplot:xlabel='DATE'>"
      ]
     },
     "execution_count": 12,
     "metadata": {},
     "output_type": "execute_result"
    },
    {
     "data": {
      "image/png": "[encoded data removed]",
      "text/plain": [
       "<Figure size 1152x432 with 1 Axes>"
      ]
     },
     "metadata": {},
     "output_type": "display_data"
    }
   ],
   "source": [
    "plt.rc(\"figure\", figsize=(16, 6))\n",
    "plt.rc(\"font\", size=14)\n",
    "\n",
    "vol = pd.concat(\n",
    "    [\n",
    "        garch_res.conditional_volatility,\n",
    "        gjr_111_res.conditional_volatility,\n",
    "        tarch_111_res.conditional_volatility,\n",
    "        egarch_111_res.conditional_volatility,\n",
    "    ],\n",
    "    axis=1,\n",
    ")\n",
    "vol.columns = [\"GARCH\", \"GJR-GARCH\", \"TARCH\", \"EGARCH\"]\n",
    "vol.plot()"
   ]
  },
  {
   "cell_type": "markdown",
   "metadata": {},
   "source": [
    "#### Explanation\n",
    "\n",
    "Finally, we can plot the fit volatilities from some of the models. The fits\n",
    "are very similar although there are short periods (e.g., near 2018) where\n",
    "they differ."
   ]
  }
 ],
 "metadata": {
  "kernelspec": {
   "display_name": "Python 3 (ipykernel)",
   "language": "python",
   "name": "python3"
  },
  "language_info": {
   "codemirror_mode": {
    "name": "ipython",
    "version": 3
   },
   "file_extension": ".py",
   "mimetype": "text/x-python",
   "name": "python",
   "nbconvert_exporter": "python",
   "pygments_lexer": "ipython3",
   "version": "3.9.6"
  },
  "pycharm": {
   "stem_cell": {
    "cell_type": "raw",
    "metadata": {
     "collapsed": false
    },
    "source": []
   }
  }
 },
 "nbformat": 4,
 "nbformat_minor": 4
}
