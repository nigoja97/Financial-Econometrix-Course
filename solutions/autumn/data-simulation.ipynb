{
 "cells": [
  {
   "cell_type": "markdown",
   "metadata": {
    "pycharm": {
     "name": "#%% md\n"
    }
   },
   "source": [
    "## Simulation\n",
    "\n",
    "Functions\n",
    "\n",
    "`np.random.standard_normal`, `np.random.standard_t`, `np.random.RandomState`\n",
    "\n",
    "### Exercise 5\n",
    "\n",
    "Simulate 100 standard Normal random variables\n"
   ]
  },
  {
   "cell_type": "code",
   "execution_count": 1,
   "metadata": {
    "execution": {
     "iopub.execute_input": "2021-09-22T10:06:59.648245Z",
     "iopub.status.busy": "2021-09-22T10:06:59.648245Z",
     "iopub.status.idle": "2021-09-22T10:06:59.737245Z",
     "shell.execute_reply": "2021-09-22T10:06:59.737245Z"
    },
    "pycharm": {
     "is_executing": false,
     "name": "#%%\n"
    }
   },
   "outputs": [
    {
     "name": "stdout",
     "output_type": "stream",
     "text": [
      "[-0.79096216 -0.17704082 -0.49844728  0.08807226  2.82165217 -0.1933893\n",
      "  1.0609518  -1.07520713  0.15765795 -0.06396339]\n"
     ]
    }
   ],
   "source": [
    "import numpy as np\n",
    "\n",
    "x = np.random.standard_normal(100)\n",
    "print(x[:10])"
   ]
  },
  {
   "cell_type": "markdown",
   "metadata": {},
   "source": [
    "### Exercise 6\n",
    "\n",
    "Simulate 100 random variables from a $N\\left(.08,.2^{2}\\right)$"
   ]
  },
  {
   "cell_type": "code",
   "execution_count": 2,
   "metadata": {
    "execution": {
     "iopub.execute_input": "2021-09-22T10:06:59.740244Z",
     "iopub.status.busy": "2021-09-22T10:06:59.739245Z",
     "iopub.status.idle": "2021-09-22T10:06:59.753245Z",
     "shell.execute_reply": "2021-09-22T10:06:59.753245Z"
    },
    "pycharm": {
     "is_executing": false,
     "name": "#%%\n"
    }
   },
   "outputs": [
    {
     "name": "stdout",
     "output_type": "stream",
     "text": [
      "[-0.09352921 -0.04666808  0.35613339  0.04677738  0.07961037  0.2165194\n",
      "  0.2141985   0.41757394 -0.17597808  0.05618511]\n"
     ]
    }
   ],
   "source": [
    "x = np.random.normal(0.08, 0.20, 100)\n",
    "print(x[:10])"
   ]
  },
  {
   "cell_type": "markdown",
   "metadata": {},
   "source": [
    "### Exercise 7\n",
    "\n",
    "Simulate 100 random variables from a Students t with 8 degrees of freedom\n"
   ]
  },
  {
   "cell_type": "code",
   "execution_count": 3,
   "metadata": {
    "execution": {
     "iopub.execute_input": "2021-09-22T10:06:59.756245Z",
     "iopub.status.busy": "2021-09-22T10:06:59.755244Z",
     "iopub.status.idle": "2021-09-22T10:06:59.769246Z",
     "shell.execute_reply": "2021-09-22T10:06:59.769246Z"
    },
    "pycharm": {
     "is_executing": false,
     "name": "#%%\n"
    }
   },
   "outputs": [
    {
     "name": "stdout",
     "output_type": "stream",
     "text": [
      "[ 1.24311077 -0.55875308 -0.05605488  0.25237242  0.43649434 -0.61435589\n",
      " -1.49650304  0.45194144  0.36035296  1.7530511 ]\n"
     ]
    }
   ],
   "source": [
    "x = np.random.standard_t(8, size=100)\n",
    "print(x[:10])"
   ]
  },
  {
   "cell_type": "markdown",
   "metadata": {},
   "source": [
    "### Exercise 8\n",
    "\n",
    "Simulate 100 random variables from a Students t with 8 degrees of freedom with a mean of 8% and a volatility of 20%. Note: $V\\left[X\\right]=\\frac{\\nu}{\\nu-2}$ when $X\\sim t_{\\nu}$."
   ]
  },
  {
   "cell_type": "code",
   "execution_count": 4,
   "metadata": {
    "execution": {
     "iopub.execute_input": "2021-09-22T10:06:59.772245Z",
     "iopub.status.busy": "2021-09-22T10:06:59.772245Z",
     "iopub.status.idle": "2021-09-22T10:06:59.785244Z",
     "shell.execute_reply": "2021-09-22T10:06:59.785244Z"
    },
    "pycharm": {
     "is_executing": false,
     "name": "#%%\n"
    }
   },
   "outputs": [
    {
     "name": "stdout",
     "output_type": "stream",
     "text": [
      "[ 0.20182824  0.39525854  0.05645712  0.39897978  0.12646705 -0.11268734\n",
      "  0.11700376 -0.04299146 -0.30330862  0.24728596]\n"
     ]
    }
   ],
   "source": [
    "e = np.random.standard_t(8, size=100)\n",
    "e = e / np.sqrt(8 / (8 - 2))\n",
    "x = 0.08 + 0.2 * e\n",
    "print(x[:10])"
   ]
  },
  {
   "cell_type": "markdown",
   "metadata": {},
   "source": [
    "\n",
    "### Exercise 9\n",
    "\n",
    "Simulate two identical sets of 100 standard normal random variables by resetting the random number generator."
   ]
  },
  {
   "cell_type": "code",
   "execution_count": 5,
   "metadata": {
    "execution": {
     "iopub.execute_input": "2021-09-22T10:06:59.789244Z",
     "iopub.status.busy": "2021-09-22T10:06:59.789244Z",
     "iopub.status.idle": "2021-09-22T10:06:59.801264Z",
     "shell.execute_reply": "2021-09-22T10:06:59.801264Z"
    },
    "pycharm": {
     "is_executing": false,
     "name": "#%%\n"
    }
   },
   "outputs": [
    {
     "name": "stdout",
     "output_type": "stream",
     "text": [
      "[0. 0. 0. 0. 0. 0. 0. 0. 0. 0. 0. 0. 0. 0. 0. 0. 0. 0. 0. 0. 0. 0. 0. 0.\n",
      " 0. 0. 0. 0. 0. 0. 0. 0. 0. 0. 0. 0. 0. 0. 0. 0. 0. 0. 0. 0. 0. 0. 0. 0.\n",
      " 0. 0. 0. 0. 0. 0. 0. 0. 0. 0. 0. 0. 0. 0. 0. 0. 0. 0. 0. 0. 0. 0. 0. 0.\n",
      " 0. 0. 0. 0. 0. 0. 0. 0. 0. 0. 0. 0. 0. 0. 0. 0. 0. 0. 0. 0. 0. 0. 0. 0.\n",
      " 0. 0. 0. 0.]\n"
     ]
    }
   ],
   "source": [
    "# Legacy method for any NumPy\n",
    "rs = np.random.RandomState(30092019)\n",
    "# Modern method, NumPy >= 1.17\n",
    "rs = np.random.default_rng(30092019)\n",
    "\n",
    "x1 = rs.standard_normal(100)\n",
    "\n",
    "# rs2 = np.random.RandomState(30092019)\n",
    "rs2 = np.random.default_rng(30092019)\n",
    "\n",
    "x2 = rs2.standard_normal(100)\n",
    "print(x1 - x2)"
   ]
  },
  {
   "cell_type": "code",
   "execution_count": 6,
   "metadata": {
    "execution": {
     "iopub.execute_input": "2021-09-22T10:06:59.805263Z",
     "iopub.status.busy": "2021-09-22T10:06:59.805263Z",
     "iopub.status.idle": "2021-09-22T10:06:59.816681Z",
     "shell.execute_reply": "2021-09-22T10:06:59.816681Z"
    },
    "pycharm": {
     "is_executing": false,
     "name": "#%%\n"
    }
   },
   "outputs": [
    {
     "name": "stdout",
     "output_type": "stream",
     "text": [
      "[0. 0. 0. 0. 0. 0. 0. 0. 0. 0. 0. 0. 0. 0. 0. 0. 0. 0. 0. 0. 0. 0. 0. 0.\n",
      " 0. 0. 0. 0. 0. 0. 0. 0. 0. 0. 0. 0. 0. 0. 0. 0. 0. 0. 0. 0. 0. 0. 0. 0.\n",
      " 0. 0. 0. 0. 0. 0. 0. 0. 0. 0. 0. 0. 0. 0. 0. 0. 0. 0. 0. 0. 0. 0. 0. 0.\n",
      " 0. 0. 0. 0. 0. 0. 0. 0. 0. 0. 0. 0. 0. 0. 0. 0. 0. 0. 0. 0. 0. 0. 0. 0.\n",
      " 0. 0. 0. 0.]\n"
     ]
    }
   ],
   "source": [
    "# When using the legacy RandomState\n",
    "rs = np.random.RandomState(30092019)\n",
    "state = rs.get_state()\n",
    "x1 = rs.standard_normal(100)\n",
    "rs.set_state(state)\n",
    "x2 = rs.standard_normal(100)\n",
    "print(x1 - x2)"
   ]
  },
  {
   "cell_type": "code",
   "execution_count": 7,
   "metadata": {
    "collapsed": false,
    "execution": {
     "iopub.execute_input": "2021-09-22T10:06:59.820680Z",
     "iopub.status.busy": "2021-09-22T10:06:59.820680Z",
     "iopub.status.idle": "2021-09-22T10:06:59.832281Z",
     "shell.execute_reply": "2021-09-22T10:06:59.832281Z"
    },
    "jupyter": {
     "outputs_hidden": false
    },
    "pycharm": {
     "is_executing": false,
     "name": "#%%\n"
    }
   },
   "outputs": [
    {
     "name": "stdout",
     "output_type": "stream",
     "text": [
      "[0. 0. 0. 0. 0. 0. 0. 0. 0. 0. 0. 0. 0. 0. 0. 0. 0. 0. 0. 0. 0. 0. 0. 0.\n",
      " 0. 0. 0. 0. 0. 0. 0. 0. 0. 0. 0. 0. 0. 0. 0. 0. 0. 0. 0. 0. 0. 0. 0. 0.\n",
      " 0. 0. 0. 0. 0. 0. 0. 0. 0. 0. 0. 0. 0. 0. 0. 0. 0. 0. 0. 0. 0. 0. 0. 0.\n",
      " 0. 0. 0. 0. 0. 0. 0. 0. 0. 0. 0. 0. 0. 0. 0. 0. 0. 0. 0. 0. 0. 0. 0. 0.\n",
      " 0. 0. 0. 0.]\n"
     ]
    }
   ],
   "source": [
    "# If using the modern way\n",
    "rs = np.random.default_rng(30092019)\n",
    "state = rs.bit_generator.state\n",
    "x1 = rs.standard_normal(100)\n",
    "rs.bit_generator.state = state\n",
    "x2 = rs.standard_normal(100)\n",
    "print(x1 - x2)"
   ]
  },
  {
   "cell_type": "markdown",
   "metadata": {},
   "source": [
    "\n",
    "### Exercise 10\n",
    "\n",
    "Repeat exercise 7 using only `standard_normal`."
   ]
  },
  {
   "cell_type": "code",
   "execution_count": 8,
   "metadata": {
    "execution": {
     "iopub.execute_input": "2021-09-22T10:06:59.836278Z",
     "iopub.status.busy": "2021-09-22T10:06:59.836278Z",
     "iopub.status.idle": "2021-09-22T10:06:59.847685Z",
     "shell.execute_reply": "2021-09-22T10:06:59.847685Z"
    },
    "pycharm": {
     "is_executing": false,
     "name": "#%%"
    }
   },
   "outputs": [
    {
     "name": "stdout",
     "output_type": "stream",
     "text": [
      "[ 0.00851377 -0.12160312  0.25513281  0.00612633 -0.01818945  0.12300775\n",
      " -0.00469669  0.0382072   0.0040533  -0.02505603]\n"
     ]
    }
   ],
   "source": [
    "# Modern way to get a reproducible random generator\n",
    "rs = np.random.default_rng(30092019)\n",
    "\n",
    "df = 8\n",
    "\n",
    "num = rs.standard_normal(100)\n",
    "denom = rs.standard_normal((100, df))\n",
    "denom = np.sum(denom ** 2, 1)\n",
    "denom = denom / df\n",
    "\n",
    "e = num / np.sqrt(denom)\n",
    "\n",
    "e = e / np.sqrt(df / (df - 2))\n",
    "x = 0.08 + 0.2 * e\n",
    "\n",
    "print(x[:10])"
   ]
  },
  {
   "cell_type": "code",
   "execution_count": 9,
   "metadata": {
    "execution": {
     "iopub.execute_input": "2021-09-22T10:06:59.850685Z",
     "iopub.status.busy": "2021-09-22T10:06:59.850685Z",
     "iopub.status.idle": "2021-09-22T10:07:00.250686Z",
     "shell.execute_reply": "2021-09-22T10:07:00.250686Z"
    },
    "pycharm": {
     "is_executing": false,
     "name": "#%%\n"
    },
    "tags": []
   },
   "outputs": [
    {
     "name": "stdout",
     "output_type": "stream",
     "text": [
      "Kurtosis: 4.505665233546498\n",
      "Theoretical Value: 4.5\n"
     ]
    }
   ],
   "source": [
    "from scipy import stats\n",
    "\n",
    "reps = 1000000\n",
    "num = rs.standard_normal(reps)\n",
    "denom = rs.standard_normal((reps, df))\n",
    "denom = np.sum(denom ** 2, 1)\n",
    "denom = denom / df\n",
    "\n",
    "e = num / np.sqrt(denom)\n",
    "print(f\"Kurtosis: {3 + stats.kurtosis(e)}\")\n",
    "print(f\"Theoretical Value: {3 + 6 / (df - 4)}\")"
   ]
  }
 ],
 "metadata": {
  "kernelspec": {
   "display_name": "Python 3 (ipykernel)",
   "language": "python",
   "name": "python3"
  },
  "language_info": {
   "codemirror_mode": {
    "name": "ipython",
    "version": 3
   },
   "file_extension": ".py",
   "mimetype": "text/x-python",
   "name": "python",
   "nbconvert_exporter": "python",
   "pygments_lexer": "ipython3",
   "version": "3.9.6"
  },
  "pycharm": {
   "stem_cell": {
    "cell_type": "raw",
    "metadata": {
     "collapsed": false
    },
    "source": []
   }
  }
 },
 "nbformat": 4,
 "nbformat_minor": 4
}
