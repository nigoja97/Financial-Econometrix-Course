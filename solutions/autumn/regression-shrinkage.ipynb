{
 "cells": [
  {
   "cell_type": "markdown",
   "metadata": {},
   "source": [
    "## Linear Regression: Ridge Regression and LASSO\n",
    "\n",
    "**Functions**\n",
    "\n",
    "`sklearn.linear_model.RidgeCV`, `sklearn.linear_model.LassoCV`, `sklearn.preprocessing.StandardScaler`\n"
   ]
  },
  {
   "cell_type": "code",
   "execution_count": 1,
   "metadata": {
    "execution": {
     "iopub.execute_input": "2021-09-22T10:10:00.941124Z",
     "iopub.status.busy": "2021-09-22T10:10:00.940125Z",
     "iopub.status.idle": "2021-09-22T10:10:02.035124Z",
     "shell.execute_reply": "2021-09-22T10:10:02.036125Z"
    }
   },
   "outputs": [],
   "source": [
    "import numpy as np\n",
    "import pandas as pd\n",
    "from sklearn.linear_model import LassoCV, RidgeCV"
   ]
  },
  {
   "cell_type": "markdown",
   "metadata": {},
   "source": [
    "### Exercise 49\n",
    "\n",
    "Standardize the value-weighted-market return data and the 12 industry portfolios by their standard deviation. You should _not_ remove the mean since we want to match the mean in the tracking portfolio."
   ]
  },
  {
   "cell_type": "code",
   "execution_count": 2,
   "metadata": {
    "execution": {
     "iopub.execute_input": "2021-09-22T10:10:02.040123Z",
     "iopub.status.busy": "2021-09-22T10:10:02.039124Z",
     "iopub.status.idle": "2021-09-22T10:10:02.097124Z",
     "shell.execute_reply": "2021-09-22T10:10:02.097124Z"
    }
   },
   "outputs": [],
   "source": [
    "vwm = pd.read_csv(\"data/VWM.csv\", index_col=\"Date\")\n",
    "vwm.index = pd.to_datetime(vwm.index, format=\"%Y%m\")\n",
    "vwm = vwm.resample(\"M\").last()\n",
    "\n",
    "industries = pd.read_csv(\"data/12_Industry_portfolios.csv\", index_col=\"Date\")\n",
    "industries.index = pd.to_datetime(industries.index, format=\"%Y%m\")\n",
    "industries = industries.resample(\"M\").last()"
   ]
  },
  {
   "cell_type": "code",
   "execution_count": 3,
   "metadata": {
    "execution": {
     "iopub.execute_input": "2021-09-22T10:10:02.101123Z",
     "iopub.status.busy": "2021-09-22T10:10:02.100123Z",
     "iopub.status.idle": "2021-09-22T10:10:02.113123Z",
     "shell.execute_reply": "2021-09-22T10:10:02.113123Z"
    }
   },
   "outputs": [],
   "source": [
    "x = industries[\"1980\":\"2014\"]\n",
    "y = vwm[\"VWM\"][\"1980\":\"2014\"]\n",
    "t, p = x.shape"
   ]
  },
  {
   "cell_type": "markdown",
   "metadata": {},
   "source": [
    "#### Explanation\n",
    "\n",
    "Here we use the same problem (portfolio tracking) and data that was used in the Best Subset and Stepwise regression notebook."
   ]
  },
  {
   "cell_type": "code",
   "execution_count": 4,
   "metadata": {
    "execution": {
     "iopub.execute_input": "2021-09-22T10:10:02.118124Z",
     "iopub.status.busy": "2021-09-22T10:10:02.117124Z",
     "iopub.status.idle": "2021-09-22T10:10:02.128124Z",
     "shell.execute_reply": "2021-09-22T10:10:02.129125Z"
    }
   },
   "outputs": [],
   "source": [
    "x_scale = x.std(ddof=0)\n",
    "y_scale = y.std(ddof=0)\n",
    "std_x = x / x_scale\n",
    "std_y = y / y_scale"
   ]
  },
  {
   "cell_type": "markdown",
   "metadata": {},
   "source": [
    "#### Explanation\n",
    "\n",
    "We standardize the data by dividing by the the standard deviation. Note that we do not remove the mean since the portfolio tracking problem excludes an intercept.  The transformed data is then\n",
    "\n",
    "$$ \\tilde{X} = \\frac{X - 0}{\\hat{\\sigma}} $$\n",
    "\n",
    "where the mean has been replaced by 0 since we are _not_ recentering.\n",
    "\n",
    "**Note**: We set `ddof=0` so that the large-sample standard deviation estimator is used, \n",
    "$$\\hat{\\sigma} = \\sqrt{n^{-1} \\sum_{i=1}^n (X_i - \\bar{X})^2}$$"
   ]
  },
  {
   "cell_type": "markdown",
   "metadata": {},
   "source": [
    "### Exercise 50\n",
    "\n",
    "Select the optimal tuning parameter in a LASSO and estimate model parameters for the tracking error minimizing portfolio using the standardized data."
   ]
  },
  {
   "cell_type": "code",
   "execution_count": 5,
   "metadata": {
    "execution": {
     "iopub.execute_input": "2021-09-22T10:10:02.134123Z",
     "iopub.status.busy": "2021-09-22T10:10:02.133123Z",
     "iopub.status.idle": "2021-09-22T10:10:02.189124Z",
     "shell.execute_reply": "2021-09-22T10:10:02.189124Z"
    }
   },
   "outputs": [
    {
     "name": "stdout",
     "output_type": "stream",
     "text": [
      "Optimal alpha : 0.0009720286574532108\n"
     ]
    },
    {
     "data": {
      "text/plain": [
       "array([ 0.05005624, -0.01018175,  0.09781553,  0.11926269,  0.03592871,\n",
       "        0.31908609,  0.10457203,  0.0279572 ,  0.06254488,  0.08440358,\n",
       "        0.17082026,  0.13580386])"
      ]
     },
     "execution_count": 5,
     "metadata": {},
     "output_type": "execute_result"
    }
   ],
   "source": [
    "lasso_cv = LassoCV(fit_intercept=False)\n",
    "lasso_cv = lasso_cv.fit(std_x, std_y)\n",
    "print(f\"Optimal alpha : {lasso_cv.alpha_}\")\n",
    "lasso_cv.coef_"
   ]
  },
  {
   "cell_type": "markdown",
   "metadata": {},
   "source": [
    "#### Explanation\n",
    "\n",
    "`LassoCV` can be used to cross-validate the tuning parameter (`alpha` is scikit-learn is the same as $\\lambda$ in the notes). Here we set `fit_intercept` to `False` since the model should not include an intercept.  We then choose the tuning parameter by cross-validation and report the optimal value and the estimated coefficients."
   ]
  },
  {
   "cell_type": "markdown",
   "metadata": {},
   "source": [
    "### Exercise 51\n",
    "\n",
    "Transform the estimated LASSO coefficients back to the scale of the original, non-standardized data."
   ]
  },
  {
   "cell_type": "code",
   "execution_count": 6,
   "metadata": {
    "execution": {
     "iopub.execute_input": "2021-09-22T10:10:02.194122Z",
     "iopub.status.busy": "2021-09-22T10:10:02.194122Z",
     "iopub.status.idle": "2021-09-22T10:10:02.204123Z",
     "shell.execute_reply": "2021-09-22T10:10:02.205122Z"
    }
   },
   "outputs": [
    {
     "data": {
      "text/plain": [
       "NoDur    0.054173\n",
       "Durbl   -0.006784\n",
       "Manuf    0.081264\n",
       "Enrgy    0.094259\n",
       "Chems    0.035066\n",
       "BusEq    0.207187\n",
       "Telcm    0.093599\n",
       "Utils    0.031835\n",
       "Shops    0.055549\n",
       "Hlth     0.081716\n",
       "Money    0.140461\n",
       "Other    0.115621\n",
       "dtype: float64"
      ]
     },
     "execution_count": 6,
     "metadata": {},
     "output_type": "execute_result"
    }
   ],
   "source": [
    "lasso_orig = lasso_cv.coef_ * (y_scale / x_scale)\n",
    "lasso_orig"
   ]
  },
  {
   "cell_type": "markdown",
   "metadata": {},
   "source": [
    "#### Explanation\n",
    "We used transformed `x` and `y` values, and so to get the parameters back to the scale of the original data, we need to multiply by the ratio of the two scales.  The invariance to affine transformations is a standard property of OLS estimators.  Note the model we estimated was\n",
    "\n",
    "$$ \\frac{Y_i}{\\hat{\\sigma}_Y} = \\sum_{j=1}^k \\beta_j \\frac{X_{i,j}}{\\hat{\\sigma}_{X_j}}  + \\epsilon _i $$\n",
    "\n",
    "so to get back to the original scale we need to multiply the estimated coefficient for regressor $j$ by\n",
    "\n",
    "$$ \\frac{\\hat{\\sigma}_Y}{\\hat{\\sigma}_{X_j}}.$$"
   ]
  },
  {
   "cell_type": "markdown",
   "metadata": {},
   "source": [
    "### Exercise 52\n",
    "\n",
    "Select the optimal tuning parameter in a Ridge regression and estimate model parameters for the tracking error minimizing portfolio using the standardized data."
   ]
  },
  {
   "cell_type": "code",
   "execution_count": 7,
   "metadata": {
    "execution": {
     "iopub.execute_input": "2021-09-22T10:10:02.211123Z",
     "iopub.status.busy": "2021-09-22T10:10:02.211123Z",
     "iopub.status.idle": "2021-09-22T10:10:02.219122Z",
     "shell.execute_reply": "2021-09-22T10:10:02.219122Z"
    }
   },
   "outputs": [
    {
     "name": "stdout",
     "output_type": "stream",
     "text": [
      "Optimal alpha : 5.0\n"
     ]
    }
   ],
   "source": [
    "ridge_cv = RidgeCV(alphas=np.linspace(1, 100, 100), fit_intercept=False)\n",
    "ridge_cv = ridge_cv.fit(std_x, std_y)\n",
    "print(f\"Optimal alpha : {ridge_cv.alpha_}\")"
   ]
  },
  {
   "cell_type": "code",
   "execution_count": 8,
   "metadata": {
    "execution": {
     "iopub.execute_input": "2021-09-22T10:10:02.224124Z",
     "iopub.status.busy": "2021-09-22T10:10:02.223123Z",
     "iopub.status.idle": "2021-09-22T10:10:02.299123Z",
     "shell.execute_reply": "2021-09-22T10:10:02.298122Z"
    }
   },
   "outputs": [
    {
     "name": "stdout",
     "output_type": "stream",
     "text": [
      "Optimal alpha : 4.87\n"
     ]
    },
    {
     "data": {
      "text/plain": [
       "array([ 0.04784878, -0.01232701,  0.10364798,  0.11820944,  0.03795449,\n",
       "        0.31184016,  0.10637149,  0.02868169,  0.06661968,  0.08526424,\n",
       "        0.16662157,  0.13562156])"
      ]
     },
     "execution_count": 8,
     "metadata": {},
     "output_type": "execute_result"
    }
   ],
   "source": [
    "ridge_cv = RidgeCV(alphas=np.linspace(4, 6, 2001), fit_intercept=False)\n",
    "ridge_cv = ridge_cv.fit(std_x, std_y)\n",
    "print(f\"Optimal alpha : {ridge_cv.alpha_}\")\n",
    "ridge_cv.coef_"
   ]
  },
  {
   "cell_type": "markdown",
   "metadata": {},
   "source": [
    "#### Explanation\n",
    "\n",
    "Ridge regression is virtually identical with the key exception that we need to pass in an arrays of `alpha` values to check.  Here we do this in two passes where the first gets a rough estimate and the second refines this value.  Again `alpha` is the same as $\\lambda$ in the notes."
   ]
  },
  {
   "cell_type": "markdown",
   "metadata": {},
   "source": [
    "### Exercise 53\n",
    "\n",
    "Transform the estimated Ridge regression coefficients back to the scale of the original, non-standardized data."
   ]
  },
  {
   "cell_type": "code",
   "execution_count": 9,
   "metadata": {
    "execution": {
     "iopub.execute_input": "2021-09-22T10:10:02.303122Z",
     "iopub.status.busy": "2021-09-22T10:10:02.303122Z",
     "iopub.status.idle": "2021-09-22T10:10:02.313122Z",
     "shell.execute_reply": "2021-09-22T10:10:02.313122Z"
    }
   },
   "outputs": [
    {
     "data": {
      "text/plain": [
       "NoDur    0.051784\n",
       "Durbl   -0.008213\n",
       "Manuf    0.086109\n",
       "Enrgy    0.093426\n",
       "Chems    0.037043\n",
       "BusEq    0.202482\n",
       "Telcm    0.095209\n",
       "Utils    0.032660\n",
       "Shops    0.059168\n",
       "Hlth     0.082549\n",
       "Money    0.137009\n",
       "Other    0.115465\n",
       "dtype: float64"
      ]
     },
     "execution_count": 9,
     "metadata": {},
     "output_type": "execute_result"
    }
   ],
   "source": [
    "ridge_orig = ridge_cv.coef_ * (y_scale / x_scale)\n",
    "ridge_orig"
   ]
  },
  {
   "cell_type": "markdown",
   "metadata": {},
   "source": [
    "#### Explanation\n",
    "\n",
    "The coefficient need to be rescaled to be comparable to those that we would find by OLS."
   ]
  },
  {
   "cell_type": "markdown",
   "metadata": {},
   "source": [
    "### Exercise 54\n",
    "\n",
    "Compare the parameter estimates from the LASSO and Ridge regression to those from OLS in a plot. Use the original, non-standardized data."
   ]
  },
  {
   "cell_type": "code",
   "execution_count": 10,
   "metadata": {
    "execution": {
     "iopub.execute_input": "2021-09-22T10:10:02.317123Z",
     "iopub.status.busy": "2021-09-22T10:10:02.317123Z",
     "iopub.status.idle": "2021-09-22T10:10:03.432124Z",
     "shell.execute_reply": "2021-09-22T10:10:03.432124Z"
    }
   },
   "outputs": [
    {
     "data": {
      "image/png": "[encoded data removed]",
      "text/plain": [
       "<Figure size 1440x864 with 1 Axes>"
      ]
     },
     "metadata": {
      "needs_background": "light"
     },
     "output_type": "display_data"
    }
   ],
   "source": [
    "import matplotlib.pyplot as plt\n",
    "from statsmodels.api import OLS\n",
    "\n",
    "plt.rc(\"font\", size=16)\n",
    "\n",
    "ols = OLS(y, x).fit().params\n",
    "\n",
    "fig, ax = plt.subplots(1, 1, figsize=(20, 12))\n",
    "_ = pd.DataFrame([ols, lasso_orig, ridge_orig], index=[\"OLS\", \"LASSO\", \"RIDGE\"]).T.plot(\n",
    "    kind=\"bar\", ax=ax\n",
    ")"
   ]
  },
  {
   "cell_type": "markdown",
   "metadata": {},
   "source": [
    "#### Explanation\n",
    "\n",
    "The optimal shrinkage is small and the coefficient are similar to those in OLS.  This might not be the case if the sample size was smaller or the number of regressors was larger."
   ]
  },
  {
   "cell_type": "code",
   "execution_count": 11,
   "metadata": {
    "execution": {
     "iopub.execute_input": "2021-09-22T10:10:03.437124Z",
     "iopub.status.busy": "2021-09-22T10:10:03.435123Z",
     "iopub.status.idle": "2021-09-22T10:10:03.448122Z",
     "shell.execute_reply": "2021-09-22T10:10:03.448122Z"
    }
   },
   "outputs": [
    {
     "data": {
      "text/plain": [
       "Date\n",
       "1980-01-31     4.942086\n",
       "1980-02-29    -1.858135\n",
       "1980-03-31   -10.235365\n",
       "1980-04-30     4.700443\n",
       "1980-05-31     6.367643\n",
       "                ...    \n",
       "2014-08-31     4.011852\n",
       "2014-09-30    -1.877541\n",
       "2014-10-31     2.074927\n",
       "2014-11-30     2.099876\n",
       "2014-12-31    -0.203080\n",
       "Freq: M, Length: 420, dtype: float64"
      ]
     },
     "execution_count": 11,
     "metadata": {},
     "output_type": "execute_result"
    }
   ],
   "source": [
    "rescaled_pred = x @ ridge_orig\n",
    "rescaled_pred"
   ]
  },
  {
   "cell_type": "markdown",
   "metadata": {},
   "source": [
    "#### Explanation\n",
    "\n",
    "With the rescaled coefficients, we can then compute the actual in-sample predictions with the correct scale."
   ]
  },
  {
   "cell_type": "markdown",
   "metadata": {},
   "source": [
    "### Exercise 55\n",
    "\n",
    "Use scikit-learn to scale the standardize the data by changing the scale but not the mean.\n"
   ]
  },
  {
   "cell_type": "code",
   "execution_count": 12,
   "metadata": {
    "execution": {
     "iopub.execute_input": "2021-09-22T10:10:03.457124Z",
     "iopub.status.busy": "2021-09-22T10:10:03.456124Z",
     "iopub.status.idle": "2021-09-22T10:10:03.525638Z",
     "shell.execute_reply": "2021-09-22T10:10:03.525638Z"
    }
   },
   "outputs": [
    {
     "name": "stdout",
     "output_type": "stream",
     "text": [
      "Optimal alpha : 4.87\n"
     ]
    }
   ],
   "source": [
    "from sklearn.preprocessing import StandardScaler\n",
    "\n",
    "y_scaler = StandardScaler(with_mean=False)\n",
    "y_2d = pd.DataFrame(y)\n",
    "y_scaler = y_scaler.fit(y_2d)\n",
    "\n",
    "x_scaler = StandardScaler(with_mean=False)\n",
    "x_scaler = x_scaler.fit(x)\n",
    "\n",
    "std_y = y_scaler.transform(y_2d)\n",
    "std_x = x_scaler.transform(x)\n",
    "\n",
    "ridge_cv = RidgeCV(alphas=np.linspace(4, 6, 2001), fit_intercept=False)\n",
    "ridge_cv = ridge_cv.fit(std_x, std_y)\n",
    "print(f\"Optimal alpha : {ridge_cv.alpha_}\")"
   ]
  },
  {
   "cell_type": "markdown",
   "metadata": {},
   "source": [
    "#### Explanation\n",
    "\n",
    "scikit-learn contains a number of alternative rescaling methods.  The basic one is `StandardScaler` which by default computes\n",
    "\n",
    "$$ \\tilde{X} = \\frac{X-\\bar{X}}{\\hat{\\sigma}_X}.$$\n",
    "\n",
    "We can set `with_mean=False` to force $\\bar{X}=0$.\n",
    "\n",
    "Here we standardize both x and y using `StandardScaler` and show the results are identical. `StandardScaler` is used by first initializing it, then fitting the coefficients to a dataset.  This computes the mean and standard deviation and lets the same scaler be applied to other data later. It also lets the scaling operation be inverted, so that we can transform some standardized value $Z$ to the same scale as the original data\n",
    "\n",
    "$$ \\ddot{X} = \\hat{\\sigma}_X Z + \\bar{X}.$$\n",
    "\n",
    "**Note** `StandardScaler` expects a 2-d input, so we need to transform the `Series` version of y to a `DataFrame`."
   ]
  },
  {
   "cell_type": "markdown",
   "metadata": {},
   "source": [
    "### Exercise 56\n",
    "\n",
    "Use the scikit-learn scaler to compute the predicted in-sample values using the Ridge ridge regression."
   ]
  },
  {
   "cell_type": "code",
   "execution_count": 13,
   "metadata": {
    "execution": {
     "iopub.execute_input": "2021-09-22T10:10:03.530639Z",
     "iopub.status.busy": "2021-09-22T10:10:03.528641Z",
     "iopub.status.idle": "2021-09-22T10:10:03.540674Z",
     "shell.execute_reply": "2021-09-22T10:10:03.540674Z"
    }
   },
   "outputs": [
    {
     "data": {
      "text/plain": [
       "0       4.942086\n",
       "1      -1.858135\n",
       "2     -10.235365\n",
       "3       4.700443\n",
       "4       6.367643\n",
       "         ...    \n",
       "415     4.011852\n",
       "416    -1.877541\n",
       "417     2.074927\n",
       "418     2.099876\n",
       "419    -0.203080\n",
       "Length: 420, dtype: float64"
      ]
     },
     "execution_count": 13,
     "metadata": {},
     "output_type": "execute_result"
    }
   ],
   "source": [
    "pred = ridge_cv.predict(std_x)\n",
    "rescaled_pred = y_scaler.inverse_transform(pred)\n",
    "pd.Series(rescaled_pred.squeeze())"
   ]
  },
  {
   "cell_type": "markdown",
   "metadata": {},
   "source": [
    "#### Explanation\n",
    "\n",
    "To make predictions in the original space of the y values, we first predict using the standardized values, and then we use `inverse_transform` of the `y_scaler` to transform the predictions which are for the standardized y back to the original scale. Aside from the loss of the pandas information, we can see these are the same as the predictions above."
   ]
  },
  {
   "cell_type": "markdown",
   "metadata": {},
   "source": [
    "### Exercise 57\n",
    "\n",
    "Use the scalar from scikit-learn to produce out-of-sample forecasts of the two shrinkage estimators and OLS and evaluate the out-of-sample SSE.\n"
   ]
  },
  {
   "cell_type": "code",
   "execution_count": 14,
   "metadata": {
    "execution": {
     "iopub.execute_input": "2021-09-22T10:10:03.545678Z",
     "iopub.status.busy": "2021-09-22T10:10:03.545678Z",
     "iopub.status.idle": "2021-09-22T10:10:03.555835Z",
     "shell.execute_reply": "2021-09-22T10:10:03.555835Z"
    }
   },
   "outputs": [],
   "source": [
    "# Select the out-of-sample data\n",
    "y_oos = vwm.loc[\"2015\":, \"VWM\"]\n",
    "x_oos = industries[\"2015\":]\n",
    "\n",
    "# Transform the out-of-sample values\n",
    "std_x_oos = x_scaler.transform(x_oos)"
   ]
  },
  {
   "cell_type": "code",
   "execution_count": 15,
   "metadata": {
    "execution": {
     "iopub.execute_input": "2021-09-22T10:10:03.559834Z",
     "iopub.status.busy": "2021-09-22T10:10:03.558838Z",
     "iopub.status.idle": "2021-09-22T10:10:03.570828Z",
     "shell.execute_reply": "2021-09-22T10:10:03.570828Z"
    }
   },
   "outputs": [
    {
     "data": {
      "text/plain": [
       "19.126359540836944"
      ]
     },
     "execution_count": 15,
     "metadata": {},
     "output_type": "execute_result"
    }
   ],
   "source": [
    "# Predict using the standardized OOS values\n",
    "pred = lasso_cv.predict(std_x_oos)\n",
    "# Compute OOS residuals by inverting the scale of the prediction\n",
    "resid_oos = y_oos - y_scaler.inverse_transform(pred)\n",
    "lasso_oos_sse = resid_oos @ resid_oos\n",
    "lasso_oos_sse"
   ]
  },
  {
   "cell_type": "markdown",
   "metadata": {},
   "source": [
    "#### Explanation\n",
    "\n",
    "The scikit-learn approach makes out-of-sample prediction simple using 3 steps:\n",
    "\n",
    "1. Standardized out-of-sample x values using the `x_scaler`. **Note**: This must be the same scaler used previously.\n",
    "2. Make a prediction using the transformed out-of-sample x values.\n",
    "3. Inverse the transformation of the prediction using `y_scaler`.\n",
    "\n",
    "**Note**: We _do not_ rescale the out-of-sample y values."
   ]
  },
  {
   "cell_type": "code",
   "execution_count": 16,
   "metadata": {
    "execution": {
     "iopub.execute_input": "2021-09-22T10:10:03.574827Z",
     "iopub.status.busy": "2021-09-22T10:10:03.574827Z",
     "iopub.status.idle": "2021-09-22T10:10:03.586850Z",
     "shell.execute_reply": "2021-09-22T10:10:03.587848Z"
    }
   },
   "outputs": [
    {
     "data": {
      "text/plain": [
       "19.501831333601576"
      ]
     },
     "execution_count": 16,
     "metadata": {},
     "output_type": "execute_result"
    }
   ],
   "source": [
    "# Specify and fit the model\n",
    "pred = ridge_cv.predict(std_x_oos)\n",
    "resid_oos = y_oos - y_scaler.inverse_transform(np.squeeze(pred))\n",
    "ridge_oos_sse = resid_oos @ resid_oos\n",
    "ridge_oos_sse"
   ]
  },
  {
   "cell_type": "markdown",
   "metadata": {},
   "source": [
    "#### Explanation\n",
    "\n",
    "Predictions from ridge regression are virtually identical. The only caveat in the code is thar Ridge likes 2d arrays, and so `pred` is 2d. This needs to be squeezed to 1d before running through `inverse_transform`."
   ]
  },
  {
   "cell_type": "code",
   "execution_count": 17,
   "metadata": {
    "execution": {
     "iopub.execute_input": "2021-09-22T10:10:03.591850Z",
     "iopub.status.busy": "2021-09-22T10:10:03.590847Z",
     "iopub.status.idle": "2021-09-22T10:10:03.602290Z",
     "shell.execute_reply": "2021-09-22T10:10:03.602290Z"
    }
   },
   "outputs": [
    {
     "data": {
      "text/plain": [
       "20.150507935326274"
      ]
     },
     "execution_count": 17,
     "metadata": {},
     "output_type": "execute_result"
    }
   ],
   "source": [
    "ols_pred = x_oos @ ols\n",
    "resid_oos = y_oos - ols_pred\n",
    "ols_oos_sse = resid_oos @ resid_oos\n",
    "ols_oos_sse"
   ]
  },
  {
   "cell_type": "markdown",
   "metadata": {},
   "source": [
    "#### Explanation\n",
    "\n",
    "For good measure we can compare to OLS.  We see that both shrinkage methods have outperformed OLS despite the small differences in coefficients."
   ]
  },
  {
   "cell_type": "markdown",
   "metadata": {},
   "source": [
    "### Exercise 58\n",
    "\n",
    "Directly produce out-of-sample forecasts of the two shrinkage estimators and OLS and evaluate the out-of-sample SSE without using scikit-learn.\n"
   ]
  },
  {
   "cell_type": "code",
   "execution_count": 18,
   "metadata": {
    "execution": {
     "iopub.execute_input": "2021-09-22T10:10:03.607287Z",
     "iopub.status.busy": "2021-09-22T10:10:03.607287Z",
     "iopub.status.idle": "2021-09-22T10:10:03.617670Z",
     "shell.execute_reply": "2021-09-22T10:10:03.617670Z"
    }
   },
   "outputs": [
    {
     "data": {
      "text/plain": [
       "19.501831333597664"
      ]
     },
     "execution_count": 18,
     "metadata": {},
     "output_type": "execute_result"
    }
   ],
   "source": [
    "x_oos = industries[\"2015\":]\n",
    "direct_pred = x_oos @ ridge_orig\n",
    "\n",
    "resid = y_oos - direct_pred\n",
    "ridge_oos_sse = resid @ resid\n",
    "ridge_oos_sse"
   ]
  },
  {
   "cell_type": "markdown",
   "metadata": {},
   "source": [
    "#### Explanation\n",
    "\n",
    "It is also possible to directly compute the out-of-sample predictions using the transformed regression coefficients computed previously.  When the coefficients have been transformed, the remainder of the calculation is simple.\n",
    "\n",
    "Finally, we can compare the predictions using the two methods and see they are identical."
   ]
  },
  {
   "cell_type": "code",
   "execution_count": 19,
   "metadata": {
    "execution": {
     "iopub.execute_input": "2021-09-22T10:10:03.623667Z",
     "iopub.status.busy": "2021-09-22T10:10:03.623667Z",
     "iopub.status.idle": "2021-09-22T10:10:03.633138Z",
     "shell.execute_reply": "2021-09-22T10:10:03.633138Z"
    },
    "tags": []
   },
   "outputs": [
    {
     "data": {
      "text/html": [
       "<div>\n",
       "<style scoped>\n",
       "    .dataframe tbody tr th:only-of-type {\n",
       "        vertical-align: middle;\n",
       "    }\n",
       "\n",
       "    .dataframe tbody tr th {\n",
       "        vertical-align: top;\n",
       "    }\n",
       "\n",
       "    .dataframe thead th {\n",
       "        text-align: right;\n",
       "    }\n",
       "</style>\n",
       "<table border=\"1\" class=\"dataframe\">\n",
       "  <thead>\n",
       "    <tr style=\"text-align: right;\">\n",
       "      <th></th>\n",
       "      <th>Transformed Coefs</th>\n",
       "      <th>scikit Scaling</th>\n",
       "    </tr>\n",
       "    <tr>\n",
       "      <th>Date</th>\n",
       "      <th></th>\n",
       "      <th></th>\n",
       "    </tr>\n",
       "  </thead>\n",
       "  <tbody>\n",
       "    <tr>\n",
       "      <th>2015-01-31</th>\n",
       "      <td>-3.363328</td>\n",
       "      <td>-3.363328</td>\n",
       "    </tr>\n",
       "    <tr>\n",
       "      <th>2015-02-28</th>\n",
       "      <td>6.203434</td>\n",
       "      <td>6.203434</td>\n",
       "    </tr>\n",
       "    <tr>\n",
       "      <th>2015-03-31</th>\n",
       "      <td>-1.435684</td>\n",
       "      <td>-1.435684</td>\n",
       "    </tr>\n",
       "    <tr>\n",
       "      <th>2015-04-30</th>\n",
       "      <td>1.100576</td>\n",
       "      <td>1.100576</td>\n",
       "    </tr>\n",
       "    <tr>\n",
       "      <th>2015-05-31</th>\n",
       "      <td>1.053263</td>\n",
       "      <td>1.053263</td>\n",
       "    </tr>\n",
       "    <tr>\n",
       "      <th>2015-06-30</th>\n",
       "      <td>-1.765861</td>\n",
       "      <td>-1.765861</td>\n",
       "    </tr>\n",
       "    <tr>\n",
       "      <th>2015-07-31</th>\n",
       "      <td>0.969392</td>\n",
       "      <td>0.969392</td>\n",
       "    </tr>\n",
       "    <tr>\n",
       "      <th>2015-08-31</th>\n",
       "      <td>-5.859802</td>\n",
       "      <td>-5.859802</td>\n",
       "    </tr>\n",
       "    <tr>\n",
       "      <th>2015-09-30</th>\n",
       "      <td>-3.124244</td>\n",
       "      <td>-3.124244</td>\n",
       "    </tr>\n",
       "    <tr>\n",
       "      <th>2015-10-31</th>\n",
       "      <td>8.090914</td>\n",
       "      <td>8.090914</td>\n",
       "    </tr>\n",
       "  </tbody>\n",
       "</table>\n",
       "</div>"
      ],
      "text/plain": [
       "            Transformed Coefs  scikit Scaling\n",
       "Date                                         \n",
       "2015-01-31          -3.363328       -3.363328\n",
       "2015-02-28           6.203434        6.203434\n",
       "2015-03-31          -1.435684       -1.435684\n",
       "2015-04-30           1.100576        1.100576\n",
       "2015-05-31           1.053263        1.053263\n",
       "2015-06-30          -1.765861       -1.765861\n",
       "2015-07-31           0.969392        0.969392\n",
       "2015-08-31          -5.859802       -5.859802\n",
       "2015-09-30          -3.124244       -3.124244\n",
       "2015-10-31           8.090914        8.090914"
      ]
     },
     "execution_count": 19,
     "metadata": {},
     "output_type": "execute_result"
    }
   ],
   "source": [
    "df = pd.DataFrame(direct_pred, columns=[\"Transformed Coefs\"])\n",
    "df[\"scikit Scaling\"] = y_scaler.inverse_transform(np.squeeze(pred))\n",
    "df.head(10)"
   ]
  }
 ],
 "metadata": {
  "kernelspec": {
   "display_name": "Python 3 (ipykernel)",
   "language": "python",
   "name": "python3"
  },
  "language_info": {
   "codemirror_mode": {
    "name": "ipython",
    "version": 3
   },
   "file_extension": ".py",
   "mimetype": "text/x-python",
   "name": "python",
   "nbconvert_exporter": "python",
   "pygments_lexer": "ipython3",
   "version": "3.9.6"
  }
 },
 "nbformat": 4,
 "nbformat_minor": 4
}
