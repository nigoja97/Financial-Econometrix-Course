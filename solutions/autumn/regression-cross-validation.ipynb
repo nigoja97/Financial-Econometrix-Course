{
 "cells": [
  {
   "cell_type": "markdown",
   "metadata": {},
   "source": [
    "## Linear Regression: Model Selection and Cross-Validation\n",
    "\n",
    "Functions\n",
    "\n",
    "`RandomState.permute`, `sm.OLS`, `set`, `scipy.random.norm.ppf`, `np.linspace`, `np.mean`\n",
    "\n",
    "### Exercise 39\n",
    "Four portfolios we have been looking at, and considering all 8 sets of\n",
    "regressors which range from no factor to all 3 factors, which model is preferred\n",
    "by AIC, BIC, GtS and StG?"
   ]
  },
  {
   "cell_type": "code",
   "execution_count": 1,
   "metadata": {
    "execution": {
     "iopub.execute_input": "2021-09-22T10:07:21.186935Z",
     "iopub.status.busy": "2021-09-22T10:07:21.185934Z",
     "iopub.status.idle": "2021-09-22T10:07:22.756364Z",
     "shell.execute_reply": "2021-09-22T10:07:22.757363Z"
    },
    "pycharm": {
     "is_executing": false,
     "name": "#%%\n"
    }
   },
   "outputs": [],
   "source": [
    "import pandas as pd\n",
    "import statsmodels.api as sm\n",
    "\n",
    "ff = pd.read_hdf(\"data/ff-pdr.h5\", \"ff\")\n",
    "\n",
    "factors = sm.add_constant(ff.iloc[:, :3])\n",
    "portfolios = ff.iloc[:, 4:]\n",
    "portfolios = portfolios[[\"SMALL LoBM\", \"SMALL HiBM\", \"BIG LoBM\", \"BIG HiBM\"]]"
   ]
  },
  {
   "cell_type": "code",
   "execution_count": 2,
   "metadata": {
    "execution": {
     "iopub.execute_input": "2021-09-22T10:07:22.763364Z",
     "iopub.status.busy": "2021-09-22T10:07:22.762364Z",
     "iopub.status.idle": "2021-09-22T10:07:22.802364Z",
     "shell.execute_reply": "2021-09-22T10:07:22.802364Z"
    },
    "pycharm": {
     "is_executing": false,
     "name": "#%%\n"
    }
   },
   "outputs": [
    {
     "name": "stdout",
     "output_type": "stream",
     "text": [
      "For SMALL LoBM, AIC selects ('const', 'Mkt-RF', 'SMB', 'HML')\n",
      "For SMALL LoBM, BIC selects ('const', 'Mkt-RF', 'SMB', 'HML')\n",
      "For SMALL HiBM, AIC selects ('const', 'Mkt-RF', 'SMB', 'HML')\n",
      "For SMALL HiBM, BIC selects ('const', 'Mkt-RF', 'SMB', 'HML')\n",
      "For BIG LoBM, AIC selects ('const', 'Mkt-RF', 'SMB', 'HML')\n",
      "For BIG LoBM, BIC selects ('const', 'Mkt-RF', 'SMB', 'HML')\n",
      "For BIG HiBM, AIC selects ('const', 'Mkt-RF', 'SMB', 'HML')\n",
      "For BIG HiBM, BIC selects ('const', 'Mkt-RF', 'SMB', 'HML')\n"
     ]
    }
   ],
   "source": [
    "from itertools import product\n",
    "\n",
    "import numpy as np\n",
    "\n",
    "true_false = [True, False]\n",
    "params = [true_false] * 3\n",
    "choices = list(product(*params))\n",
    "\n",
    "for column in portfolios:\n",
    "    results = {}\n",
    "    for i in range(8):\n",
    "        sel = [True] + list(choices[i])\n",
    "        x = factors.loc[:, sel]\n",
    "        variables = []\n",
    "        for j in range(4):\n",
    "            if sel[j]:\n",
    "                variables.append(factors.columns[j])\n",
    "        names = tuple(variables)\n",
    "        res = sm.OLS(portfolios[column], x).fit()\n",
    "        results[names] = [res.aic, res.bic]\n",
    "    ic = pd.DataFrame(results, index=[\"AIC\", \"BIC\"]).T\n",
    "\n",
    "    aic_model = ic.sort_values(\"AIC\").index[0]\n",
    "    bic_model = ic.sort_values(\"BIC\").index[0]\n",
    "    print(f\"For {column}, AIC selects {aic_model}\")\n",
    "    print(f\"For {column}, BIC selects {bic_model}\")"
   ]
  },
  {
   "cell_type": "code",
   "execution_count": 3,
   "metadata": {
    "execution": {
     "iopub.execute_input": "2021-09-22T10:07:22.809366Z",
     "iopub.status.busy": "2021-09-22T10:07:22.807366Z",
     "iopub.status.idle": "2021-09-22T10:07:22.850365Z",
     "shell.execute_reply": "2021-09-22T10:07:22.850365Z"
    },
    "pycharm": {
     "is_executing": false,
     "name": "#%%\n"
    }
   },
   "outputs": [
    {
     "name": "stdout",
     "output_type": "stream",
     "text": [
      "For SMALL LoBM, StG selects ['SMB', 'Mkt-RF']\n",
      "For SMALL HiBM, StG selects ['Mkt-RF', 'SMB', 'HML']\n",
      "For BIG LoBM, StG selects ['Mkt-RF', 'HML', 'const']\n",
      "For BIG HiBM, StG selects ['Mkt-RF', 'HML']\n"
     ]
    }
   ],
   "source": [
    "from scipy import stats\n",
    "\n",
    "cv = stats.norm.ppf(0.995)\n",
    "\n",
    "for column in portfolios:\n",
    "    included = []\n",
    "    excluded = factors.columns\n",
    "    y = portfolios[column]\n",
    "    for i in range(3):\n",
    "        tstats = {}\n",
    "        for next_var in excluded:\n",
    "            col_names = included + [next_var]\n",
    "            x = factors.loc[:, col_names]\n",
    "            res = sm.OLS(y, x).fit(cov_type=\"HC0\")\n",
    "            tstats[next_var] = res.tvalues.iloc[-1]\n",
    "        tstats = pd.Series(tstats)\n",
    "        if tstats.abs().max() > cv:\n",
    "            sorted_tstats = tstats.abs().sort_values()\n",
    "            included = included + [sorted_tstats.index[-1]]\n",
    "        else:\n",
    "            break\n",
    "        excluded = set(factors.columns).difference(included)\n",
    "    print(f\"For {column}, StG selects {included}\")"
   ]
  },
  {
   "cell_type": "markdown",
   "metadata": {
    "pycharm": {
     "name": "#%% md\n"
    }
   },
   "source": [
    "#### Explanation\n",
    "\n",
    "For each of the portfolios, we start with a list of included variables \n",
    "that includes all three factors. We can then use a loop to see if any\n",
    "of the included variables have insignificant t-stats.  We first create a\n",
    "temporary set of regressors that uses the factors are are in `included`.\n",
    "We can then check if any of the t-stats are less than our critical value\n",
    "that is defined above.  If one is less than the value, we need to drop the\n",
    "variable. We sort the absolute t-stats so that the minimum is first,\n",
    "and then get the variable name from the index. Finally, we use `.remove`\n",
    "to remove this name from the list of included variables. \n",
    "\n",
    "If no t-stat is less than our critical value, we can call `break` which \n",
    "terminates the loop early. "
   ]
  },
  {
   "cell_type": "code",
   "execution_count": 4,
   "metadata": {
    "execution": {
     "iopub.execute_input": "2021-09-22T10:07:22.854365Z",
     "iopub.status.busy": "2021-09-22T10:07:22.854365Z",
     "iopub.status.idle": "2021-09-22T10:07:22.866364Z",
     "shell.execute_reply": "2021-09-22T10:07:22.866364Z"
    },
    "pycharm": {
     "is_executing": false,
     "name": "#%%\n"
    }
   },
   "outputs": [
    {
     "name": "stdout",
     "output_type": "stream",
     "text": [
      "For SMALL LoBM, GtS selects ['Mkt-RF', 'SMB']\n",
      "For SMALL HiBM, GtS selects ['const', 'Mkt-RF', 'SMB', 'HML']\n",
      "For BIG LoBM, GtS selects ['const', 'Mkt-RF', 'SMB', 'HML']\n",
      "For BIG HiBM, GtS selects ['Mkt-RF', 'HML']\n"
     ]
    }
   ],
   "source": [
    "for column in portfolios:\n",
    "    included = list(factors.columns)\n",
    "    y = portfolios[column]\n",
    "    for i in range(3):\n",
    "        x = factors.loc[:, included]\n",
    "        res = sm.OLS(y, x).fit(cov_type=\"HC0\")\n",
    "        tstats = res.tvalues\n",
    "        if tstats.abs().min() < cv:\n",
    "            sorted_tstats = tstats.abs().sort_values()\n",
    "            remove = sorted_tstats.index[0]\n",
    "            included.remove(remove)\n",
    "        else:\n",
    "            break\n",
    "    print(f\"For {column}, GtS selects {included}\")"
   ]
  },
  {
   "cell_type": "markdown",
   "metadata": {},
   "source": [
    "### Exercise 40\n",
    "Cross-validation is a method of analyzing the in-sample forecasting ability of a\n",
    "cross-sectional model by using $\\alpha\\%$ of the data to estimate the model and\n",
    "then measuring the fit using the remaining $100-\\alpha\\%$. The most common forms\n",
    "are 5- and 10-fold cross-validation which use $\\alpha=20\\%$ and $10\\%$, respectively.\n",
    "k-fold cross validation is implemented by randomly grouping the data into\n",
    "k-equally-sized groups, using k-1 of the groups to estimate parameters, and\n",
    "then evaluating using the bin that was held out. This is then repeated so that\n",
    "each bin is held out.\n",
    "\n",
    "1. Implement cross-validation using the 5- and 10-fold methods for all 8 models.\n",
    "2. For each model, compute the full-sample sum of squared errors as well as the\n",
    "   sum-of-squared errors using the held-out sample. Note that all data points\n",
    "   will appear exactly once in both of these sum or squared errors. What happens\n",
    "   to the cross-validated $R^{2}$ when computed on the held out sample when compared\n",
    "   to the full-sample $R^{2}$? (k-fold cross validated SSE by the TSS)."
   ]
  },
  {
   "cell_type": "code",
   "execution_count": 5,
   "metadata": {
    "execution": {
     "iopub.execute_input": "2021-09-22T10:07:22.873365Z",
     "iopub.status.busy": "2021-09-22T10:07:22.873365Z",
     "iopub.status.idle": "2021-09-22T10:07:23.291365Z",
     "shell.execute_reply": "2021-09-22T10:07:23.291365Z"
    },
    "pycharm": {
     "is_executing": false,
     "name": "#%%\n"
    },
    "tags": []
   },
   "outputs": [
    {
     "name": "stdout",
     "output_type": "stream",
     "text": [
      "\n",
      "For SMALL LoBM, CV selects ('const', 'Mkt-RF', 'SMB')\n",
      "The MSEs are 52.85386482816536 (CV) and 51.222883297810604 (full sample)\n"
     ]
    },
    {
     "name": "stdout",
     "output_type": "stream",
     "text": [
      "The R2s are 0.6356197286525537 (CV) and 0.646863892055277 (full sample)\n"
     ]
    },
    {
     "name": "stdout",
     "output_type": "stream",
     "text": [
      "\n",
      "For SMALL HiBM, CV selects ('const', 'Mkt-RF', 'SMB', 'HML')\n"
     ]
    },
    {
     "name": "stdout",
     "output_type": "stream",
     "text": [
      "The MSEs are 6.426835905240936 (CV) and 6.128211437032857 (full sample)\n",
      "The R2s are 0.9253623413155597 (CV) and 0.9288303979863021 (full sample)\n",
      "\n",
      "For BIG LoBM, CV selects ('const', 'Mkt-RF', 'SMB', 'HML')\n"
     ]
    },
    {
     "name": "stdout",
     "output_type": "stream",
     "text": [
      "The MSEs are 1.3608882006895664 (CV) and 1.3327042201900183 (full sample)\n",
      "The R2s are 0.9519271331629474 (CV) and 0.952922721735768 (full sample)\n",
      "\n",
      "For BIG HiBM, CV selects ('const', 'Mkt-RF', 'SMB', 'HML')\n"
     ]
    },
    {
     "name": "stdout",
     "output_type": "stream",
     "text": [
      "The MSEs are 12.339551668779434 (CV) and 12.056800662915604 (full sample)\n",
      "The R2s are 0.8310677431261532 (CV) and 0.8349386913450241 (full sample)\n"
     ]
    }
   ],
   "source": [
    "folds = 10\n",
    "rs = np.random.RandomState(19991231)\n",
    "nobs = portfolios.shape[0]\n",
    "order = list(rs.permutation(nobs))\n",
    "block = nobs / folds\n",
    "\n",
    "for column in portfolios:\n",
    "    portfolio = portfolios[column]\n",
    "    model_errors = {}\n",
    "    for j in range(8):\n",
    "        sel = [True] + list(choices[j])\n",
    "        model_factors = factors.loc[:, sel]\n",
    "        errors = portfolio.copy()\n",
    "        for i in range(folds):\n",
    "            include = order[: int(i * block)] + order[int((i + 1) * block) :]\n",
    "            hold_out = order[int(i * block) : int((i + 1) * block)]\n",
    "            y = portfolio.iloc[include]\n",
    "            x = model_factors.iloc[include]\n",
    "            mod = sm.OLS(y, x)\n",
    "            res = mod.fit()\n",
    "            y_hat = res.predict(model_factors.iloc[hold_out])\n",
    "            err = portfolio.iloc[hold_out] - y_hat\n",
    "            errors.loc[err.index] = err\n",
    "        model_name = tuple(factors.columns[sel])\n",
    "        model_errors[model_name] = errors\n",
    "    model_errors = pd.DataFrame(model_errors)\n",
    "    mse = (model_errors ** 2).mean()\n",
    "    mse = mse.sort_values()\n",
    "\n",
    "    # Get rid of any missing values\n",
    "    selected_factors = pd.Series(mse.index[0]).dropna()\n",
    "    x = factors[selected_factors]\n",
    "    res = sm.OLS(portfolios[column], x).fit()\n",
    "    print()\n",
    "    print(f\"For {column}, CV selects {tuple(selected_factors)}\")\n",
    "    print(f\"The MSEs are {mse.iloc[0]} (CV) and {res.mse_resid} (full sample)\")\n",
    "    print(\n",
    "        f\"The R2s are {1 - mse.iloc[0] / res.mse_total} (CV) and {1 - res.mse_resid / res.mse_total} (full sample)\"\n",
    "    )"
   ]
  }
 ],
 "metadata": {
  "kernelspec": {
   "display_name": "Python 3 (ipykernel)",
   "language": "python",
   "name": "python3"
  },
  "language_info": {
   "codemirror_mode": {
    "name": "ipython",
    "version": 3
   },
   "file_extension": ".py",
   "mimetype": "text/x-python",
   "name": "python",
   "nbconvert_exporter": "python",
   "pygments_lexer": "ipython3",
   "version": "3.9.6"
  },
  "pycharm": {
   "stem_cell": {
    "cell_type": "raw",
    "metadata": {
     "collapsed": false
    },
    "source": []
   }
  }
 },
 "nbformat": 4,
 "nbformat_minor": 4
}
